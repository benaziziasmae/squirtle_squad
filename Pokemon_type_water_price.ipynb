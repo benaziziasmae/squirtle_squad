<!DOCTYPE html>
<html lang="en" data-color-mode="dark" data-light-theme="light" data-dark-theme="dark">
  <head>
    <meta charset="utf-8">
  <link rel="dns-prefetch" href="https://github.githubassets.com">
  <link rel="dns-prefetch" href="https://avatars.githubusercontent.com">
  <link rel="dns-prefetch" href="https://github-cloud.s3.amazonaws.com">
  <link rel="dns-prefetch" href="https://user-images.githubusercontent.com/">



  <link crossorigin="anonymous" media="all" integrity="sha512-LIOdgMPCoEgaBOBpRHSdzMIXC0BQl+3B20hYRhyoDICAcS6GTJ4jRrobBZhDZWO4VGNzMZ56U9kllzZzrsc34Q==" rel="stylesheet" href="https://github.githubassets.com/assets/frameworks-2c839d80c3c2a0481a04e06944749dcc.css" />
  
    <link crossorigin="anonymous" media="all" integrity="sha512-lI/VENtHpfFUIy6OGmW/BLII0MiAd+aeubbeiTf0PNTV1OyKuqCDNVr9K7o9Nt/Bhugnv9lGx+zlmtOMDlQcIg==" rel="stylesheet" href="https://github.githubassets.com/assets/behaviors-948fd510db47a5f154232e8e1a65bf04.css" />
    
    
    
    <link crossorigin="anonymous" media="all" integrity="sha512-XlF1FCbTe5z3mKdNrNdil3d2e1icXEfpGKv18/G+CEyJUkD1CnVqfm7BsudBff9HkWvsxrY4uhqnYcJUvyFSPg==" rel="stylesheet" href="https://github.githubassets.com/assets/github-5e51751426d37b9cf798a74dacd76297.css" />

  <script crossorigin="anonymous" defer="defer" integrity="sha512-CzeY4A6TiG4fGZSWZU8FxmzFFmcQFoPpArF0hkH0/J/S7UL4eed/LKEXMQXfTwiG5yEJBI+9BdKG8KQJNbhcIQ==" type="application/javascript" src="https://github.githubassets.com/assets/environment-0b3798e0.js"></script>
    <script crossorigin="anonymous" defer="defer" integrity="sha512-xD/II79VugfUBs1ZVmd0ea7wmmLeCyIkPkWprb/jviEdWsOc5n7pJ7Wbn6h70b5CEvAQ5rp9EG3EKBfV34Cqxg==" type="application/javascript" src="https://github.githubassets.com/assets/chunk-frameworks-c43fc823.js"></script>
    <script crossorigin="anonymous" defer="defer" integrity="sha512-y5F197jdxNz5F7sodSCZT52XMQ3xi0k+eYtZi0QRZj4T0cjgxbiOYTK0zHrmI/kWBIESn3wzC2m0I5BnYXlU3g==" type="application/javascript" src="https://github.githubassets.com/assets/chunk-vendor-cb9175f7.js"></script>
  
  <script crossorigin="anonymous" defer="defer" integrity="sha512-rGBOWDWNX8TL7ft3SSL1kbH+UgsFmCsBnEYEbGJVs6dVgDiZk5pJaUd++IFZN90yVkOvnGlIblq8AX7oQh9Abw==" type="application/javascript" src="https://github.githubassets.com/assets/behaviors-ac604e58.js"></script>
  
    <script crossorigin="anonymous" defer="defer" integrity="sha512-3bd8mJ8UwCN6R3w54+WeW4MZAjKVOAObpQuYq+CHAV9E2reuhtEPNK3yA/lPmPnjNY8RcxBv86uSXYtpmuQB2g==" type="application/javascript" data-module-id="./chunk-animate-on-scroll.js" data-src="https://github.githubassets.com/assets/chunk-animate-on-scroll-ddb77c98.js"></script>
    <script crossorigin="anonymous" defer="defer" integrity="sha512-ct3QiK2mvpg7zor9R2psdWnNMM2K32RU4RGRB/7yA5FyZ8H4iY6SNynXc7UaJqzBx6NaReg3GsWJPwW3kgAAig==" type="application/javascript" data-module-id="./chunk-codemirror.js" data-src="https://github.githubassets.com/assets/chunk-codemirror-72ddd088.js"></script>
    <script crossorigin="anonymous" defer="defer" integrity="sha512-EKOvqJ9uTatAt87WxU+OSS4mi7gMUszFbGo4aPErQkjpWLXnrPSeZvK5ngU8OYoIoiVOq+v8dA3C6MF/z2d/kA==" type="application/javascript" data-module-id="./chunk-color-modes.js" data-src="https://github.githubassets.com/assets/chunk-color-modes-10a3afa8.js"></script>
    <script crossorigin="anonymous" defer="defer" integrity="sha512-zkYZSjUFqSifB+Lt76jclFMrfqpcPqevT801RZcoBNCZHRTBKcFrW9OyJoPOzKFv+fZVDRnqdqGsuIv5KOIgZg==" type="application/javascript" data-module-id="./chunk-contributions-spider-graph.js" data-src="https://github.githubassets.com/assets/chunk-contributions-spider-graph-ce46194a.js"></script>
    <script crossorigin="anonymous" defer="defer" integrity="sha512-6j/oSF+kbW+yetNPvI684VzAu9pzug6Vj2h+3u1LdCuRhR4jnuiHZfeQKls3nxcT/S3H+oIt7FtigE/aeoj+gg==" type="application/javascript" data-module-id="./chunk-drag-drop.js" data-src="https://github.githubassets.com/assets/chunk-drag-drop-ea3fe848.js"></script>
    <script crossorigin="anonymous" defer="defer" integrity="sha512-VSSd+Yzi2iMS+pibY6hD/WdypxAEdob5F2RMKxuKcAHS2EpFYJPeTXoVxt0NXg03tfj2dka2mEtHS+vjpYSaDw==" type="application/javascript" data-module-id="./chunk-edit-hook-secret-element.js" data-src="https://github.githubassets.com/assets/chunk-edit-hook-secret-element-55249df9.js"></script>
    <script crossorigin="anonymous" defer="defer" integrity="sha512-N+ziqJjVMfWiqeVHdayDHpNRlG5HsF+cgV+pFnMDoTJuvBzgw+ndsepe4NcKAxIS3WMvzMaQcYmd2vrIaoAJVg==" type="application/javascript" data-module-id="./chunk-edit.js" data-src="https://github.githubassets.com/assets/chunk-edit-37ece2a8.js"></script>
    <script crossorigin="anonymous" defer="defer" integrity="sha512-aiqMIGGZGo8AQMjcoImKPMTsZVVRl6htCSY7BpRmpGPG/AF+Wq+P/Oj/dthWQOIk9cCNMPEas7O2zAR6oqn0tA==" type="application/javascript" data-module-id="./chunk-emoji-picker-element.js" data-src="https://github.githubassets.com/assets/chunk-emoji-picker-element-6a2a8c20.js"></script>
    <script crossorigin="anonymous" defer="defer" integrity="sha512-ejCT9r9E93nir+wK3PibZdMK0J3VXEkbwlgdnOnaUNoiJDI60BMtFt1QwjMU/rLXcjnH0xvgVFINGBFkzvTmRw==" type="application/javascript" data-module-id="./chunk-filter-input.js" data-src="https://github.githubassets.com/assets/chunk-filter-input-7a3093f6.js"></script>
    <script crossorigin="anonymous" defer="defer" integrity="sha512-Pyv51bRTD1DF6xYlEldJWqiowLREULuqzOv8+Y4WKX8gMByV8658t+XNx9DDsBoRDZK/48Kamy13zFCKmHAFgw==" type="application/javascript" data-module-id="./chunk-insights-graph.js" data-src="https://github.githubassets.com/assets/chunk-insights-graph-3f2bf9d5.js"></script>
    <script crossorigin="anonymous" defer="defer" integrity="sha512-Y+VVFzGHo9J5bf4Mrn+RGrh1+IExdybA3C1QqPha3UwkV9RZ75jZgV4DsujViAF0iT9OrLYYHvPk9V6QiXjp3g==" type="application/javascript" data-module-id="./chunk-invitations.js" data-src="https://github.githubassets.com/assets/chunk-invitations-63e55517.js"></script>
    <script crossorigin="anonymous" defer="defer" integrity="sha512-mMOvER8Uml4WMYbXv8BaahVq9eF1v5Hu7M9/3oPlOFPmTJGH+TmvcRPt8fddj86urb+Ri+vlqotFspA/4STDsQ==" type="application/javascript" data-module-id="./chunk-jump-to.js" data-src="https://github.githubassets.com/assets/chunk-jump-to-98c3af11.js"></script>
    <script crossorigin="anonymous" defer="defer" integrity="sha512-Lo0j1owPfYM0txt85KwGzF1PQJLvLFGbRJoASd5ZKMQAV9ZSDg5bVm5UWBAz7glGzw1pkiUD2bCMs2wqyf+CEA==" type="application/javascript" data-module-id="./chunk-notification-list-focus.js" data-src="https://github.githubassets.com/assets/chunk-notification-list-focus-2e8d23d6.js"></script>
    <script crossorigin="anonymous" defer="defer" integrity="sha512-ma0OOy3nj0c1cqBx0BkcmIFsLqcSZ+MIukQxyEFM/OWTzZpG+QMgOoWPAHZz43M6fyjAUG1jH6c/6LPiiKPCyw==" type="application/javascript" data-module-id="./chunk-profile-pins-element.js" data-src="https://github.githubassets.com/assets/chunk-profile-pins-element-99ad0e3b.js"></script>
    <script crossorigin="anonymous" defer="defer" integrity="sha512-dmP0pnRItCP7ydEXVipp98lz/HaQtHyG00kfd8lMS5AoLbDwGfqXPjj7Q0qLGpPc7lBkySNNHIeEPF7NblctEA==" type="application/javascript" data-module-id="./chunk-readme-toc-element.js" data-src="https://github.githubassets.com/assets/chunk-readme-toc-element-7663f4a6.js"></script>
    <script crossorigin="anonymous" defer="defer" integrity="sha512-F0E2A5YYSz+7eA/RyQ/vYtJzeK2sjNyyneVBqru/CPoRXGBiAcJ2tpN2MWLxkNCqirt88h/BMCAF/7YTZ2qZJA==" type="application/javascript" data-module-id="./chunk-ref-selector.js" data-src="https://github.githubassets.com/assets/chunk-ref-selector-17413603.js"></script>
    <script crossorigin="anonymous" defer="defer" integrity="sha512-Zii9oRdZ6q2QDNjL5A+me7jwJjMLvs1NiQNHmajUZnn4t9shcBDb4F8l/PQZW26eYfe5065oM7lIOSmbMinA7Q==" type="application/javascript" data-module-id="./chunk-responsive-underlinenav.js" data-src="https://github.githubassets.com/assets/chunk-responsive-underlinenav-6628bda1.js"></script>
    <script crossorigin="anonymous" defer="defer" integrity="sha512-9WNXtB07IyWypiPmkuucspwog4mme9q5GKGMSgd7FI0DPimmg/pEw+aaAofFV1vuWMt9I8H5QpsVtlbHGg1YBA==" type="application/javascript" data-module-id="./chunk-runner-groups.js" data-src="https://github.githubassets.com/assets/chunk-runner-groups-f56357b4.js"></script>
    <script crossorigin="anonymous" defer="defer" integrity="sha512-fIq9Mn7jY/bHQXnsmh+VejpDnaO+d/FDxsp+4CuZtdNLrLuO+dQCjh+m6Yd8GCYD2Cy6DWbCEyM+mH2dkB2H9A==" type="application/javascript" data-module-id="./chunk-sortable-behavior.js" data-src="https://github.githubassets.com/assets/chunk-sortable-behavior-7c8abd32.js"></script>
    <script crossorigin="anonymous" defer="defer" integrity="sha512-WK8VXw3lfUQ/VRW0zlgKPhcMUqH0uTnB/KzePUPdZhCm/HpxfXXHKTGvj5C0Oex7+zbIM2ECzULbtTCT4ug3yg==" type="application/javascript" data-module-id="./chunk-toast.js" data-src="https://github.githubassets.com/assets/chunk-toast-58af155f.js"></script>
    <script crossorigin="anonymous" defer="defer" integrity="sha512-vgHJEmEJxNmHucGbVY8bEUoOYo5/ZwpQ69rU8Dld89daWJ54uad9lNptxq32F8pnbHhdngw9lohNEbMbjmj5AQ==" type="application/javascript" data-module-id="./chunk-tweetsodium.js" data-src="https://github.githubassets.com/assets/chunk-tweetsodium-be01c912.js"></script>
    <script crossorigin="anonymous" defer="defer" integrity="sha512-aSxfTHAZj9wv7n08DxgAKkNg7jhiTo4yKKbDqLGxcDxUk/al571Y2ZSsOmLJ0Vh8cuAL8tW+JgX1t0JeKfyfaA==" type="application/javascript" data-module-id="./chunk-user-status-submit.js" data-src="https://github.githubassets.com/assets/chunk-user-status-submit-692c5f4c.js"></script>
  
  <script crossorigin="anonymous" defer="defer" integrity="sha512-I5SAlLUvAZQlXZ7aEFN4op3XJCAOdtfIC6UUTWGc2j8dK7xMQM0tv3iWt6EYGB/Q+M1dUu9tq3OO0fMmy/80NA==" type="application/javascript" src="https://github.githubassets.com/assets/repositories-23948094.js"></script>
<script crossorigin="anonymous" defer="defer" integrity="sha512-jy+NLOatJQZpW7XGRwNGqglHWlfwfOZi1CXUKndQz3c9Q9On9zDGvNmWBr5fAcCQDult8uzHY+1mnmys5uHK2Q==" type="application/javascript" src="https://github.githubassets.com/assets/diffs-8f2f8d2c.js"></script>

  <meta name="viewport" content="width=device-width">
  
  <title>squirtle_squad/Pokemon_type_water_price.ipynb at main · benaziziasmae/squirtle_squad</title>
    <meta name="description" content="Contribute to benaziziasmae/squirtle_squad development by creating an account on GitHub.">
    <link rel="search" type="application/opensearchdescription+xml" href="/opensearch.xml" title="GitHub">
  <link rel="fluid-icon" href="https://github.com/fluidicon.png" title="GitHub">
  <meta property="fb:app_id" content="1401488693436528">
  <meta name="apple-itunes-app" content="app-id=1477376905" />
    <meta name="twitter:image:src" content="https://opengraph.githubassets.com/bea108865024cff67c19c90f97c354649aff1776eb08c1b150d36eeb5514a896/benaziziasmae/squirtle_squad" /><meta name="twitter:site" content="@github" /><meta name="twitter:card" content="summary_large_image" /><meta name="twitter:title" content="benaziziasmae/squirtle_squad" /><meta name="twitter:description" content="Contribute to benaziziasmae/squirtle_squad development by creating an account on GitHub." />
    <meta property="og:image" content="https://opengraph.githubassets.com/bea108865024cff67c19c90f97c354649aff1776eb08c1b150d36eeb5514a896/benaziziasmae/squirtle_squad" /><meta property="og:image:alt" content="Contribute to benaziziasmae/squirtle_squad development by creating an account on GitHub." /><meta property="og:image:width" content="1200" /><meta property="og:image:height" content="600" /><meta property="og:site_name" content="GitHub" /><meta property="og:type" content="object" /><meta property="og:title" content="benaziziasmae/squirtle_squad" /><meta property="og:url" content="https://github.com/benaziziasmae/squirtle_squad" /><meta property="og:description" content="Contribute to benaziziasmae/squirtle_squad development by creating an account on GitHub." />



    

  <link rel="assets" href="https://github.githubassets.com/">
    <link rel="shared-web-socket" href="wss://alive.github.com/_sockets/u/55547180/ws?session=eyJ2IjoiVjMiLCJ1Ijo1NTU0NzE4MCwicyI6NjgyOTQyNjQxLCJjIjozMjEyODQwNTI3LCJ0IjoxNjIxMzAxNTUyfQ==--8cc0b23e7a2479f9ceffd361bbedfc598f1aecdb067d027a9b9f1c510bc62b7d" data-refresh-url="/_alive" data-session-id="2974a260a589292b248c356cddf8efc5801652ee588f6ab11d0b6be6fcfc3e66">
    <link rel="shared-web-socket-src" href="/socket-worker-3f088aa2.js">
  <link rel="sudo-modal" href="/sessions/sudo_modal">

  <meta name="request-id" content="DEB0:740E:131CC83:282A925:60A31928" data-pjax-transient="true" /><meta name="html-safe-nonce" content="4afb792716084fa3c5d0a113079db72d97f3ca2ef7c08f23f875d370ee486d89" data-pjax-transient="true" /><meta name="visitor-payload" content="eyJyZWZlcnJlciI6Imh0dHBzOi8vZ2l0aHViLmNvbS9iZW5heml6aWFzbWFlL3NxdWlydGxlX3NxdWFkIiwicmVxdWVzdF9pZCI6IkRFQjA6NzQwRToxMzFDQzgzOjI4MkE5MjU6NjBBMzE5MjgiLCJ2aXNpdG9yX2lkIjoiNDI4NjM0NDM1MTkwODA1MjUyOSIsInJlZ2lvbl9lZGdlIjoiaWFkIiwicmVnaW9uX3JlbmRlciI6ImlhZCJ9" data-pjax-transient="true" /><meta name="visitor-hmac" content="8582c7ffc8f97d41291697600b5f4c35f0a4ea9a080df1eb61713459eacda82c" data-pjax-transient="true" />

    <meta name="hovercard-subject-tag" content="repository:366905848" data-pjax-transient>


  <meta name="github-keyboard-shortcuts" content="repository,source-code" data-pjax-transient="true" />

  

  <meta name="selected-link" value="repo_source" data-pjax-transient>

    <meta name="google-site-verification" content="c1kuD-K2HIVF635lypcsWPoD4kilo5-jA_wBFyT4uMY">
  <meta name="google-site-verification" content="KT5gs8h0wvaagLKAVWq8bbeNwnZZK1r1XQysX3xurLU">
  <meta name="google-site-verification" content="ZzhVyEFwb7w3e0-uOTltm8Jsck2F5StVihD0exw2fsA">
  <meta name="google-site-verification" content="GXs5KoUUkNCoaAZn7wPN-t01Pywp9M3sEjnt_3_ZWPc">

  <meta name="octolytics-host" content="collector.githubapp.com" /><meta name="octolytics-app-id" content="github" /><meta name="octolytics-event-url" content="https://collector.githubapp.com/github-external/browser_event" /><meta name="octolytics-actor-id" content="55547180" /><meta name="octolytics-actor-login" content="iFan13" /><meta name="octolytics-actor-hash" content="230258fd335e89f9021c351939c2072fadf16f6b425c5262db30afe22238852e" />

  <meta name="analytics-location" content="/&lt;user-name&gt;/&lt;repo-name&gt;/blob/show" data-pjax-transient="true" />

  



  <meta name="optimizely-datafile" content="{&quot;version&quot;: &quot;4&quot;, &quot;rollouts&quot;: [], &quot;typedAudiences&quot;: [], &quot;anonymizeIP&quot;: true, &quot;projectId&quot;: &quot;16737760170&quot;, &quot;variables&quot;: [], &quot;featureFlags&quot;: [], &quot;experiments&quot;: [{&quot;status&quot;: &quot;Running&quot;, &quot;audienceIds&quot;: [], &quot;variations&quot;: [{&quot;variables&quot;: [], &quot;id&quot;: &quot;20106410318&quot;, &quot;key&quot;: &quot;en&quot;}, {&quot;variables&quot;: [], &quot;id&quot;: &quot;20122000362&quot;, &quot;key&quot;: &quot;ko&quot;}], &quot;id&quot;: &quot;20121990335&quot;, &quot;key&quot;: &quot;ko_homepage_translation&quot;, &quot;layerId&quot;: &quot;20100420349&quot;, &quot;trafficAllocation&quot;: [{&quot;entityId&quot;: &quot;20106410318&quot;, &quot;endOfRange&quot;: 5000}, {&quot;entityId&quot;: &quot;20122000362&quot;, &quot;endOfRange&quot;: 10000}], &quot;forcedVariations&quot;: {}}, {&quot;status&quot;: &quot;Running&quot;, &quot;audienceIds&quot;: [], &quot;variations&quot;: [{&quot;variables&quot;: [], &quot;id&quot;: &quot;20227754799&quot;, &quot;key&quot;: &quot;control&quot;}, {&quot;variables&quot;: [], &quot;id&quot;: &quot;20233267869&quot;, &quot;key&quot;: &quot;treatment&quot;}], &quot;id&quot;: &quot;20194668672&quot;, &quot;key&quot;: &quot;recommended_plan_in_signup&quot;, &quot;layerId&quot;: &quot;20231804245&quot;, &quot;trafficAllocation&quot;: [{&quot;entityId&quot;: &quot;20233267869&quot;, &quot;endOfRange&quot;: 2500}, {&quot;entityId&quot;: &quot;&quot;, &quot;endOfRange&quot;: 5000}, {&quot;entityId&quot;: &quot;20227754799&quot;, &quot;endOfRange&quot;: 7500}, {&quot;entityId&quot;: &quot;&quot;, &quot;endOfRange&quot;: 10000}], &quot;forcedVariations&quot;: {&quot;d0c8cbf56b61c99517936207d280de0c&quot;: &quot;treatment&quot;}}, {&quot;status&quot;: &quot;Running&quot;, &quot;audienceIds&quot;: [], &quot;variations&quot;: [{&quot;variables&quot;: [], &quot;id&quot;: &quot;20233300304&quot;, &quot;key&quot;: &quot;launch_code_variation&quot;}, {&quot;variables&quot;: [], &quot;id&quot;: &quot;20227370325&quot;, &quot;key&quot;: &quot;control&quot;}], &quot;id&quot;: &quot;20206000276&quot;, &quot;key&quot;: &quot;launch_code_verification&quot;, &quot;layerId&quot;: &quot;20233240262&quot;, &quot;trafficAllocation&quot;: [{&quot;entityId&quot;: &quot;20233300304&quot;, &quot;endOfRange&quot;: 5000}, {&quot;entityId&quot;: &quot;20233300304&quot;, &quot;endOfRange&quot;: 10000}], &quot;forcedVariations&quot;: {}}, {&quot;status&quot;: &quot;Running&quot;, &quot;audienceIds&quot;: [], &quot;variations&quot;: [{&quot;variables&quot;: [], &quot;id&quot;: &quot;20236992340&quot;, &quot;key&quot;: &quot;usd&quot;}, {&quot;variables&quot;: [], &quot;id&quot;: &quot;20184442182&quot;, &quot;key&quot;: &quot;localized_currency&quot;}], &quot;id&quot;: &quot;20233233507&quot;, &quot;key&quot;: &quot;local_currency_pricing&quot;, &quot;layerId&quot;: &quot;20212472765&quot;, &quot;trafficAllocation&quot;: [{&quot;entityId&quot;: &quot;20184442182&quot;, &quot;endOfRange&quot;: 5000}, {&quot;entityId&quot;: &quot;20236992340&quot;, &quot;endOfRange&quot;: 10000}], &quot;forcedVariations&quot;: {&quot;667685045.1617740930&quot;: &quot;localized_currency&quot;}}], &quot;audiences&quot;: [{&quot;conditions&quot;: &quot;[\&quot;or\&quot;, {\&quot;match\&quot;: \&quot;exact\&quot;, \&quot;name\&quot;: \&quot;$opt_dummy_attribute\&quot;, \&quot;type\&quot;: \&quot;custom_attribute\&quot;, \&quot;value\&quot;: \&quot;$opt_dummy_value\&quot;}]&quot;, &quot;id&quot;: &quot;$opt_dummy_audience&quot;, &quot;name&quot;: &quot;Optimizely-Generated Audience for Backwards Compatibility&quot;}], &quot;groups&quot;: [], &quot;attributes&quot;: [{&quot;id&quot;: &quot;16822470375&quot;, &quot;key&quot;: &quot;user_id&quot;}, {&quot;id&quot;: &quot;17143601254&quot;, &quot;key&quot;: &quot;spammy&quot;}, {&quot;id&quot;: &quot;18175660309&quot;, &quot;key&quot;: &quot;organization_plan&quot;}, {&quot;id&quot;: &quot;18813001570&quot;, &quot;key&quot;: &quot;is_logged_in&quot;}, {&quot;id&quot;: &quot;19073851829&quot;, &quot;key&quot;: &quot;geo&quot;}, {&quot;id&quot;: &quot;20175462351&quot;, &quot;key&quot;: &quot;requestedCurrency&quot;}], &quot;botFiltering&quot;: false, &quot;accountId&quot;: &quot;16737760170&quot;, &quot;events&quot;: [{&quot;experimentIds&quot;: [], &quot;id&quot;: &quot;17911811441&quot;, &quot;key&quot;: &quot;hydro_click.dashboard.teacher_toolbox_cta&quot;}, {&quot;experimentIds&quot;: [], &quot;id&quot;: &quot;18124116703&quot;, &quot;key&quot;: &quot;submit.organizations.complete_sign_up&quot;}, {&quot;experimentIds&quot;: [], &quot;id&quot;: &quot;18145892387&quot;, &quot;key&quot;: &quot;no_metric.tracked_outside_of_optimizely&quot;}, {&quot;experimentIds&quot;: [], &quot;id&quot;: &quot;18178755568&quot;, &quot;key&quot;: &quot;click.org_onboarding_checklist.add_repo&quot;}, {&quot;experimentIds&quot;: [], &quot;id&quot;: &quot;18180553241&quot;, &quot;key&quot;: &quot;submit.repository_imports.create&quot;}, {&quot;experimentIds&quot;: [], &quot;id&quot;: &quot;18186103728&quot;, &quot;key&quot;: &quot;click.help.learn_more_about_repository_creation&quot;}, {&quot;experimentIds&quot;: [], &quot;id&quot;: &quot;18188530140&quot;, &quot;key&quot;: &quot;test_event.do_not_use_in_production&quot;}, {&quot;experimentIds&quot;: [], &quot;id&quot;: &quot;18191963644&quot;, &quot;key&quot;: &quot;click.empty_org_repo_cta.transfer_repository&quot;}, {&quot;experimentIds&quot;: [], &quot;id&quot;: &quot;18195612788&quot;, &quot;key&quot;: &quot;click.empty_org_repo_cta.import_repository&quot;}, {&quot;experimentIds&quot;: [], &quot;id&quot;: &quot;18210945499&quot;, &quot;key&quot;: &quot;click.org_onboarding_checklist.invite_members&quot;}, {&quot;experimentIds&quot;: [], &quot;id&quot;: &quot;18211063248&quot;, &quot;key&quot;: &quot;click.empty_org_repo_cta.create_repository&quot;}, {&quot;experimentIds&quot;: [], &quot;id&quot;: &quot;18215721889&quot;, &quot;key&quot;: &quot;click.org_onboarding_checklist.update_profile&quot;}, {&quot;experimentIds&quot;: [], &quot;id&quot;: &quot;18224360785&quot;, &quot;key&quot;: &quot;click.org_onboarding_checklist.dismiss&quot;}, {&quot;experimentIds&quot;: [], &quot;id&quot;: &quot;18234832286&quot;, &quot;key&quot;: &quot;submit.organization_activation.complete&quot;}, {&quot;experimentIds&quot;: [], &quot;id&quot;: &quot;18252392383&quot;, &quot;key&quot;: &quot;submit.org_repository.create&quot;}, {&quot;experimentIds&quot;: [], &quot;id&quot;: &quot;18257551537&quot;, &quot;key&quot;: &quot;submit.org_member_invitation.create&quot;}, {&quot;experimentIds&quot;: [], &quot;id&quot;: &quot;18259522260&quot;, &quot;key&quot;: &quot;submit.organization_profile.update&quot;}, {&quot;experimentIds&quot;: [], &quot;id&quot;: &quot;18564603625&quot;, &quot;key&quot;: &quot;view.classroom_select_organization&quot;}, {&quot;experimentIds&quot;: [], &quot;id&quot;: &quot;18568612016&quot;, &quot;key&quot;: &quot;click.classroom_sign_in_click&quot;}, {&quot;experimentIds&quot;: [], &quot;id&quot;: &quot;18572592540&quot;, &quot;key&quot;: &quot;view.classroom_name&quot;}, {&quot;experimentIds&quot;: [], &quot;id&quot;: &quot;18574203855&quot;, &quot;key&quot;: &quot;click.classroom_create_organization&quot;}, {&quot;experimentIds&quot;: [], &quot;id&quot;: &quot;18582053415&quot;, &quot;key&quot;: &quot;click.classroom_select_organization&quot;}, {&quot;experimentIds&quot;: [], &quot;id&quot;: &quot;18589463420&quot;, &quot;key&quot;: &quot;click.classroom_create_classroom&quot;}, {&quot;experimentIds&quot;: [], &quot;id&quot;: &quot;18591323364&quot;, &quot;key&quot;: &quot;click.classroom_create_first_classroom&quot;}, {&quot;experimentIds&quot;: [], &quot;id&quot;: &quot;18591652321&quot;, &quot;key&quot;: &quot;click.classroom_grant_access&quot;}, {&quot;experimentIds&quot;: [], &quot;id&quot;: &quot;18607131425&quot;, &quot;key&quot;: &quot;view.classroom_creation&quot;}, {&quot;experimentIds&quot;: [&quot;20194668672&quot;], &quot;id&quot;: &quot;18831680583&quot;, &quot;key&quot;: &quot;upgrade_account_plan&quot;}, {&quot;experimentIds&quot;: [], &quot;id&quot;: &quot;19064064515&quot;, &quot;key&quot;: &quot;click.signup&quot;}, {&quot;experimentIds&quot;: [], &quot;id&quot;: &quot;19075373687&quot;, &quot;key&quot;: &quot;click.view_account_billing_page&quot;}, {&quot;experimentIds&quot;: [], &quot;id&quot;: &quot;19077355841&quot;, &quot;key&quot;: &quot;click.dismiss_signup_prompt&quot;}, {&quot;experimentIds&quot;: [], &quot;id&quot;: &quot;19079713938&quot;, &quot;key&quot;: &quot;click.contact_sales&quot;}, {&quot;experimentIds&quot;: [], &quot;id&quot;: &quot;19120963070&quot;, &quot;key&quot;: &quot;click.compare_account_plans&quot;}, {&quot;experimentIds&quot;: [&quot;20233233507&quot;], &quot;id&quot;: &quot;19151690317&quot;, &quot;key&quot;: &quot;click.upgrade_account_cta&quot;}, {&quot;experimentIds&quot;: [], &quot;id&quot;: &quot;19424193129&quot;, &quot;key&quot;: &quot;click.open_account_switcher&quot;}, {&quot;experimentIds&quot;: [], &quot;id&quot;: &quot;19520330825&quot;, &quot;key&quot;: &quot;click.visit_account_profile&quot;}, {&quot;experimentIds&quot;: [], &quot;id&quot;: &quot;19540970635&quot;, &quot;key&quot;: &quot;click.switch_account_context&quot;}, {&quot;experimentIds&quot;: [&quot;20121990335&quot;], &quot;id&quot;: &quot;19730198868&quot;, &quot;key&quot;: &quot;submit.homepage_signup&quot;}, {&quot;experimentIds&quot;: [&quot;20121990335&quot;], &quot;id&quot;: &quot;19820830627&quot;, &quot;key&quot;: &quot;click.homepage_signup&quot;}, {&quot;experimentIds&quot;: [], &quot;id&quot;: &quot;19988571001&quot;, &quot;key&quot;: &quot;click.create_enterprise_trial&quot;}, {&quot;experimentIds&quot;: [&quot;20233233507&quot;], &quot;id&quot;: &quot;20036538294&quot;, &quot;key&quot;: &quot;click.create_organization_team&quot;}, {&quot;experimentIds&quot;: [], &quot;id&quot;: &quot;20040653299&quot;, &quot;key&quot;: &quot;click.input_enterprise_trial_form&quot;}, {&quot;experimentIds&quot;: [&quot;20233233507&quot;], &quot;id&quot;: &quot;20062030003&quot;, &quot;key&quot;: &quot;click.continue_with_team&quot;}, {&quot;experimentIds&quot;: [], &quot;id&quot;: &quot;20068947153&quot;, &quot;key&quot;: &quot;click.create_organization_free&quot;}, {&quot;experimentIds&quot;: [], &quot;id&quot;: &quot;20086636658&quot;, &quot;key&quot;: &quot;click.signup_continue.username&quot;}, {&quot;experimentIds&quot;: [], &quot;id&quot;: &quot;20091648988&quot;, &quot;key&quot;: &quot;click.signup_continue.create_account&quot;}, {&quot;experimentIds&quot;: [], &quot;id&quot;: &quot;20103637615&quot;, &quot;key&quot;: &quot;click.signup_continue.email&quot;}, {&quot;experimentIds&quot;: [], &quot;id&quot;: &quot;20111574253&quot;, &quot;key&quot;: &quot;click.signup_continue.password&quot;}, {&quot;experimentIds&quot;: [&quot;20233233507&quot;], &quot;id&quot;: &quot;20120044111&quot;, &quot;key&quot;: &quot;view.pricing_page&quot;}, {&quot;experimentIds&quot;: [&quot;20121990335&quot;, &quot;20233233507&quot;], &quot;id&quot;: &quot;20152062109&quot;, &quot;key&quot;: &quot;submit.create_account&quot;}, {&quot;experimentIds&quot;: [&quot;20233233507&quot;], &quot;id&quot;: &quot;20165800992&quot;, &quot;key&quot;: &quot;submit.upgrade_payment_form&quot;}, {&quot;experimentIds&quot;: [&quot;20233233507&quot;], &quot;id&quot;: &quot;20171520319&quot;, &quot;key&quot;: &quot;submit.create_organization&quot;}, {&quot;experimentIds&quot;: [&quot;20194668672&quot;], &quot;id&quot;: &quot;20222645674&quot;, &quot;key&quot;: &quot;click.recommended_plan_in_signup.discuss_your_needs&quot;}, {&quot;experimentIds&quot;: [&quot;20206000276&quot;], &quot;id&quot;: &quot;20227443657&quot;, &quot;key&quot;: &quot;submit.verify_primary_user_email&quot;}, {&quot;experimentIds&quot;: [&quot;20194668672&quot;], &quot;id&quot;: &quot;20234607160&quot;, &quot;key&quot;: &quot;click.recommended_plan_in_signup.try_enterprise&quot;}, {&quot;experimentIds&quot;: [&quot;20194668672&quot;], &quot;id&quot;: &quot;20238175784&quot;, &quot;key&quot;: &quot;click.recommended_plan_in_signup.team&quot;}, {&quot;experimentIds&quot;: [&quot;20194668672&quot;], &quot;id&quot;: &quot;20239847212&quot;, &quot;key&quot;: &quot;click.recommended_plan_in_signup.continue_free&quot;}, {&quot;experimentIds&quot;: [&quot;20194668672&quot;], &quot;id&quot;: &quot;20251097193&quot;, &quot;key&quot;: &quot;recommended_plan&quot;}], &quot;revision&quot;: &quot;686&quot;}" />
  <!-- To prevent page flashing, the optimizely JS needs to be loaded in the
    <head> tag before the DOM renders -->
  <script crossorigin="anonymous" defer="defer" integrity="sha512-yDmmCGyENqEePvF9X9A4omxWCNcbS6qK2h8HZPdnvXd02Vzhtqd0zRd/pgTgqQ/xOA02F3H225VpJvDXrnfNbA==" type="application/javascript" src="https://github.githubassets.com/assets/optimizely-c839a608.js"></script>



  

      <meta name="hostname" content="github.com">
    <meta name="user-login" content="iFan13">


      <meta name="expected-hostname" content="github.com">

      <meta name="js-proxy-site-detection-payload" content="ZjQ0MmZhOTExMjAzMzRlZmNmMGEyMjhmNGEwYjdlOWRlZDEwZTFiZGI3OWMwYmExMzk4NjdhMWQ4OWZhN2IwNXx7InJlbW90ZV9hZGRyZXNzIjoiMjQuMjQ2LjY1LjQxIiwicmVxdWVzdF9pZCI6IkRFQjA6NzQwRToxMzFDQzgzOjI4MkE5MjU6NjBBMzE5MjgiLCJ0aW1lc3RhbXAiOjE2MjEzMDE1NTIsImhvc3QiOiJnaXRodWIuY29tIn0=">

    <meta name="enabled-features" content="MARKETPLACE_PENDING_INSTALLATIONS,AUTOCOMPLETE_EMOJIS_IN_MARKDOWN_EDITOR,GITHUB_TOKEN_PERMISSION,ACTIONS_CONCURRENCY_UI">

  <meta http-equiv="x-pjax-version" content="2cbdcbae06d97526cb619af25945c78e6c6b42c7652df23f8a9c8f048a98e457">
  

    
  <meta name="go-import" content="github.com/benaziziasmae/squirtle_squad git https://github.com/benaziziasmae/squirtle_squad.git">

  <meta name="octolytics-dimension-user_id" content="76079655" /><meta name="octolytics-dimension-user_login" content="benaziziasmae" /><meta name="octolytics-dimension-repository_id" content="366905848" /><meta name="octolytics-dimension-repository_nwo" content="benaziziasmae/squirtle_squad" /><meta name="octolytics-dimension-repository_public" content="true" /><meta name="octolytics-dimension-repository_is_fork" content="false" /><meta name="octolytics-dimension-repository_network_root_id" content="366905848" /><meta name="octolytics-dimension-repository_network_root_nwo" content="benaziziasmae/squirtle_squad" />



    <link rel="canonical" href="https://github.com/benaziziasmae/squirtle_squad/blob/main/Pokemon_type_water_price.ipynb" data-pjax-transient>


  <meta name="browser-stats-url" content="https://api.github.com/_private/browser/stats">

  <meta name="browser-errors-url" content="https://api.github.com/_private/browser/errors">

  <meta name="browser-optimizely-client-errors-url" content="https://api.github.com/_private/browser/optimizely_client/errors">

  <link rel="mask-icon" href="https://github.githubassets.com/pinned-octocat.svg" color="#000000">
  <link rel="alternate icon" class="js-site-favicon" type="image/png" href="https://github.githubassets.com/favicons/favicon.png">
  <link rel="icon" class="js-site-favicon" type="image/svg+xml" href="https://github.githubassets.com/favicons/favicon.svg">

<meta name="theme-color" content="#1e2327">
<meta name="color-scheme" content="dark light" />


  <link rel="manifest" href="/manifest.json" crossOrigin="use-credentials">

<meta name="enabled-homepage-translation-languages" content="ko">

  </head>

  <body class="logged-in env-production page-responsive page-blob" style="word-wrap: break-word;">
    

    <div class="position-relative js-header-wrapper ">
      <a href="#start-of-content" class="p-3 color-bg-info-inverse color-text-white show-on-focus js-skip-to-content">Skip to content</a>
      <span class="progress-pjax-loader width-full js-pjax-loader-bar Progress position-fixed">
    <span style="background-color: #79b8ff;width: 0%;" class="Progress-item progress-pjax-loader-bar"></span>
</span>      
      


            <header class="Header js-details-container Details px-3 px-md-4 px-lg-5 flex-wrap flex-md-nowrap" role="banner" >
    <div class="Header-item mt-n1 mb-n1  d-none d-md-flex">
      <a class="Header-link " href="https://github.com/" data-hotkey="g d"
  aria-label="Homepage " data-ga-click="Header, go to dashboard, icon:logo">
  <svg class="octicon octicon-mark-github v-align-middle" height="32" viewBox="0 0 16 16" version="1.1" width="32" aria-hidden="true"><path fill-rule="evenodd" d="M8 0C3.58 0 0 3.58 0 8c0 3.54 2.29 6.53 5.47 7.59.4.07.55-.17.55-.38 0-.19-.01-.82-.01-1.49-2.01.37-2.53-.49-2.69-.94-.09-.23-.48-.94-.82-1.13-.28-.15-.68-.52-.01-.53.63-.01 1.08.58 1.23.82.72 1.21 1.87.87 2.33.66.07-.52.28-.87.51-1.07-1.78-.2-3.64-.89-3.64-3.95 0-.87.31-1.59.82-2.15-.08-.2-.36-1.02.08-2.12 0 0 .67-.21 2.2.82.64-.18 1.32-.27 2-.27.68 0 1.36.09 2 .27 1.53-1.04 2.2-.82 2.2-.82.44 1.1.16 1.92.08 2.12.51.56.82 1.27.82 2.15 0 3.07-1.87 3.75-3.65 3.95.29.25.54.73.54 1.48 0 1.07-.01 1.93-.01 2.2 0 .21.15.46.55.38A8.013 8.013 0 0016 8c0-4.42-3.58-8-8-8z"></path></svg>
</a>

    </div>

    <div class="Header-item d-md-none">
      <button class="Header-link btn-link js-details-target" type="button" aria-label="Toggle navigation" aria-expanded="false">
        <svg height="24" class="octicon octicon-three-bars" viewBox="0 0 16 16" version="1.1" width="24" aria-hidden="true"><path fill-rule="evenodd" d="M1 2.75A.75.75 0 011.75 2h12.5a.75.75 0 110 1.5H1.75A.75.75 0 011 2.75zm0 5A.75.75 0 011.75 7h12.5a.75.75 0 110 1.5H1.75A.75.75 0 011 7.75zM1.75 12a.75.75 0 100 1.5h12.5a.75.75 0 100-1.5H1.75z"></path></svg>
      </button>
    </div>

    <div class="Header-item Header-item--full flex-column flex-md-row width-full flex-order-2 flex-md-order-none mr-0 mr-md-3 mt-3 mt-md-0 Details-content--hidden-not-important d-md-flex">
          
  <div class="header-search flex-auto js-site-search position-relative flex-self-stretch flex-md-self-auto mb-3 mb-md-0 mr-0 mr-md-3 scoped-search site-scoped-search js-jump-to"
    role="combobox"
    aria-owns="jump-to-results"
    aria-label="Search or jump to"
    aria-haspopup="listbox"
    aria-expanded="false"
  >
    <div class="position-relative">
      <!-- '"` --><!-- </textarea></xmp> --></option></form><form class="js-site-search-form" role="search" aria-label="Site" data-scope-type="Repository" data-scope-id="366905848" data-scoped-search-url="/benaziziasmae/squirtle_squad/search" data-owner-scoped-search-url="/users/benaziziasmae/search" data-unscoped-search-url="/search" action="/benaziziasmae/squirtle_squad/search" accept-charset="UTF-8" method="get">
        <label class="form-control input-sm header-search-wrapper p-0 js-chromeless-input-container header-search-wrapper-jump-to position-relative d-flex flex-justify-between flex-items-center">
          <input type="text"
            class="form-control input-sm header-search-input jump-to-field js-jump-to-field js-site-search-focus js-site-search-field is-clearable"
            data-hotkey="s,/"
            name="q"
            value=""
            placeholder="Search or jump to…"
            data-unscoped-placeholder="Search or jump to…"
            data-scoped-placeholder="Search or jump to…"
            autocapitalize="off"
            aria-autocomplete="list"
            aria-controls="jump-to-results"
            aria-label="Search or jump to…"
            data-jump-to-suggestions-path="/_graphql/GetSuggestedNavigationDestinations"
            spellcheck="false"
            autocomplete="off"
          >
          <input type="hidden" value="uy4/NAaJGrPBQJlNmID3SG9ssqdxWxnblH80FO/T17+j4ahLEacZ3cF5k7yEz1eo75qQVUWuKgev5Fo3pwObOA==" data-csrf="true" class="js-data-jump-to-suggestions-path-csrf" />
          <input type="hidden" class="js-site-search-type-field" name="type" >
            <img src="https://github.githubassets.com/images/search-key-slash.svg" alt="" class="mr-2 header-search-key-slash">

            <div class="Box position-absolute overflow-hidden d-none jump-to-suggestions js-jump-to-suggestions-container">
              
<ul class="d-none js-jump-to-suggestions-template-container">
  

<li class="d-flex flex-justify-start flex-items-center p-0 f5 navigation-item js-navigation-item js-jump-to-suggestion" role="option">
  <a tabindex="-1" class="no-underline d-flex flex-auto flex-items-center jump-to-suggestions-path js-jump-to-suggestion-path js-navigation-open p-2" href="" data-item-type="suggestion">
    <div class="jump-to-octicon js-jump-to-octicon flex-shrink-0 mr-2 text-center d-none">
      <svg height="16" width="16" class="octicon octicon-repo flex-shrink-0 js-jump-to-octicon-repo d-none" title="Repository" aria-label="Repository" viewBox="0 0 16 16" version="1.1" role="img"><path fill-rule="evenodd" d="M2 2.5A2.5 2.5 0 014.5 0h8.75a.75.75 0 01.75.75v12.5a.75.75 0 01-.75.75h-2.5a.75.75 0 110-1.5h1.75v-2h-8a1 1 0 00-.714 1.7.75.75 0 01-1.072 1.05A2.495 2.495 0 012 11.5v-9zm10.5-1V9h-8c-.356 0-.694.074-1 .208V2.5a1 1 0 011-1h8zM5 12.25v3.25a.25.25 0 00.4.2l1.45-1.087a.25.25 0 01.3 0L8.6 15.7a.25.25 0 00.4-.2v-3.25a.25.25 0 00-.25-.25h-3.5a.25.25 0 00-.25.25z"></path></svg>
      <svg height="16" width="16" class="octicon octicon-project flex-shrink-0 js-jump-to-octicon-project d-none" title="Project" aria-label="Project" viewBox="0 0 16 16" version="1.1" role="img"><path fill-rule="evenodd" d="M1.75 0A1.75 1.75 0 000 1.75v12.5C0 15.216.784 16 1.75 16h12.5A1.75 1.75 0 0016 14.25V1.75A1.75 1.75 0 0014.25 0H1.75zM1.5 1.75a.25.25 0 01.25-.25h12.5a.25.25 0 01.25.25v12.5a.25.25 0 01-.25.25H1.75a.25.25 0 01-.25-.25V1.75zM11.75 3a.75.75 0 00-.75.75v7.5a.75.75 0 001.5 0v-7.5a.75.75 0 00-.75-.75zm-8.25.75a.75.75 0 011.5 0v5.5a.75.75 0 01-1.5 0v-5.5zM8 3a.75.75 0 00-.75.75v3.5a.75.75 0 001.5 0v-3.5A.75.75 0 008 3z"></path></svg>
      <svg height="16" width="16" class="octicon octicon-search flex-shrink-0 js-jump-to-octicon-search d-none" title="Search" aria-label="Search" viewBox="0 0 16 16" version="1.1" role="img"><path fill-rule="evenodd" d="M11.5 7a4.499 4.499 0 11-8.998 0A4.499 4.499 0 0111.5 7zm-.82 4.74a6 6 0 111.06-1.06l3.04 3.04a.75.75 0 11-1.06 1.06l-3.04-3.04z"></path></svg>
    </div>

    <img class="avatar mr-2 flex-shrink-0 js-jump-to-suggestion-avatar d-none" alt="" aria-label="Team" src="" width="28" height="28">

    <div class="jump-to-suggestion-name js-jump-to-suggestion-name flex-auto overflow-hidden text-left no-wrap css-truncate css-truncate-target">
    </div>

    <div class="border rounded-1 flex-shrink-0 color-bg-tertiary px-1 color-text-tertiary ml-1 f6 d-none js-jump-to-badge-search">
      <span class="js-jump-to-badge-search-text-default d-none" aria-label="in this repository">
        In this repository
      </span>
      <span class="js-jump-to-badge-search-text-global d-none" aria-label="in all of GitHub">
        All GitHub
      </span>
      <span aria-hidden="true" class="d-inline-block ml-1 v-align-middle">↵</span>
    </div>

    <div aria-hidden="true" class="border rounded-1 flex-shrink-0 color-bg-tertiary px-1 color-text-tertiary ml-1 f6 d-none d-on-nav-focus js-jump-to-badge-jump">
      Jump to
      <span class="d-inline-block ml-1 v-align-middle">↵</span>
    </div>
  </a>
</li>

</ul>

<ul class="d-none js-jump-to-no-results-template-container">
  <li class="d-flex flex-justify-center flex-items-center f5 d-none js-jump-to-suggestion p-2">
    <span class="color-text-secondary">No suggested jump to results</span>
  </li>
</ul>

<ul id="jump-to-results" role="listbox" class="p-0 m-0 js-navigation-container jump-to-suggestions-results-container js-jump-to-suggestions-results-container">
  

<li class="d-flex flex-justify-start flex-items-center p-0 f5 navigation-item js-navigation-item js-jump-to-scoped-search d-none" role="option">
  <a tabindex="-1" class="no-underline d-flex flex-auto flex-items-center jump-to-suggestions-path js-jump-to-suggestion-path js-navigation-open p-2" href="" data-item-type="scoped_search">
    <div class="jump-to-octicon js-jump-to-octicon flex-shrink-0 mr-2 text-center d-none">
      <svg height="16" width="16" class="octicon octicon-repo flex-shrink-0 js-jump-to-octicon-repo d-none" title="Repository" aria-label="Repository" viewBox="0 0 16 16" version="1.1" role="img"><path fill-rule="evenodd" d="M2 2.5A2.5 2.5 0 014.5 0h8.75a.75.75 0 01.75.75v12.5a.75.75 0 01-.75.75h-2.5a.75.75 0 110-1.5h1.75v-2h-8a1 1 0 00-.714 1.7.75.75 0 01-1.072 1.05A2.495 2.495 0 012 11.5v-9zm10.5-1V9h-8c-.356 0-.694.074-1 .208V2.5a1 1 0 011-1h8zM5 12.25v3.25a.25.25 0 00.4.2l1.45-1.087a.25.25 0 01.3 0L8.6 15.7a.25.25 0 00.4-.2v-3.25a.25.25 0 00-.25-.25h-3.5a.25.25 0 00-.25.25z"></path></svg>
      <svg height="16" width="16" class="octicon octicon-project flex-shrink-0 js-jump-to-octicon-project d-none" title="Project" aria-label="Project" viewBox="0 0 16 16" version="1.1" role="img"><path fill-rule="evenodd" d="M1.75 0A1.75 1.75 0 000 1.75v12.5C0 15.216.784 16 1.75 16h12.5A1.75 1.75 0 0016 14.25V1.75A1.75 1.75 0 0014.25 0H1.75zM1.5 1.75a.25.25 0 01.25-.25h12.5a.25.25 0 01.25.25v12.5a.25.25 0 01-.25.25H1.75a.25.25 0 01-.25-.25V1.75zM11.75 3a.75.75 0 00-.75.75v7.5a.75.75 0 001.5 0v-7.5a.75.75 0 00-.75-.75zm-8.25.75a.75.75 0 011.5 0v5.5a.75.75 0 01-1.5 0v-5.5zM8 3a.75.75 0 00-.75.75v3.5a.75.75 0 001.5 0v-3.5A.75.75 0 008 3z"></path></svg>
      <svg height="16" width="16" class="octicon octicon-search flex-shrink-0 js-jump-to-octicon-search d-none" title="Search" aria-label="Search" viewBox="0 0 16 16" version="1.1" role="img"><path fill-rule="evenodd" d="M11.5 7a4.499 4.499 0 11-8.998 0A4.499 4.499 0 0111.5 7zm-.82 4.74a6 6 0 111.06-1.06l3.04 3.04a.75.75 0 11-1.06 1.06l-3.04-3.04z"></path></svg>
    </div>

    <img class="avatar mr-2 flex-shrink-0 js-jump-to-suggestion-avatar d-none" alt="" aria-label="Team" src="" width="28" height="28">

    <div class="jump-to-suggestion-name js-jump-to-suggestion-name flex-auto overflow-hidden text-left no-wrap css-truncate css-truncate-target">
    </div>

    <div class="border rounded-1 flex-shrink-0 color-bg-tertiary px-1 color-text-tertiary ml-1 f6 d-none js-jump-to-badge-search">
      <span class="js-jump-to-badge-search-text-default d-none" aria-label="in this repository">
        In this repository
      </span>
      <span class="js-jump-to-badge-search-text-global d-none" aria-label="in all of GitHub">
        All GitHub
      </span>
      <span aria-hidden="true" class="d-inline-block ml-1 v-align-middle">↵</span>
    </div>

    <div aria-hidden="true" class="border rounded-1 flex-shrink-0 color-bg-tertiary px-1 color-text-tertiary ml-1 f6 d-none d-on-nav-focus js-jump-to-badge-jump">
      Jump to
      <span class="d-inline-block ml-1 v-align-middle">↵</span>
    </div>
  </a>
</li>

  

<li class="d-flex flex-justify-start flex-items-center p-0 f5 navigation-item js-navigation-item js-jump-to-owner-scoped-search d-none" role="option">
  <a tabindex="-1" class="no-underline d-flex flex-auto flex-items-center jump-to-suggestions-path js-jump-to-suggestion-path js-navigation-open p-2" href="" data-item-type="owner_scoped_search">
    <div class="jump-to-octicon js-jump-to-octicon flex-shrink-0 mr-2 text-center d-none">
      <svg height="16" width="16" class="octicon octicon-repo flex-shrink-0 js-jump-to-octicon-repo d-none" title="Repository" aria-label="Repository" viewBox="0 0 16 16" version="1.1" role="img"><path fill-rule="evenodd" d="M2 2.5A2.5 2.5 0 014.5 0h8.75a.75.75 0 01.75.75v12.5a.75.75 0 01-.75.75h-2.5a.75.75 0 110-1.5h1.75v-2h-8a1 1 0 00-.714 1.7.75.75 0 01-1.072 1.05A2.495 2.495 0 012 11.5v-9zm10.5-1V9h-8c-.356 0-.694.074-1 .208V2.5a1 1 0 011-1h8zM5 12.25v3.25a.25.25 0 00.4.2l1.45-1.087a.25.25 0 01.3 0L8.6 15.7a.25.25 0 00.4-.2v-3.25a.25.25 0 00-.25-.25h-3.5a.25.25 0 00-.25.25z"></path></svg>
      <svg height="16" width="16" class="octicon octicon-project flex-shrink-0 js-jump-to-octicon-project d-none" title="Project" aria-label="Project" viewBox="0 0 16 16" version="1.1" role="img"><path fill-rule="evenodd" d="M1.75 0A1.75 1.75 0 000 1.75v12.5C0 15.216.784 16 1.75 16h12.5A1.75 1.75 0 0016 14.25V1.75A1.75 1.75 0 0014.25 0H1.75zM1.5 1.75a.25.25 0 01.25-.25h12.5a.25.25 0 01.25.25v12.5a.25.25 0 01-.25.25H1.75a.25.25 0 01-.25-.25V1.75zM11.75 3a.75.75 0 00-.75.75v7.5a.75.75 0 001.5 0v-7.5a.75.75 0 00-.75-.75zm-8.25.75a.75.75 0 011.5 0v5.5a.75.75 0 01-1.5 0v-5.5zM8 3a.75.75 0 00-.75.75v3.5a.75.75 0 001.5 0v-3.5A.75.75 0 008 3z"></path></svg>
      <svg height="16" width="16" class="octicon octicon-search flex-shrink-0 js-jump-to-octicon-search d-none" title="Search" aria-label="Search" viewBox="0 0 16 16" version="1.1" role="img"><path fill-rule="evenodd" d="M11.5 7a4.499 4.499 0 11-8.998 0A4.499 4.499 0 0111.5 7zm-.82 4.74a6 6 0 111.06-1.06l3.04 3.04a.75.75 0 11-1.06 1.06l-3.04-3.04z"></path></svg>
    </div>

    <img class="avatar mr-2 flex-shrink-0 js-jump-to-suggestion-avatar d-none" alt="" aria-label="Team" src="" width="28" height="28">

    <div class="jump-to-suggestion-name js-jump-to-suggestion-name flex-auto overflow-hidden text-left no-wrap css-truncate css-truncate-target">
    </div>

    <div class="border rounded-1 flex-shrink-0 color-bg-tertiary px-1 color-text-tertiary ml-1 f6 d-none js-jump-to-badge-search">
      <span class="js-jump-to-badge-search-text-default d-none" aria-label="in this user">
        In this user
      </span>
      <span class="js-jump-to-badge-search-text-global d-none" aria-label="in all of GitHub">
        All GitHub
      </span>
      <span aria-hidden="true" class="d-inline-block ml-1 v-align-middle">↵</span>
    </div>

    <div aria-hidden="true" class="border rounded-1 flex-shrink-0 color-bg-tertiary px-1 color-text-tertiary ml-1 f6 d-none d-on-nav-focus js-jump-to-badge-jump">
      Jump to
      <span class="d-inline-block ml-1 v-align-middle">↵</span>
    </div>
  </a>
</li>

  

<li class="d-flex flex-justify-start flex-items-center p-0 f5 navigation-item js-navigation-item js-jump-to-global-search d-none" role="option">
  <a tabindex="-1" class="no-underline d-flex flex-auto flex-items-center jump-to-suggestions-path js-jump-to-suggestion-path js-navigation-open p-2" href="" data-item-type="global_search">
    <div class="jump-to-octicon js-jump-to-octicon flex-shrink-0 mr-2 text-center d-none">
      <svg height="16" width="16" class="octicon octicon-repo flex-shrink-0 js-jump-to-octicon-repo d-none" title="Repository" aria-label="Repository" viewBox="0 0 16 16" version="1.1" role="img"><path fill-rule="evenodd" d="M2 2.5A2.5 2.5 0 014.5 0h8.75a.75.75 0 01.75.75v12.5a.75.75 0 01-.75.75h-2.5a.75.75 0 110-1.5h1.75v-2h-8a1 1 0 00-.714 1.7.75.75 0 01-1.072 1.05A2.495 2.495 0 012 11.5v-9zm10.5-1V9h-8c-.356 0-.694.074-1 .208V2.5a1 1 0 011-1h8zM5 12.25v3.25a.25.25 0 00.4.2l1.45-1.087a.25.25 0 01.3 0L8.6 15.7a.25.25 0 00.4-.2v-3.25a.25.25 0 00-.25-.25h-3.5a.25.25 0 00-.25.25z"></path></svg>
      <svg height="16" width="16" class="octicon octicon-project flex-shrink-0 js-jump-to-octicon-project d-none" title="Project" aria-label="Project" viewBox="0 0 16 16" version="1.1" role="img"><path fill-rule="evenodd" d="M1.75 0A1.75 1.75 0 000 1.75v12.5C0 15.216.784 16 1.75 16h12.5A1.75 1.75 0 0016 14.25V1.75A1.75 1.75 0 0014.25 0H1.75zM1.5 1.75a.25.25 0 01.25-.25h12.5a.25.25 0 01.25.25v12.5a.25.25 0 01-.25.25H1.75a.25.25 0 01-.25-.25V1.75zM11.75 3a.75.75 0 00-.75.75v7.5a.75.75 0 001.5 0v-7.5a.75.75 0 00-.75-.75zm-8.25.75a.75.75 0 011.5 0v5.5a.75.75 0 01-1.5 0v-5.5zM8 3a.75.75 0 00-.75.75v3.5a.75.75 0 001.5 0v-3.5A.75.75 0 008 3z"></path></svg>
      <svg height="16" width="16" class="octicon octicon-search flex-shrink-0 js-jump-to-octicon-search d-none" title="Search" aria-label="Search" viewBox="0 0 16 16" version="1.1" role="img"><path fill-rule="evenodd" d="M11.5 7a4.499 4.499 0 11-8.998 0A4.499 4.499 0 0111.5 7zm-.82 4.74a6 6 0 111.06-1.06l3.04 3.04a.75.75 0 11-1.06 1.06l-3.04-3.04z"></path></svg>
    </div>

    <img class="avatar mr-2 flex-shrink-0 js-jump-to-suggestion-avatar d-none" alt="" aria-label="Team" src="" width="28" height="28">

    <div class="jump-to-suggestion-name js-jump-to-suggestion-name flex-auto overflow-hidden text-left no-wrap css-truncate css-truncate-target">
    </div>

    <div class="border rounded-1 flex-shrink-0 color-bg-tertiary px-1 color-text-tertiary ml-1 f6 d-none js-jump-to-badge-search">
      <span class="js-jump-to-badge-search-text-default d-none" aria-label="in this repository">
        In this repository
      </span>
      <span class="js-jump-to-badge-search-text-global d-none" aria-label="in all of GitHub">
        All GitHub
      </span>
      <span aria-hidden="true" class="d-inline-block ml-1 v-align-middle">↵</span>
    </div>

    <div aria-hidden="true" class="border rounded-1 flex-shrink-0 color-bg-tertiary px-1 color-text-tertiary ml-1 f6 d-none d-on-nav-focus js-jump-to-badge-jump">
      Jump to
      <span class="d-inline-block ml-1 v-align-middle">↵</span>
    </div>
  </a>
</li>


    <li class="d-flex flex-justify-center flex-items-center p-0 f5 js-jump-to-suggestion">
      <svg style="box-sizing: content-box; color: var(--color-icon-primary);" viewBox="0 0 16 16" fill="none" width="32" height="32" class="m-3 anim-rotate">
  <circle cx="8" cy="8" r="7" stroke="currentColor" stroke-opacity="0.25" stroke-width="2" vector-effect="non-scaling-stroke" />
  <path d="M15 8a7.002 7.002 0 00-7-7" stroke="currentColor" stroke-width="2" stroke-linecap="round" vector-effect="non-scaling-stroke" />
</svg>
    </li>
</ul>

            </div>
        </label>
</form>    </div>
  </div>

        <nav class="d-flex flex-column flex-md-row flex-self-stretch flex-md-self-auto" aria-label="Global">
      <a class="Header-link py-md-3 d-block d-md-none py-2 border-top border-md-top-0 border-white-fade-15" data-ga-click="Header, click, Nav menu - item:dashboard:user" aria-label="Dashboard" href="/dashboard">
        Dashboard
</a>
    <a class="js-selected-navigation-item Header-link mt-md-n3 mb-md-n3 py-2 py-md-3 mr-0 mr-md-3 border-top border-md-top-0 border-white-fade-15" data-hotkey="g p" data-ga-click="Header, click, Nav menu - item:pulls context:user" aria-label="Pull requests you created" data-selected-links="/pulls /pulls/assigned /pulls/mentioned /pulls" href="/pulls">
        Pull<span class="d-inline d-md-none d-lg-inline"> request</span>s
</a>
    <a class="js-selected-navigation-item Header-link mt-md-n3 mb-md-n3 py-2 py-md-3 mr-0 mr-md-3 border-top border-md-top-0 border-white-fade-15" data-hotkey="g i" data-ga-click="Header, click, Nav menu - item:issues context:user" aria-label="Issues you created" data-selected-links="/issues /issues/assigned /issues/mentioned /issues" href="/issues">
      Issues
</a>
      <div class="d-flex position-relative">
        <a class="js-selected-navigation-item Header-link flex-auto mt-md-n3 mb-md-n3 py-2 py-md-3 mr-0 mr-md-3 border-top border-md-top-0 border-white-fade-15" data-ga-click="Header, click, Nav menu - item:marketplace context:user" data-octo-click="marketplace_click" data-octo-dimensions="location:nav_bar" data-selected-links=" /marketplace" href="/marketplace">
          Marketplace
</a>      </div>

    <a class="js-selected-navigation-item Header-link mt-md-n3 mb-md-n3 py-2 py-md-3 mr-0 mr-md-3 border-top border-md-top-0 border-white-fade-15" data-ga-click="Header, click, Nav menu - item:explore" data-selected-links="/explore /trending /trending/developers /integrations /integrations/feature/code /integrations/feature/collaborate /integrations/feature/ship showcases showcases_search showcases_landing /explore" href="/explore">
      Explore
</a>
    <a class="js-selected-navigation-item Header-link d-block d-md-none py-2 py-md-3 border-top border-md-top-0 border-white-fade-15" data-ga-click="Header, click, Nav menu - item:workspaces context:user" data-selected-links="/codespaces /codespaces" href="/codespaces">
      Codespaces
</a>
      <a class="js-selected-navigation-item Header-link d-block d-md-none py-2 py-md-3 border-top border-md-top-0 border-white-fade-15" data-ga-click="Header, click, Nav menu - item:Sponsors" data-hydro-click="{&quot;event_type&quot;:&quot;sponsors.button_click&quot;,&quot;payload&quot;:{&quot;button&quot;:&quot;HEADER_SPONSORS_DASHBOARD&quot;,&quot;sponsorable_login&quot;:&quot;iFan13&quot;,&quot;originating_url&quot;:&quot;https://github.com/benaziziasmae/squirtle_squad/blob/main/Pokemon_type_water_price.ipynb&quot;,&quot;user_id&quot;:55547180}}" data-hydro-click-hmac="b70860504839585f05576618a11958e1f72c805183d2f6210aef64887a7dd3eb" data-selected-links=" /sponsors/accounts" href="/sponsors/accounts">Sponsors</a>

    <a class="Header-link d-block d-md-none mr-0 mr-md-3 py-2 py-md-3 border-top border-md-top-0 border-white-fade-15" href="/settings/profile">
      Settings
</a>
    <a class="Header-link d-block d-md-none mr-0 mr-md-3 py-2 py-md-3 border-top border-md-top-0 border-white-fade-15" href="/iFan13">
      <img class="avatar avatar-user" src="https://avatars.githubusercontent.com/u/55547180?s=40&amp;v=4" width="20" height="20" alt="@iFan13" />
      iFan13
</a>
    <!-- '"` --><!-- </textarea></xmp> --></option></form><form action="/logout" accept-charset="UTF-8" method="post"><input type="hidden" name="authenticity_token" value="QXqVCZLmoJepIXaAJaJKSMuCiqO01wI7BrSymXgPUSlMWL23GroEdfD+xuBXyFY74CdKZgbsHCljhfpZmflSNA==" />
      <button type="submit" class="Header-link mr-0 mr-md-3 py-2 py-md-3 border-top border-md-top-0 border-white-fade-15 d-md-none btn-link d-block width-full text-left" data-ga-click="Header, sign out, icon:logout" style="padding-left: 2px;">
        <svg class="octicon octicon-sign-out v-align-middle" viewBox="0 0 16 16" version="1.1" width="16" height="16" aria-hidden="true"><path fill-rule="evenodd" d="M2 2.75C2 1.784 2.784 1 3.75 1h2.5a.75.75 0 010 1.5h-2.5a.25.25 0 00-.25.25v10.5c0 .138.112.25.25.25h2.5a.75.75 0 010 1.5h-2.5A1.75 1.75 0 012 13.25V2.75zm10.44 4.5H6.75a.75.75 0 000 1.5h5.69l-1.97 1.97a.75.75 0 101.06 1.06l3.25-3.25a.75.75 0 000-1.06l-3.25-3.25a.75.75 0 10-1.06 1.06l1.97 1.97z"></path></svg>
        Sign out
      </button>
</form></nav>

    </div>

    <div class="Header-item Header-item--full flex-justify-center d-md-none position-relative">
        <a class="Header-link " href="https://github.com/" data-hotkey="g d"
  aria-label="Homepage " data-ga-click="Header, go to dashboard, icon:logo">
  <svg class="octicon octicon-mark-github v-align-middle" height="32" viewBox="0 0 16 16" version="1.1" width="32" aria-hidden="true"><path fill-rule="evenodd" d="M8 0C3.58 0 0 3.58 0 8c0 3.54 2.29 6.53 5.47 7.59.4.07.55-.17.55-.38 0-.19-.01-.82-.01-1.49-2.01.37-2.53-.49-2.69-.94-.09-.23-.48-.94-.82-1.13-.28-.15-.68-.52-.01-.53.63-.01 1.08.58 1.23.82.72 1.21 1.87.87 2.33.66.07-.52.28-.87.51-1.07-1.78-.2-3.64-.89-3.64-3.95 0-.87.31-1.59.82-2.15-.08-.2-.36-1.02.08-2.12 0 0 .67-.21 2.2.82.64-.18 1.32-.27 2-.27.68 0 1.36.09 2 .27 1.53-1.04 2.2-.82 2.2-.82.44 1.1.16 1.92.08 2.12.51.56.82 1.27.82 2.15 0 3.07-1.87 3.75-3.65 3.95.29.25.54.73.54 1.48 0 1.07-.01 1.93-.01 2.2 0 .21.15.46.55.38A8.013 8.013 0 0016 8c0-4.42-3.58-8-8-8z"></path></svg>
</a>

    </div>

    <div class="Header-item mr-0 mr-md-3 flex-order-1 flex-md-order-none">
        


      <notification-indicator
        class="js-socket-channel"
        data-test-selector="notifications-indicator"
        data-channel="eyJjIjoibm90aWZpY2F0aW9uLWNoYW5nZWQ6NTU1NDcxODAiLCJ0IjoxNjIxMzAxNTUyfQ==--7cc0d3fd72e70586a8e0b6b8bd877d0fed78075b5f8d3aed55d14aad615dac51">
        <a href="/notifications"
          class="Header-link notification-indicator position-relative tooltipped tooltipped-sw"
          
          aria-label="You have no unread notifications"
          data-hotkey="g n"
          data-ga-click="Header, go to notifications, icon:read"
          data-target="notification-indicator.link">
          <span class="mail-status  " data-target="notification-indicator.modifier"></span>
          <svg aria-hidden="true" viewBox="0 0 16 16" version="1.1" height="16" width="16" class="octicon octicon-bell">
    <path d="M8 16a2 2 0 001.985-1.75c.017-.137-.097-.25-.235-.25h-3.5c-.138 0-.252.113-.235.25A2 2 0 008 16z"></path><path fill-rule="evenodd" d="M8 1.5A3.5 3.5 0 004.5 5v2.947c0 .346-.102.683-.294.97l-1.703 2.556a.018.018 0 00-.003.01l.001.006c0 .002.002.004.004.006a.017.017 0 00.006.004l.007.001h10.964l.007-.001a.016.016 0 00.006-.004.016.016 0 00.004-.006l.001-.007a.017.017 0 00-.003-.01l-1.703-2.554a1.75 1.75 0 01-.294-.97V5A3.5 3.5 0 008 1.5zM3 5a5 5 0 0110 0v2.947c0 .05.015.098.042.139l1.703 2.555A1.518 1.518 0 0113.482 13H2.518a1.518 1.518 0 01-1.263-2.36l1.703-2.554A.25.25 0 003 7.947V5z"></path>
</svg>
        </a>
      </notification-indicator>

    </div>


    <div class="Header-item position-relative d-none d-md-flex">
        <details class="details-overlay details-reset js-header-promo-toggle">
  <summary class="Header-link"
      aria-label="Create new…"
      data-ga-click="Header, create new, icon:add">
      <svg aria-hidden="true" viewBox="0 0 16 16" version="1.1" height="16" width="16" class="octicon octicon-plus">
    <path fill-rule="evenodd" d="M7.75 2a.75.75 0 01.75.75V7h4.25a.75.75 0 110 1.5H8.5v4.25a.75.75 0 11-1.5 0V8.5H2.75a.75.75 0 010-1.5H7V2.75A.75.75 0 017.75 2z"></path>
</svg> <span class="dropdown-caret"></span>
  </summary>
  <details-menu class="dropdown-menu dropdown-menu-sw">
    
<a role="menuitem" class="dropdown-item" href="/new" data-ga-click="Header, create new repository">
  New repository
</a>

  <a role="menuitem" class="dropdown-item" href="/new/import" data-ga-click="Header, import a repository">
    Import repository
  </a>

<a role="menuitem" class="dropdown-item" href="https://gist.github.com/" data-ga-click="Header, create new gist">
  New gist
</a>

  <a role="menuitem" class="dropdown-item" href="/organizations/new" data-ga-click="Header, create new organization">
    New organization
  </a>


  <div role="none" class="dropdown-divider"></div>
  <div class="dropdown-header">
    <span title="benaziziasmae/squirtle_squad">This repository</span>
  </div>
    <a role="menuitem" class="dropdown-item" href="/benaziziasmae/squirtle_squad/issues/new/choose" data-ga-click="Header, create new issue" data-skip-pjax>
      New issue
    </a>


  </details-menu>
</details>

    </div>

    <div class="Header-item position-relative mr-0 d-none d-md-flex">
        
  <details class="details-overlay details-reset js-header-promo-toggle js-feature-preview-indicator-container" data-feature-preview-indicator-src="/users/iFan13/feature_preview/indicator_check">

  <summary class="Header-link"
    aria-label="View profile and more"
    data-ga-click="Header, show menu, icon:avatar">
    <img src="https://avatars.githubusercontent.com/u/55547180?s=60&amp;v=4" alt="@iFan13" size="20" height="20" width="20" class="avatar-user avatar avatar-small"></img>
      <span class="feature-preview-indicator js-feature-preview-indicator" style="top: 1px;" hidden></span>
    <span class="dropdown-caret"></span>
  </summary>
  <details-menu class="dropdown-menu dropdown-menu-sw" style="width: 180px" 
      src="/users/55547180/menu" preload>
      <include-fragment>
        <p class="text-center mt-3" data-hide-on-error>
          <svg style="box-sizing: content-box; color: var(--color-icon-primary);" viewBox="0 0 16 16" fill="none" width="32" height="32" class="anim-rotate">
  <circle cx="8" cy="8" r="7" stroke="currentColor" stroke-opacity="0.25" stroke-width="2" vector-effect="non-scaling-stroke" />
  <path d="M15 8a7.002 7.002 0 00-7-7" stroke="currentColor" stroke-width="2" stroke-linecap="round" vector-effect="non-scaling-stroke" />
</svg>
        </p>
        <p class="ml-1 mb-2 mt-2 color-text-primary" data-show-on-error>
          <svg aria-hidden="true" viewBox="0 0 16 16" version="1.1" height="16" width="16" class="octicon octicon-alert">
    <path fill-rule="evenodd" d="M8.22 1.754a.25.25 0 00-.44 0L1.698 13.132a.25.25 0 00.22.368h12.164a.25.25 0 00.22-.368L8.22 1.754zm-1.763-.707c.659-1.234 2.427-1.234 3.086 0l6.082 11.378A1.75 1.75 0 0114.082 15H1.918a1.75 1.75 0 01-1.543-2.575L6.457 1.047zM9 11a1 1 0 11-2 0 1 1 0 012 0zm-.25-5.25a.75.75 0 00-1.5 0v2.5a.75.75 0 001.5 0v-2.5z"></path>
</svg>
          Sorry, something went wrong.
        </p>
      </include-fragment>
  </details-menu>
</details>

    </div>
    
</header>

            
    </div>

  <div id="start-of-content" class="show-on-focus"></div>





    <div data-pjax-replace id="js-flash-container">


  <template class="js-flash-template">
    <div class="flash flash-full  {{ className }}">
  <div class=" px-2" >
    <button class="flash-close js-flash-close" type="button" aria-label="Dismiss this message">
      <svg aria-hidden="true" viewBox="0 0 16 16" version="1.1" height="16" width="16" class="octicon octicon-x">
    <path fill-rule="evenodd" d="M3.72 3.72a.75.75 0 011.06 0L8 6.94l3.22-3.22a.75.75 0 111.06 1.06L9.06 8l3.22 3.22a.75.75 0 11-1.06 1.06L8 9.06l-3.22 3.22a.75.75 0 01-1.06-1.06L6.94 8 3.72 4.78a.75.75 0 010-1.06z"></path>
</svg>
    </button>
    
      <div>{{ message }}</div>

  </div>
</div>
  </template>
</div>


    

  <include-fragment class="js-notification-shelf-include-fragment" data-base-src="https://github.com/notifications/beta/shelf"></include-fragment>




  <div
    class="application-main "
    data-commit-hovercards-enabled
    data-discussion-hovercards-enabled
    data-issue-and-pr-hovercards-enabled
  >
        <div itemscope itemtype="http://schema.org/SoftwareSourceCode" class="">
    <main id="js-repo-pjax-container" data-pjax-container >
      

      




  


  <div class="color-bg-secondary pt-3 hide-full-screen mb-5">

      <div class="d-flex mb-3 px-3 px-md-4 px-lg-5">

        <div class="flex-auto min-width-0 width-fit mr-3">
            <h1 class=" d-flex flex-wrap flex-items-center break-word f3 text-normal">
    <svg class="octicon octicon-repo color-text-secondary mr-2" viewBox="0 0 16 16" version="1.1" width="16" height="16" aria-hidden="true"><path fill-rule="evenodd" d="M2 2.5A2.5 2.5 0 014.5 0h8.75a.75.75 0 01.75.75v12.5a.75.75 0 01-.75.75h-2.5a.75.75 0 110-1.5h1.75v-2h-8a1 1 0 00-.714 1.7.75.75 0 01-1.072 1.05A2.495 2.495 0 012 11.5v-9zm10.5-1V9h-8c-.356 0-.694.074-1 .208V2.5a1 1 0 011-1h8zM5 12.25v3.25a.25.25 0 00.4.2l1.45-1.087a.25.25 0 01.3 0L8.6 15.7a.25.25 0 00.4-.2v-3.25a.25.25 0 00-.25-.25h-3.5a.25.25 0 00-.25.25z"></path></svg>
  <span class="author flex-self-stretch" itemprop="author">
    <a class="url fn" rel="author" data-hovercard-type="user" data-hovercard-url="/users/benaziziasmae/hovercard" data-octo-click="hovercard-link-click" data-octo-dimensions="link_type:self" href="/benaziziasmae">benaziziasmae</a>
  </span>
  <span class="mx-1 flex-self-stretch color-text-secondary">/</span>
  <strong itemprop="name" class="mr-2 flex-self-stretch">
    <a data-pjax="#js-repo-pjax-container" href="/benaziziasmae/squirtle_squad">squirtle_squad</a>
  </strong>
  
</h1>


        </div>

          <ul class="pagehead-actions flex-shrink-0 d-none d-md-inline" style="padding: 2px 0;">

  <li>
        <notifications-list-subscription-form class="f5 position-relative d-flex">
      <details
        class="details-reset details-overlay f5 position-relative"
        data-target="notifications-list-subscription-form.details"
        data-action="toggle:notifications-list-subscription-form#detailsToggled"
      >

      <summary class="btn btn-sm rounded-right-0" data-hydro-click="{&quot;event_type&quot;:&quot;repository.click&quot;,&quot;payload&quot;:{&quot;target&quot;:&quot;WATCH_BUTTON&quot;,&quot;repository_id&quot;:366905848,&quot;originating_url&quot;:&quot;https://github.com/benaziziasmae/squirtle_squad/blob/main/Pokemon_type_water_price.ipynb&quot;,&quot;user_id&quot;:55547180}}" data-hydro-click-hmac="5dbd9ca2aa520b4b3e1538a1b7a491fac832bd8a64aa7f38439937f47715dbfa" data-ga-click="Repository, click Watch settings, action:blob#show" aria-label="Notifications settings">
          <span data-menu-button>
            <span
              hidden
              
              data-target="notifications-list-subscription-form.unwatchButtonCopy"
            >
              <svg aria-hidden="true" viewBox="0 0 16 16" version="1.1" height="16" width="16" class="octicon octicon-eye">
    <path fill-rule="evenodd" d="M1.679 7.932c.412-.621 1.242-1.75 2.366-2.717C5.175 4.242 6.527 3.5 8 3.5c1.473 0 2.824.742 3.955 1.715 1.124.967 1.954 2.096 2.366 2.717a.119.119 0 010 .136c-.412.621-1.242 1.75-2.366 2.717C10.825 11.758 9.473 12.5 8 12.5c-1.473 0-2.824-.742-3.955-1.715C2.92 9.818 2.09 8.69 1.679 8.068a.119.119 0 010-.136zM8 2c-1.981 0-3.67.992-4.933 2.078C1.797 5.169.88 6.423.43 7.1a1.619 1.619 0 000 1.798c.45.678 1.367 1.932 2.637 3.024C4.329 13.008 6.019 14 8 14c1.981 0 3.67-.992 4.933-2.078 1.27-1.091 2.187-2.345 2.637-3.023a1.619 1.619 0 000-1.798c-.45-.678-1.367-1.932-2.637-3.023C11.671 2.992 9.981 2 8 2zm0 8a2 2 0 100-4 2 2 0 000 4z"></path>
</svg>
              Unwatch
            </span>
            <span
              hidden
              
              data-target="notifications-list-subscription-form.stopIgnoringButtonCopy"
            >
              <svg aria-hidden="true" viewBox="0 0 16 16" version="1.1" height="16" width="16" class="octicon octicon-bell-slash">
    <path fill-rule="evenodd" d="M8 1.5c-.997 0-1.895.416-2.534 1.086A.75.75 0 014.38 1.55 5 5 0 0113 5v2.373a.75.75 0 01-1.5 0V5A3.5 3.5 0 008 1.5zM4.182 4.31L1.19 2.143a.75.75 0 10-.88 1.214L3 5.305v2.642a.25.25 0 01-.042.139L1.255 10.64A1.518 1.518 0 002.518 13h11.108l1.184.857a.75.75 0 10.88-1.214l-1.375-.996a1.196 1.196 0 00-.013-.01L4.198 4.321a.733.733 0 00-.016-.011zm7.373 7.19L4.5 6.391v1.556c0 .346-.102.683-.294.97l-1.703 2.556a.018.018 0 00-.003.01.015.015 0 00.005.012.017.017 0 00.006.004l.007.001h9.037zM8 16a2 2 0 001.985-1.75c.017-.137-.097-.25-.235-.25h-3.5c-.138 0-.252.113-.235.25A2 2 0 008 16z"></path>
</svg>
              Stop ignoring
            </span>
            <span
              
              
              data-target="notifications-list-subscription-form.watchButtonCopy"
            >
              <svg aria-hidden="true" viewBox="0 0 16 16" version="1.1" height="16" width="16" class="octicon octicon-eye">
    <path fill-rule="evenodd" d="M1.679 7.932c.412-.621 1.242-1.75 2.366-2.717C5.175 4.242 6.527 3.5 8 3.5c1.473 0 2.824.742 3.955 1.715 1.124.967 1.954 2.096 2.366 2.717a.119.119 0 010 .136c-.412.621-1.242 1.75-2.366 2.717C10.825 11.758 9.473 12.5 8 12.5c-1.473 0-2.824-.742-3.955-1.715C2.92 9.818 2.09 8.69 1.679 8.068a.119.119 0 010-.136zM8 2c-1.981 0-3.67.992-4.933 2.078C1.797 5.169.88 6.423.43 7.1a1.619 1.619 0 000 1.798c.45.678 1.367 1.932 2.637 3.024C4.329 13.008 6.019 14 8 14c1.981 0 3.67-.992 4.933-2.078 1.27-1.091 2.187-2.345 2.637-3.023a1.619 1.619 0 000-1.798c-.45-.678-1.367-1.932-2.637-3.023C11.671 2.992 9.981 2 8 2zm0 8a2 2 0 100-4 2 2 0 000 4z"></path>
</svg>
              Watch
            </span>
          </span>
          <span class="dropdown-caret"></span>
</summary>
        <details-menu
          class="SelectMenu  "
          role="menu"
          data-target="notifications-list-subscription-form.menu"
          
        >
          <div class="SelectMenu-modal notifications-component-menu-modal">
            <header class="SelectMenu-header">
              <h3 class="SelectMenu-title">Notifications</h3>
              <button class="SelectMenu-closeButton" type="button" aria-label="Close menu" data-action="click:notifications-list-subscription-form#closeMenu">
                <svg aria-hidden="true" viewBox="0 0 16 16" version="1.1" height="16" width="16" class="octicon octicon-x">
    <path fill-rule="evenodd" d="M3.72 3.72a.75.75 0 011.06 0L8 6.94l3.22-3.22a.75.75 0 111.06 1.06L9.06 8l3.22 3.22a.75.75 0 11-1.06 1.06L8 9.06l-3.22 3.22a.75.75 0 01-1.06-1.06L6.94 8 3.72 4.78a.75.75 0 010-1.06z"></path>
</svg>
              </button>
            </header>

            <div class="SelectMenu-list">
              <form data-target="notifications-list-subscription-form.form" data-action="submit:notifications-list-subscription-form#submitForm" action="/notifications/subscribe" accept-charset="UTF-8" method="post"><input type="hidden" name="authenticity_token" value="V2YQ/seji4T5zHryf3U/XFvP2WO4gaqfAjOgTuDEpiQ0FW4wJ7ifgENJqTmJ3RXy2//JyvaX38iT8P5fvFFpyw==" />

                <input type="hidden" name="repository_id" value="366905848">

                <button
                  type="submit"
                  name="do"
                  value="included"
                  class="SelectMenu-item flex-items-start"
                  role="menuitemradio"
                  aria-checked="true"
                  data-targets="notifications-list-subscription-form.subscriptionButtons"
                  
                >
                  <span class="f5">
                    <svg aria-hidden="true" viewBox="0 0 16 16" version="1.1" height="16" width="16" class="octicon octicon-check SelectMenu-icon SelectMenu-icon--check">
    <path fill-rule="evenodd" d="M13.78 4.22a.75.75 0 010 1.06l-7.25 7.25a.75.75 0 01-1.06 0L2.22 9.28a.75.75 0 011.06-1.06L6 10.94l6.72-6.72a.75.75 0 011.06 0z"></path>
</svg>
                  </span>
                  <div>
                    <div class="f5 text-bold">
                      Participating and @mentions
                    </div>
                    <div class="text-small color-text-secondary text-normal pb-1">
                      Only receive notifications from this repository when participating or @mentioned.
                    </div>
                  </div>
                </button>

                <button
                  type="submit"
                  name="do"
                  value="subscribed"
                  class="SelectMenu-item flex-items-start"
                  role="menuitemradio"
                  aria-checked="false"
                  data-targets="notifications-list-subscription-form.subscriptionButtons"
                >
                  <span class="f5">
                    <svg aria-hidden="true" viewBox="0 0 16 16" version="1.1" height="16" width="16" class="octicon octicon-check SelectMenu-icon SelectMenu-icon--check">
    <path fill-rule="evenodd" d="M13.78 4.22a.75.75 0 010 1.06l-7.25 7.25a.75.75 0 01-1.06 0L2.22 9.28a.75.75 0 011.06-1.06L6 10.94l6.72-6.72a.75.75 0 011.06 0z"></path>
</svg>
                  </span>
                  <div>
                    <div class="f5 text-bold">
                      All Activity
                    </div>
                    <div class="text-small color-text-secondary text-normal pb-1">
                      Notified of all notifications on this repository.
                    </div>
                  </div>
                </button>

                <button
                  type="submit"
                  name="do"
                  value="ignore"
                  class="SelectMenu-item flex-items-start"
                  role="menuitemradio"
                  aria-checked="false"
                  data-targets="notifications-list-subscription-form.subscriptionButtons"
                >
                  <span class="f5">
                    <svg aria-hidden="true" viewBox="0 0 16 16" version="1.1" height="16" width="16" class="octicon octicon-check SelectMenu-icon SelectMenu-icon--check">
    <path fill-rule="evenodd" d="M13.78 4.22a.75.75 0 010 1.06l-7.25 7.25a.75.75 0 01-1.06 0L2.22 9.28a.75.75 0 011.06-1.06L6 10.94l6.72-6.72a.75.75 0 011.06 0z"></path>
</svg>
                  </span>
                  <div>
                    <div class="f5 text-bold">
                      Ignore
                    </div>
                    <div class="text-small color-text-secondary text-normal pb-1">
                      Never be notified.
                    </div>
                  </div>
                </button>
</form>
              <button
                class="SelectMenu-item flex-items-start pr-3"
                type="button"
                role="menuitemradio"
                data-target="notifications-list-subscription-form.customButton"
                data-action="click:notifications-list-subscription-form#openCustomDialog"
                aria-haspopup="true"
                aria-checked="false"
                
              >
                <span class="f5">
                  <svg aria-hidden="true" viewBox="0 0 16 16" version="1.1" height="16" width="16" class="octicon octicon-check SelectMenu-icon SelectMenu-icon--check">
    <path fill-rule="evenodd" d="M13.78 4.22a.75.75 0 010 1.06l-7.25 7.25a.75.75 0 01-1.06 0L2.22 9.28a.75.75 0 011.06-1.06L6 10.94l6.72-6.72a.75.75 0 011.06 0z"></path>
</svg>
                </span>
                <div>
                  <div class="d-flex flex-items-start flex-justify-between">
                    <div class="f5 text-bold">Custom</div>
                    <div class="f5 pr-1">
                      <svg aria-hidden="true" viewBox="0 0 16 16" version="1.1" height="16" width="16" class="octicon octicon-arrow-right">
    <path fill-rule="evenodd" d="M8.22 2.97a.75.75 0 011.06 0l4.25 4.25a.75.75 0 010 1.06l-4.25 4.25a.75.75 0 01-1.06-1.06l2.97-2.97H3.75a.75.75 0 010-1.5h7.44L8.22 4.03a.75.75 0 010-1.06z"></path>
</svg>
                    </div>
                  </div>
                  <div class="text-small color-text-secondary text-normal pb-1">
                    Select events you want to be notified of in addition to participating and @mentions.
                  </div>
                </div>
              </button>
            </div>
          </div>
        </details-menu>

        <details-dialog class="notifications-component-dialog " data-target="notifications-list-subscription-form.customDialog" hidden>
          <div class="SelectMenu-modal notifications-component-dialog-modal overflow-visible">
            <form data-target="notifications-list-subscription-form.customform" data-action="submit:notifications-list-subscription-form#submitCustomForm" action="/notifications/subscribe" accept-charset="UTF-8" method="post"><input type="hidden" name="authenticity_token" value="rw/Qn/sVlFMHM5XgKkHOdyHBpM5c36ypsUFipET4mbrMfK5RGw6AV722Rivc6eTZofG0ZxLJ2f4ggjy1GG1WVQ==" />

              <input type="hidden" name="repository_id" value="366905848">

              <header class="d-sm-none SelectMenu-header pb-0 border-bottom-0 px-2 px-sm-3">
                <h1 class="f3 SelectMenu-title d-inline-flex">
                  <button
                    class="color-bg-primary border-0 px-2 py-0 m-0 Link--secondary f5"
                    aria-label="Return to menu"
                    type="button"
                    data-action="click:notifications-list-subscription-form#closeCustomDialog"
                  >
                    <svg aria-hidden="true" viewBox="0 0 16 16" version="1.1" height="16" width="16" class="octicon octicon-arrow-left">
    <path fill-rule="evenodd" d="M7.78 12.53a.75.75 0 01-1.06 0L2.47 8.28a.75.75 0 010-1.06l4.25-4.25a.75.75 0 011.06 1.06L4.81 7h7.44a.75.75 0 010 1.5H4.81l2.97 2.97a.75.75 0 010 1.06z"></path>
</svg>
                  </button>
                  Custom
                </h1>
              </header>

              <header class="d-none d-sm-flex flex-items-start pt-1">
                <button
                  class="border-0 px-2 pt-1 m-0 Link--secondary f5"
                  style="background-color: transparent;"
                  aria-label="Return to menu"
                  type="button"
                  data-action="click:notifications-list-subscription-form#closeCustomDialog"
                >
                  <svg style="position: relative; left: 2px; top: 1px" aria-hidden="true" viewBox="0 0 16 16" version="1.1" height="16" width="16" class="octicon octicon-arrow-left">
    <path fill-rule="evenodd" d="M7.78 12.53a.75.75 0 01-1.06 0L2.47 8.28a.75.75 0 010-1.06l4.25-4.25a.75.75 0 011.06 1.06L4.81 7h7.44a.75.75 0 010 1.5H4.81l2.97 2.97a.75.75 0 010 1.06z"></path>
</svg>
                </button>

                <h1 class="pt-1 pr-4 pb-0 pl-0 f5 text-bold">
                  Custom
                </h1>
              </header>

              <fieldset>
                <legend>
                  <div class="text-small color-text-secondary pt-0 pr-3 pb-3 pl-6 pl-sm-5 border-bottom mb-3">
                    Select events you want to be notified of in addition to participating and @mentions.
                  </div>
                </legend>
                  <div class="form-checkbox mr-3 ml-6 ml-sm-5 mb-2 mt-0">
                    <label class="f5 text-normal">
                      <input
                        type="checkbox"
                        name="thread_types[]"
                        value="Issue"
                        data-targets="notifications-list-subscription-form.threadTypeCheckboxes"
                        data-action="change:notifications-list-subscription-form#threadTypeCheckboxesUpdated"
                        
                      >
                      Issues
                    </label>

                  </div>
                  <div class="form-checkbox mr-3 ml-6 ml-sm-5 mb-2 mt-0">
                    <label class="f5 text-normal">
                      <input
                        type="checkbox"
                        name="thread_types[]"
                        value="PullRequest"
                        data-targets="notifications-list-subscription-form.threadTypeCheckboxes"
                        data-action="change:notifications-list-subscription-form#threadTypeCheckboxesUpdated"
                        
                      >
                      Pull requests
                    </label>

                  </div>
                  <div class="form-checkbox mr-3 ml-6 ml-sm-5 mb-2 mt-0">
                    <label class="f5 text-normal">
                      <input
                        type="checkbox"
                        name="thread_types[]"
                        value="Release"
                        data-targets="notifications-list-subscription-form.threadTypeCheckboxes"
                        data-action="change:notifications-list-subscription-form#threadTypeCheckboxesUpdated"
                        
                      >
                      Releases
                    </label>

                  </div>
                  <div class="form-checkbox mr-3 ml-6 ml-sm-5 mb-2 mt-0">
                    <label class="f5 text-normal">
                      <input
                        type="checkbox"
                        name="thread_types[]"
                        value="Discussion"
                        data-targets="notifications-list-subscription-form.threadTypeCheckboxes"
                        data-action="change:notifications-list-subscription-form#threadTypeCheckboxesUpdated"
                        
                      >
                      Discussions
                    </label>

                      <span
                        class="tooltipped tooltipped-nw mr-2 p-1 float-right"
                        
                        aria-label="Discussions are not enabled for this repo">
                        <svg aria-hidden="true" viewBox="0 0 16 16" version="1.1" height="16" width="16" class="octicon octicon-info color-icon-secondary">
    <path fill-rule="evenodd" d="M8 1.5a6.5 6.5 0 100 13 6.5 6.5 0 000-13zM0 8a8 8 0 1116 0A8 8 0 010 8zm6.5-.25A.75.75 0 017.25 7h1a.75.75 0 01.75.75v2.75h.25a.75.75 0 010 1.5h-2a.75.75 0 010-1.5h.25v-2h-.25a.75.75 0 01-.75-.75zM8 6a1 1 0 100-2 1 1 0 000 2z"></path>
</svg>
                      </span>
                  </div>
                  <div class="form-checkbox mr-3 ml-6 ml-sm-5 mb-2 mt-0">
                    <label class="f5 text-normal">
                      <input
                        type="checkbox"
                        name="thread_types[]"
                        value="SecurityAlert"
                        data-targets="notifications-list-subscription-form.threadTypeCheckboxes"
                        data-action="change:notifications-list-subscription-form#threadTypeCheckboxesUpdated"
                        
                      >
                      Security alerts
                    </label>

                  </div>
              </fieldset>
              <div class="pt-2 pb-3 px-3 d-flex flex-justify-start flex-row-reverse">
                <button
                  type="submit"
                  name="do"
                  value="custom"
                  class="btn btn-sm btn-primary ml-2"
                  data-target="notifications-list-subscription-form.customSubmit"
                  disabled
                >Apply</button>

                <button
                  class="btn btn-sm"
                  type="button"
                  data-action="click:notifications-list-subscription-form#resetForm"
                  data-close-dialog="">Cancel</button>
              </div>
</form>          </div>
        </details-dialog>
        <div class="notifications-component-dialog-overlay"></div>
      </details>
        <a class="social-count"
          href="/benaziziasmae/squirtle_squad/watchers"
          aria-label="1 user is watching this repository"
          data-target="notifications-list-subscription-form.socialCount"
        >
          1
        </a>
    </notifications-list-subscription-form>



  </li>

  <li>
        <div class="d-block js-toggler-container js-social-container starring-container on">
    <form class="starred js-social-form" action="/benaziziasmae/squirtle_squad/unstar" accept-charset="UTF-8" method="post"><input type="hidden" name="authenticity_token" value="m8fQBNFsPfcEUUsKPhSHukNU+/6YWURSUu5zxt9tzVMl30PbfOCWNnGuzhI70wlscSuRWk+DddLxaTxhYd0F1Q==" />
      <input type="hidden" name="context" value="repository">
      <button type="submit" class="btn btn-sm btn-with-count  js-toggler-target" aria-label="Unstar this repository" title="Unstar benaziziasmae/squirtle_squad" data-hydro-click="{&quot;event_type&quot;:&quot;repository.click&quot;,&quot;payload&quot;:{&quot;target&quot;:&quot;UNSTAR_BUTTON&quot;,&quot;repository_id&quot;:366905848,&quot;originating_url&quot;:&quot;https://github.com/benaziziasmae/squirtle_squad/blob/main/Pokemon_type_water_price.ipynb&quot;,&quot;user_id&quot;:55547180}}" data-hydro-click-hmac="6c3eddf888bca625a43ec4e52cbd50e1677d90a7a94a8401851349d52f579059" data-ga-click="Repository, click unstar button, action:blob#show; text:Unstar">        <svg aria-hidden="true" viewBox="0 0 16 16" version="1.1" height="16" width="16" class="octicon octicon-star-fill mr-1">
    <path fill-rule="evenodd" d="M8 .25a.75.75 0 01.673.418l1.882 3.815 4.21.612a.75.75 0 01.416 1.279l-3.046 2.97.719 4.192a.75.75 0 01-1.088.791L8 12.347l-3.766 1.98a.75.75 0 01-1.088-.79l.72-4.194L.818 6.374a.75.75 0 01.416-1.28l4.21-.611L7.327.668A.75.75 0 018 .25z"></path>
</svg>
        <span>
          Unstar
</span></button>        <a class="social-count js-social-count" href="/benaziziasmae/squirtle_squad/stargazers"
           aria-label="2 users starred this repository">
           2
        </a>
</form>
    <form class="unstarred js-social-form" action="/benaziziasmae/squirtle_squad/star" accept-charset="UTF-8" method="post"><input type="hidden" name="authenticity_token" value="MvAL6vffcxS2T54ngDVgmAJSz4q2shuUrMn5mbbFkaFJ8fEEMpV0mwkC8ER+ayDzz+U7ZMJDURSV4y5XrZoooQ==" />
      <input type="hidden" name="context" value="repository">
      <button type="submit" class="btn btn-sm btn-with-count  js-toggler-target" aria-label="Unstar this repository" title="Star benaziziasmae/squirtle_squad" data-hydro-click="{&quot;event_type&quot;:&quot;repository.click&quot;,&quot;payload&quot;:{&quot;target&quot;:&quot;STAR_BUTTON&quot;,&quot;repository_id&quot;:366905848,&quot;originating_url&quot;:&quot;https://github.com/benaziziasmae/squirtle_squad/blob/main/Pokemon_type_water_price.ipynb&quot;,&quot;user_id&quot;:55547180}}" data-hydro-click-hmac="876f3d215ff9090f9cd715ae1038d9cf283da10aab3cb520dfe0069639c59be9" data-ga-click="Repository, click star button, action:blob#show; text:Star">        <svg aria-hidden="true" viewBox="0 0 16 16" version="1.1" height="16" width="16" class="octicon octicon-star mr-1">
    <path fill-rule="evenodd" d="M8 .25a.75.75 0 01.673.418l1.882 3.815 4.21.612a.75.75 0 01.416 1.279l-3.046 2.97.719 4.192a.75.75 0 01-1.088.791L8 12.347l-3.766 1.98a.75.75 0 01-1.088-.79l.72-4.194L.818 6.374a.75.75 0 01.416-1.28l4.21-.611L7.327.668A.75.75 0 018 .25zm0 2.445L6.615 5.5a.75.75 0 01-.564.41l-3.097.45 2.24 2.184a.75.75 0 01.216.664l-.528 3.084 2.769-1.456a.75.75 0 01.698 0l2.77 1.456-.53-3.084a.75.75 0 01.216-.664l2.24-2.183-3.096-.45a.75.75 0 01-.564-.41L8 2.694v.001z"></path>
</svg>
        <span>
          Star
</span></button>        <a class="social-count js-social-count" href="/benaziziasmae/squirtle_squad/stargazers"
           aria-label="2 users starred this repository">
          2
        </a>
</form>  </div>

  </li>

  <li>
            <!-- '"` --><!-- </textarea></xmp> --></option></form><form class="btn-with-count" action="/benaziziasmae/squirtle_squad/fork" accept-charset="UTF-8" method="post"><input type="hidden" name="authenticity_token" value="o2DfZM0zFXr4QD3jAodCKPUie4uGX5LkYuXZwcY6uV/Ze8XIGF/gMYVngJHRh8sTaucNST8zbLFElsnSIMzzNw==" />
              <button class="btn btn-sm btn-with-count" data-hydro-click="{&quot;event_type&quot;:&quot;repository.click&quot;,&quot;payload&quot;:{&quot;target&quot;:&quot;FORK_BUTTON&quot;,&quot;repository_id&quot;:366905848,&quot;originating_url&quot;:&quot;https://github.com/benaziziasmae/squirtle_squad/blob/main/Pokemon_type_water_price.ipynb&quot;,&quot;user_id&quot;:55547180}}" data-hydro-click-hmac="bbbb64ea8106d90c7bc90b15359c8510503119f7e7870f96de77efa248c9a9eb" data-ga-click="Repository, show fork modal, action:blob#show; text:Fork" type="submit" title="Fork your own copy of benaziziasmae/squirtle_squad to your account" aria-label="Fork your own copy of benaziziasmae/squirtle_squad to your account">                <svg aria-hidden="true" viewBox="0 0 16 16" version="1.1" height="16" width="16" class="octicon octicon-repo-forked">
    <path fill-rule="evenodd" d="M5 3.25a.75.75 0 11-1.5 0 .75.75 0 011.5 0zm0 2.122a2.25 2.25 0 10-1.5 0v.878A2.25 2.25 0 005.75 8.5h1.5v2.128a2.251 2.251 0 101.5 0V8.5h1.5a2.25 2.25 0 002.25-2.25v-.878a2.25 2.25 0 10-1.5 0v.878a.75.75 0 01-.75.75h-4.5A.75.75 0 015 6.25v-.878zm3.75 7.378a.75.75 0 11-1.5 0 .75.75 0 011.5 0zm3-8.75a.75.75 0 100-1.5.75.75 0 000 1.5z"></path>
</svg>
                Fork
</button></form>
      <a href="/benaziziasmae/squirtle_squad/network/members" class="social-count"
         aria-label="0 users forked this repository">
        0
      </a>
  </li>
</ul>

      </div>
        

  <nav data-pjax="#js-repo-pjax-container" aria-label="Repository" class="js-repo-nav js-sidenav-container-pjax js-responsive-underlinenav overflow-hidden UnderlineNav px-3 px-md-4 px-lg-5 color-bg-secondary">

    <ul class="UnderlineNav-body list-style-none">
        <li class="d-flex">
  <a href="/benaziziasmae/squirtle_squad" data-tab-item="i0code-tab" data-selected-links="repo_source repo_downloads repo_commits repo_releases repo_tags repo_branches repo_packages repo_deployments /benaziziasmae/squirtle_squad" data-hotkey="g c" data-ga-click="Repository, Navigation click, Code tab" aria-current="page" class="UnderlineNav-item hx_underlinenav-item no-wrap js-responsive-underlinenav-item selected">
    
                  <svg aria-hidden="true" viewBox="0 0 16 16" version="1.1" height="16" width="16" class="octicon octicon-code UnderlineNav-octicon d-none d-sm-inline">
    <path fill-rule="evenodd" d="M4.72 3.22a.75.75 0 011.06 1.06L2.06 8l3.72 3.72a.75.75 0 11-1.06 1.06L.47 8.53a.75.75 0 010-1.06l4.25-4.25zm6.56 0a.75.75 0 10-1.06 1.06L13.94 8l-3.72 3.72a.75.75 0 101.06 1.06l4.25-4.25a.75.75 0 000-1.06l-4.25-4.25z"></path>
</svg>
          <span data-content="Code">Code</span>
            <span title="Not available" class="Counter"></span>

    
</a></li>
        <li class="d-flex">
  <a href="/benaziziasmae/squirtle_squad/issues" data-tab-item="i1issues-tab" data-selected-links="repo_issues repo_labels repo_milestones /benaziziasmae/squirtle_squad/issues" data-hotkey="g i" data-ga-click="Repository, Navigation click, Issues tab" class="UnderlineNav-item hx_underlinenav-item no-wrap js-responsive-underlinenav-item">
    
                  <svg aria-hidden="true" viewBox="0 0 16 16" version="1.1" height="16" width="16" class="octicon octicon-issue-opened UnderlineNav-octicon d-none d-sm-inline">
    <path fill-rule="evenodd" d="M8 1.5a6.5 6.5 0 100 13 6.5 6.5 0 000-13zM0 8a8 8 0 1116 0A8 8 0 010 8zm9 3a1 1 0 11-2 0 1 1 0 012 0zm-.25-6.25a.75.75 0 00-1.5 0v3.5a.75.75 0 001.5 0v-3.5z"></path>
</svg>
          <span data-content="Issues">Issues</span>
            <span title="0" hidden="hidden" class="Counter">0</span>

    
</a></li>
        <li class="d-flex">
  <a href="/benaziziasmae/squirtle_squad/pulls" data-tab-item="i2pull-requests-tab" data-selected-links="repo_pulls checks /benaziziasmae/squirtle_squad/pulls" data-hotkey="g p" data-ga-click="Repository, Navigation click, Pull requests tab" class="UnderlineNav-item hx_underlinenav-item no-wrap js-responsive-underlinenav-item">
    
                  <svg aria-hidden="true" viewBox="0 0 16 16" version="1.1" height="16" width="16" class="octicon octicon-git-pull-request UnderlineNav-octicon d-none d-sm-inline">
    <path fill-rule="evenodd" d="M7.177 3.073L9.573.677A.25.25 0 0110 .854v4.792a.25.25 0 01-.427.177L7.177 3.427a.25.25 0 010-.354zM3.75 2.5a.75.75 0 100 1.5.75.75 0 000-1.5zm-2.25.75a2.25 2.25 0 113 2.122v5.256a2.251 2.251 0 11-1.5 0V5.372A2.25 2.25 0 011.5 3.25zM11 2.5h-1V4h1a1 1 0 011 1v5.628a2.251 2.251 0 101.5 0V5A2.5 2.5 0 0011 2.5zm1 10.25a.75.75 0 111.5 0 .75.75 0 01-1.5 0zM3.75 12a.75.75 0 100 1.5.75.75 0 000-1.5z"></path>
</svg>
          <span data-content="Pull requests">Pull requests</span>
            <span title="1" class="Counter">1</span>

    
</a></li>
        <li class="d-flex">
  <a href="/benaziziasmae/squirtle_squad/actions" data-tab-item="i3actions-tab" data-selected-links="repo_actions /benaziziasmae/squirtle_squad/actions" data-hotkey="g a" data-ga-click="Repository, Navigation click, Actions tab" class="UnderlineNav-item hx_underlinenav-item no-wrap js-responsive-underlinenav-item">
    
                  <svg aria-hidden="true" viewBox="0 0 16 16" version="1.1" height="16" width="16" class="octicon octicon-play UnderlineNav-octicon d-none d-sm-inline">
    <path fill-rule="evenodd" d="M1.5 8a6.5 6.5 0 1113 0 6.5 6.5 0 01-13 0zM8 0a8 8 0 100 16A8 8 0 008 0zM6.379 5.227A.25.25 0 006 5.442v5.117a.25.25 0 00.379.214l4.264-2.559a.25.25 0 000-.428L6.379 5.227z"></path>
</svg>
          <span data-content="Actions">Actions</span>
            <span title="Not available" class="Counter"></span>

    
</a></li>
        <li class="d-flex">
  <a href="/benaziziasmae/squirtle_squad/projects" data-tab-item="i4projects-tab" data-selected-links="repo_projects new_repo_project repo_project /benaziziasmae/squirtle_squad/projects" data-hotkey="g b" data-ga-click="Repository, Navigation click, Projects tab" class="UnderlineNav-item hx_underlinenav-item no-wrap js-responsive-underlinenav-item">
    
                  <svg aria-hidden="true" viewBox="0 0 16 16" version="1.1" height="16" width="16" class="octicon octicon-project UnderlineNav-octicon d-none d-sm-inline">
    <path fill-rule="evenodd" d="M1.75 0A1.75 1.75 0 000 1.75v12.5C0 15.216.784 16 1.75 16h12.5A1.75 1.75 0 0016 14.25V1.75A1.75 1.75 0 0014.25 0H1.75zM1.5 1.75a.25.25 0 01.25-.25h12.5a.25.25 0 01.25.25v12.5a.25.25 0 01-.25.25H1.75a.25.25 0 01-.25-.25V1.75zM11.75 3a.75.75 0 00-.75.75v7.5a.75.75 0 001.5 0v-7.5a.75.75 0 00-.75-.75zm-8.25.75a.75.75 0 011.5 0v5.5a.75.75 0 01-1.5 0v-5.5zM8 3a.75.75 0 00-.75.75v3.5a.75.75 0 001.5 0v-3.5A.75.75 0 008 3z"></path>
</svg>
          <span data-content="Projects">Projects</span>
            <span title="0" hidden="hidden" class="Counter">0</span>

    
</a></li>
        <li class="d-flex">
  <a href="/benaziziasmae/squirtle_squad/wiki" data-tab-item="i5wiki-tab" data-selected-links="repo_wiki /benaziziasmae/squirtle_squad/wiki" data-hotkey="g w" data-ga-click="Repository, Navigation click, Wikis tab" class="UnderlineNav-item hx_underlinenav-item no-wrap js-responsive-underlinenav-item">
    
                  <svg aria-hidden="true" viewBox="0 0 16 16" version="1.1" height="16" width="16" class="octicon octicon-book UnderlineNav-octicon d-none d-sm-inline">
    <path fill-rule="evenodd" d="M0 1.75A.75.75 0 01.75 1h4.253c1.227 0 2.317.59 3 1.501A3.744 3.744 0 0111.006 1h4.245a.75.75 0 01.75.75v10.5a.75.75 0 01-.75.75h-4.507a2.25 2.25 0 00-1.591.659l-.622.621a.75.75 0 01-1.06 0l-.622-.621A2.25 2.25 0 005.258 13H.75a.75.75 0 01-.75-.75V1.75zm8.755 3a2.25 2.25 0 012.25-2.25H14.5v9h-3.757c-.71 0-1.4.201-1.992.572l.004-7.322zm-1.504 7.324l.004-5.073-.002-2.253A2.25 2.25 0 005.003 2.5H1.5v9h3.757a3.75 3.75 0 011.994.574z"></path>
</svg>
          <span data-content="Wiki">Wiki</span>
            <span title="Not available" class="Counter"></span>

    
</a></li>
        <li class="d-flex">
  <a href="/benaziziasmae/squirtle_squad/security" data-tab-item="i6security-tab" data-selected-links="security overview alerts policy token_scanning code_scanning /benaziziasmae/squirtle_squad/security" data-hotkey="g s" data-ga-click="Repository, Navigation click, Security tab" class="UnderlineNav-item hx_underlinenav-item no-wrap js-responsive-underlinenav-item">
    
                  <svg aria-hidden="true" viewBox="0 0 16 16" version="1.1" height="16" width="16" class="octicon octicon-shield UnderlineNav-octicon d-none d-sm-inline">
    <path fill-rule="evenodd" d="M7.467.133a1.75 1.75 0 011.066 0l5.25 1.68A1.75 1.75 0 0115 3.48V7c0 1.566-.32 3.182-1.303 4.682-.983 1.498-2.585 2.813-5.032 3.855a1.7 1.7 0 01-1.33 0c-2.447-1.042-4.049-2.357-5.032-3.855C1.32 10.182 1 8.566 1 7V3.48a1.75 1.75 0 011.217-1.667l5.25-1.68zm.61 1.429a.25.25 0 00-.153 0l-5.25 1.68a.25.25 0 00-.174.238V7c0 1.358.275 2.666 1.057 3.86.784 1.194 2.121 2.34 4.366 3.297a.2.2 0 00.154 0c2.245-.956 3.582-2.104 4.366-3.298C13.225 9.666 13.5 8.36 13.5 7V3.48a.25.25 0 00-.174-.237l-5.25-1.68zM9 10.5a1 1 0 11-2 0 1 1 0 012 0zm-.25-5.75a.75.75 0 10-1.5 0v3a.75.75 0 001.5 0v-3z"></path>
</svg>
          <span data-content="Security">Security</span>
            <include-fragment src="/benaziziasmae/squirtle_squad/security/overall-count" accept="text/fragment+html"></include-fragment>

    
</a></li>
        <li class="d-flex">
  <a href="/benaziziasmae/squirtle_squad/pulse" data-tab-item="i7insights-tab" data-selected-links="repo_graphs repo_contributors dependency_graph dependabot_updates pulse people community /benaziziasmae/squirtle_squad/pulse" data-ga-click="Repository, Navigation click, Insights tab" class="UnderlineNav-item hx_underlinenav-item no-wrap js-responsive-underlinenav-item">
    
                  <svg aria-hidden="true" viewBox="0 0 16 16" version="1.1" height="16" width="16" class="octicon octicon-graph UnderlineNav-octicon d-none d-sm-inline">
    <path fill-rule="evenodd" d="M1.5 1.75a.75.75 0 00-1.5 0v12.5c0 .414.336.75.75.75h14.5a.75.75 0 000-1.5H1.5V1.75zm14.28 2.53a.75.75 0 00-1.06-1.06L10 7.94 7.53 5.47a.75.75 0 00-1.06 0L3.22 8.72a.75.75 0 001.06 1.06L7 7.06l2.47 2.47a.75.75 0 001.06 0l5.25-5.25z"></path>
</svg>
          <span data-content="Insights">Insights</span>
            <span title="Not available" class="Counter"></span>

    
</a></li>
</ul>
      <div style="visibility:hidden;" class="UnderlineNav-actions  js-responsive-underlinenav-overflow position-absolute pr-3 pr-md-4 pr-lg-5 right-0">      <details class="details-overlay details-reset position-relative">
  <summary role="button">          <div class="UnderlineNav-item mr-0 border-0">
            <svg aria-hidden="true" viewBox="0 0 16 16" version="1.1" height="16" width="16" class="octicon octicon-kebab-horizontal">
    <path d="M8 9a1.5 1.5 0 100-3 1.5 1.5 0 000 3zM1.5 9a1.5 1.5 0 100-3 1.5 1.5 0 000 3zm13 0a1.5 1.5 0 100-3 1.5 1.5 0 000 3z"></path>
</svg>
            <span class="sr-only">More</span>
          </div>
</summary>
  <div>          <details-menu role="menu" class="dropdown-menu dropdown-menu-sw">
  
            <ul>
                <li data-menu-item="i0code-tab" hidden>
                  <a role="menuitem" class="js-selected-navigation-item dropdown-item" data-selected-links=" /benaziziasmae/squirtle_squad" href="/benaziziasmae/squirtle_squad">
                    Code
</a>                </li>
                <li data-menu-item="i1issues-tab" hidden>
                  <a role="menuitem" class="js-selected-navigation-item dropdown-item" data-selected-links=" /benaziziasmae/squirtle_squad/issues" href="/benaziziasmae/squirtle_squad/issues">
                    Issues
</a>                </li>
                <li data-menu-item="i2pull-requests-tab" hidden>
                  <a role="menuitem" class="js-selected-navigation-item dropdown-item" data-selected-links=" /benaziziasmae/squirtle_squad/pulls" href="/benaziziasmae/squirtle_squad/pulls">
                    Pull requests
</a>                </li>
                <li data-menu-item="i3actions-tab" hidden>
                  <a role="menuitem" class="js-selected-navigation-item dropdown-item" data-selected-links=" /benaziziasmae/squirtle_squad/actions" href="/benaziziasmae/squirtle_squad/actions">
                    Actions
</a>                </li>
                <li data-menu-item="i4projects-tab" hidden>
                  <a role="menuitem" class="js-selected-navigation-item dropdown-item" data-selected-links=" /benaziziasmae/squirtle_squad/projects" href="/benaziziasmae/squirtle_squad/projects">
                    Projects
</a>                </li>
                <li data-menu-item="i5wiki-tab" hidden>
                  <a role="menuitem" class="js-selected-navigation-item dropdown-item" data-selected-links=" /benaziziasmae/squirtle_squad/wiki" href="/benaziziasmae/squirtle_squad/wiki">
                    Wiki
</a>                </li>
                <li data-menu-item="i6security-tab" hidden>
                  <a role="menuitem" class="js-selected-navigation-item dropdown-item" data-selected-links=" /benaziziasmae/squirtle_squad/security" href="/benaziziasmae/squirtle_squad/security">
                    Security
</a>                </li>
                <li data-menu-item="i7insights-tab" hidden>
                  <a role="menuitem" class="js-selected-navigation-item dropdown-item" data-selected-links=" /benaziziasmae/squirtle_squad/pulse" href="/benaziziasmae/squirtle_squad/pulse">
                    Insights
</a>                </li>
            </ul>

</details-menu></div>
</details></div>
</nav>

  </div>


<div class="container-xl clearfix new-discussion-timeline px-3 px-md-4 px-lg-5">
  <div id="repo-content-pjax-container" class="repository-content " >

    
      
    
<div>
  


    <a class="d-none js-permalink-shortcut" data-hotkey="y" href="/benaziziasmae/squirtle_squad/blob/776d2e2a223fb716f560d0342eff6e1f7ade018f/Pokemon_type_water_price.ipynb">Permalink</a>

    <!-- blob contrib key: blob_contributors:v22:3e5009226ba545990a057d5c7966e6d11f33d43d95111e2337c6d694d4f2fd0a -->

    <div class="d-flex flex-items-start flex-shrink-0 pb-3 flex-wrap flex-md-nowrap flex-justify-between flex-md-justify-start">
      
<div class="position-relative">
  <details class="details-reset details-overlay mr-0 mb-0 " id="branch-select-menu">
    <summary class="btn css-truncate"
            data-hotkey="w"
            title="Switch branches or tags">
      <svg aria-hidden="true" viewBox="0 0 16 16" version="1.1" height="16" width="16" class="octicon octicon-git-branch text-gray">
    <path fill-rule="evenodd" d="M11.75 2.5a.75.75 0 100 1.5.75.75 0 000-1.5zm-2.25.75a2.25 2.25 0 113 2.122V6A2.5 2.5 0 0110 8.5H6a1 1 0 00-1 1v1.128a2.251 2.251 0 11-1.5 0V5.372a2.25 2.25 0 111.5 0v1.836A2.492 2.492 0 016 7h4a1 1 0 001-1v-.628A2.25 2.25 0 019.5 3.25zM4.25 12a.75.75 0 100 1.5.75.75 0 000-1.5zM3.5 3.25a.75.75 0 111.5 0 .75.75 0 01-1.5 0z"></path>
</svg>
      <span class="css-truncate-target" data-menu-button>main</span>
      <span class="dropdown-caret"></span>
    </summary>

      
<div class="SelectMenu">
  <div class="SelectMenu-modal">
    <header class="SelectMenu-header">
      <span class="SelectMenu-title">Switch branches/tags</span>
      <button class="SelectMenu-closeButton" type="button" data-toggle-for="branch-select-menu"><svg aria-label="Close menu" aria-hidden="false" role="img" viewBox="0 0 16 16" version="1.1" height="16" width="16" class="octicon octicon-x">
    <path fill-rule="evenodd" d="M3.72 3.72a.75.75 0 011.06 0L8 6.94l3.22-3.22a.75.75 0 111.06 1.06L9.06 8l3.22 3.22a.75.75 0 11-1.06 1.06L8 9.06l-3.22 3.22a.75.75 0 01-1.06-1.06L6.94 8 3.72 4.78a.75.75 0 010-1.06z"></path>
</svg></button>
    </header>

    <input-demux data-action="tab-container-change:input-demux#storeInput tab-container-changed:input-demux#updateInput">
      <tab-container class="d-flex flex-column js-branches-tags-tabs" style="min-height: 0;">
        <div class="SelectMenu-filter">
          <input data-target="input-demux.source"
                 id="context-commitish-filter-field"
                 class="SelectMenu-input form-control"
                 aria-owns="ref-list-branches"
                 data-controls-ref-menu-id="ref-list-branches"
                 autofocus
                 autocomplete="off"
                 aria-label="Find or create a branch…"
                 placeholder="Find or create a branch…"
                 type="text"
          >
        </div>

        <div class="SelectMenu-tabs" role="tablist" data-target="input-demux.control" >
          <button class="SelectMenu-tab" type="button" role="tab" aria-selected="true">Branches</button>
          <button class="SelectMenu-tab" type="button" role="tab">Tags</button>
        </div>

        <div role="tabpanel" id="ref-list-branches" data-filter-placeholder="Find or create a branch…" class="d-flex flex-column flex-auto overflow-auto" tabindex="">
          <ref-selector
            type="branch"
            data-targets="input-demux.sinks"
            data-action="
              input-entered:ref-selector#inputEntered
              tab-selected:ref-selector#tabSelected
              focus-list:ref-selector#focusFirstListMember
            "
            query-endpoint="/benaziziasmae/squirtle_squad/refs"
            current-user-can-push
            cache-key="v0:1621114162.573767"
            current-committish="bWFpbg=="
            default-branch="bWFpbg=="
            name-with-owner="YmVuYXppemlhc21hZS9zcXVpcnRsZV9zcXVhZA=="
          >

            <template data-target="ref-selector.fetchFailedTemplate">
              <div class="SelectMenu-message" data-index="{{ index }}">Could not load branches</div>
            </template>

              <template data-target="ref-selector.noMatchTemplate">
    <!-- '"` --><!-- </textarea></xmp> --></option></form><form action="/benaziziasmae/squirtle_squad/branches" accept-charset="UTF-8" method="post"><input type="hidden" name="authenticity_token" value="8/1t9ghItY2LAsJxQKRndvGdpDJA5vdVIoWrYVtlixa45lULem8aDEOaz1Kp6lb2yjPn85gW812sCuOSx3f7kQ==" />
      <input type="hidden" name="name" value="{{ refName }}">
      <input type="hidden" name="branch"  value="main">
      <input type="hidden" name="path_binary" value="UG9rZW1vbl90eXBlX3dhdGVyX3ByaWNlLmlweW5i">

      <button class="SelectMenu-item break-word" type="submit" role="menuitem" data-index="{{ index }}">
        <svg class="octicon octicon-git-branch SelectMenu-icon flex-self-baseline" viewBox="0 0 16 16" version="1.1" width="16" height="16" aria-hidden="true"><path fill-rule="evenodd" d="M11.75 2.5a.75.75 0 100 1.5.75.75 0 000-1.5zm-2.25.75a2.25 2.25 0 113 2.122V6A2.5 2.5 0 0110 8.5H6a1 1 0 00-1 1v1.128a2.251 2.251 0 11-1.5 0V5.372a2.25 2.25 0 111.5 0v1.836A2.492 2.492 0 016 7h4a1 1 0 001-1v-.628A2.25 2.25 0 019.5 3.25zM4.25 12a.75.75 0 100 1.5.75.75 0 000-1.5zM3.5 3.25a.75.75 0 111.5 0 .75.75 0 01-1.5 0z"></path></svg>
        <div>
          <span class="text-bold">Create branch: {{ refName }}</span>
          <span class="color-text-tertiary">from ‘main’</span>
        </div>
      </button>
</form></template>


            <!-- TODO: this max-height is necessary or else the branch list won't scroll.  why? -->
            <div data-target="ref-selector.listContainer" role="menu" class="SelectMenu-list " style="max-height: 330px">
              <div class="SelectMenu-loading pt-3 pb-0" aria-label="Menu is loading">
                <svg style="box-sizing: content-box; color: var(--color-icon-primary);" viewBox="0 0 16 16" fill="none" width="32" height="32" class="anim-rotate">
  <circle cx="8" cy="8" r="7" stroke="currentColor" stroke-opacity="0.25" stroke-width="2" vector-effect="non-scaling-stroke" />
  <path d="M15 8a7.002 7.002 0 00-7-7" stroke="currentColor" stroke-width="2" stroke-linecap="round" vector-effect="non-scaling-stroke" />
</svg>
              </div>
            </div>

              <template data-target="ref-selector.itemTemplate">
  <a href="https://github.com/benaziziasmae/squirtle_squad/blob/{{ urlEncodedRefName }}/Pokemon_type_water_price.ipynb" class="SelectMenu-item" role="menuitemradio" rel="nofollow" aria-checked="{{ isCurrent }}" data-index="{{ index }}">
    <svg class="octicon octicon-check SelectMenu-icon SelectMenu-icon--check" viewBox="0 0 16 16" version="1.1" width="16" height="16" aria-hidden="true"><path fill-rule="evenodd" d="M13.78 4.22a.75.75 0 010 1.06l-7.25 7.25a.75.75 0 01-1.06 0L2.22 9.28a.75.75 0 011.06-1.06L6 10.94l6.72-6.72a.75.75 0 011.06 0z"></path></svg>
    <span class="flex-1 css-truncate css-truncate-overflow {{ isFilteringClass }}">{{ refName }}</span>
    <span hidden="{{ isNotDefault }}" class="Label Label--secondary flex-self-start">default</span>
  </a>
</template>


              <footer class="SelectMenu-footer"><a href="/benaziziasmae/squirtle_squad/branches">View all branches</a></footer>
          </ref-selector>

        </div>

        <div role="tabpanel" id="tags-menu" data-filter-placeholder="Find a tag" class="d-flex flex-column flex-auto overflow-auto" tabindex="" hidden>
          <ref-selector
            type="tag"
            data-action="
              input-entered:ref-selector#inputEntered
              tab-selected:ref-selector#tabSelected
              focus-list:ref-selector#focusFirstListMember
            "
            data-targets="input-demux.sinks"
            query-endpoint="/benaziziasmae/squirtle_squad/refs"
            cache-key="v0:1621114162.573767"
            current-committish="bWFpbg=="
            default-branch="bWFpbg=="
            name-with-owner="YmVuYXppemlhc21hZS9zcXVpcnRsZV9zcXVhZA=="
          >

            <template data-target="ref-selector.fetchFailedTemplate">
              <div class="SelectMenu-message" data-index="{{ index }}">Could not load tags</div>
            </template>

            <template data-target="ref-selector.noMatchTemplate">
              <div class="SelectMenu-message" data-index="{{ index }}">Nothing to show</div>
            </template>

              <template data-target="ref-selector.itemTemplate">
  <a href="https://github.com/benaziziasmae/squirtle_squad/blob/{{ urlEncodedRefName }}/Pokemon_type_water_price.ipynb" class="SelectMenu-item" role="menuitemradio" rel="nofollow" aria-checked="{{ isCurrent }}" data-index="{{ index }}">
    <svg class="octicon octicon-check SelectMenu-icon SelectMenu-icon--check" viewBox="0 0 16 16" version="1.1" width="16" height="16" aria-hidden="true"><path fill-rule="evenodd" d="M13.78 4.22a.75.75 0 010 1.06l-7.25 7.25a.75.75 0 01-1.06 0L2.22 9.28a.75.75 0 011.06-1.06L6 10.94l6.72-6.72a.75.75 0 011.06 0z"></path></svg>
    <span class="flex-1 css-truncate css-truncate-overflow {{ isFilteringClass }}">{{ refName }}</span>
    <span hidden="{{ isNotDefault }}" class="Label Label--secondary flex-self-start">default</span>
  </a>
</template>


            <div data-target="ref-selector.listContainer" role="menu" class="SelectMenu-list" style="max-height: 330px">
              <div class="SelectMenu-loading pt-3 pb-0" aria-label="Menu is loading">
                <svg style="box-sizing: content-box; color: var(--color-icon-primary);" viewBox="0 0 16 16" fill="none" width="32" height="32" class="anim-rotate">
  <circle cx="8" cy="8" r="7" stroke="currentColor" stroke-opacity="0.25" stroke-width="2" vector-effect="non-scaling-stroke" />
  <path d="M15 8a7.002 7.002 0 00-7-7" stroke="currentColor" stroke-width="2" stroke-linecap="round" vector-effect="non-scaling-stroke" />
</svg>
              </div>
            </div>
              <footer class="SelectMenu-footer"><a href="/benaziziasmae/squirtle_squad/tags">View all tags</a></footer>
          </ref-selector>
        </div>
      </tab-container>
    </input-demux>
  </div>
</div>

  </details>

</div>

      <h2 id="blob-path" class="breadcrumb flex-auto flex-self-center min-width-0 text-normal mx-2 width-full width-md-auto flex-order-1 flex-md-order-none mt-3 mt-md-0">
        <span class="js-repo-root text-bold"><span class="js-path-segment d-inline-block wb-break-all"><a data-pjax="true" href="/benaziziasmae/squirtle_squad"><span>squirtle_squad</span></a></span></span><span class="separator">/</span><strong class="final-path">Pokemon_type_water_price.ipynb</strong>
      </h2>
      <a href="/benaziziasmae/squirtle_squad/find/main"
            class="js-pjax-capture-input btn mr-2 d-none d-md-block"
            data-pjax
            data-hotkey="t">
        Go to file
      </a>

      <details id="blob-more-options-details" class="details-overlay details-reset position-relative">
  <summary role="button" class="btn">
  
            <svg aria-label="More options" role="img" viewBox="0 0 16 16" version="1.1" height="16" width="16" class="octicon octicon-kebab-horizontal">
    <path d="M8 9a1.5 1.5 0 100-3 1.5 1.5 0 000 3zM1.5 9a1.5 1.5 0 100-3 1.5 1.5 0 000 3zm13 0a1.5 1.5 0 100-3 1.5 1.5 0 000 3z"></path>
</svg>

  

</summary>
  <div>          <ul class="dropdown-menu dropdown-menu-sw">
            <li class="d-block d-md-none">
              <a class="dropdown-item d-flex flex-items-baseline" data-hydro-click="{&quot;event_type&quot;:&quot;repository.click&quot;,&quot;payload&quot;:{&quot;target&quot;:&quot;FIND_FILE_BUTTON&quot;,&quot;repository_id&quot;:366905848,&quot;originating_url&quot;:&quot;https://github.com/benaziziasmae/squirtle_squad/blob/main/Pokemon_type_water_price.ipynb&quot;,&quot;user_id&quot;:55547180}}" data-hydro-click-hmac="ed3d1194c39dd958f258671c409f0a886b6f0b8d221c7789d452094dd2ffaa64" data-ga-click="Repository, find file, location:repo overview" data-hotkey="t" data-pjax="true" href="/benaziziasmae/squirtle_squad/find/main">
                <span class="flex-auto">Go to file</span>
                <span class="text-small color-text-secondary" aria-hidden="true">T</span>
</a>            </li>
            <li data-toggle-for="blob-more-options-details">
              <button type="button" data-toggle-for="jumpto-line-details-dialog" class="btn-link dropdown-item">
                <span class="d-flex flex-items-baseline">
                  <span class="flex-auto">Go to line</span>
                  <span class="text-small color-text-secondary" aria-hidden="true">L</span>
                </span>
              </button>
            </li>
            <li class="dropdown-divider" role="none"></li>
            <li>
              <clipboard-copy value="Pokemon_type_water_price.ipynb" class="dropdown-item cursor-pointer" data-toggle-for="blob-more-options-details">
                Copy path
              </clipboard-copy>
            </li>
            <li>
              <clipboard-copy value="https://github.com/benaziziasmae/squirtle_squad/blob/776d2e2a223fb716f560d0342eff6e1f7ade018f/Pokemon_type_water_price.ipynb" class="dropdown-item cursor-pointer" data-toggle-for="blob-more-options-details" >
                <span class="d-flex flex-items-baseline">
                  <span class="flex-auto">Copy permalink</span>
                </span>
              </clipboard-copy>
            </li>
          </ul>
</div>
</details>    </div>



    <div class="Box d-flex flex-column flex-shrink-0 mb-3">
      
  <div class="Box-header Box-header--blue Details js-details-container">
      <div class="d-flex flex-items-center">
        <span class="flex-shrink-0 ml-n1 mr-n1 mt-n1 mb-n1">
          <a rel="contributor" data-skip-pjax="true" data-hovercard-type="user" data-hovercard-url="/users/iFan13/hovercard" data-octo-click="hovercard-link-click" data-octo-dimensions="link_type:self" href="/iFan13"><img class="avatar avatar-user" src="https://avatars.githubusercontent.com/u/55547180?s=48&amp;v=4" width="24" height="24" alt="@iFan13" /></a>
        </span>
        <div class="flex-1 d-flex flex-items-center ml-3 min-width-0">
          <div class="css-truncate css-truncate-overflow">
            <a class="text-bold Link--primary" rel="contributor" data-hovercard-type="user" data-hovercard-url="/users/iFan13/hovercard" data-octo-click="hovercard-link-click" data-octo-dimensions="link_type:self" href="/iFan13">iFan13</a>

                <span class="markdown-title">
                  <a data-pjax="true" title="upload dictionary" class="Link--secondary" href="/benaziziasmae/squirtle_squad/commit/640de49f0737ed6c08a0dda94c7f8ce44184bb06">upload dictionary</a>
                </span>
          </div>


          <span class="ml-2">
            <include-fragment accept="text/fragment+html" src="/benaziziasmae/squirtle_squad/commit/640de49f0737ed6c08a0dda94c7f8ce44184bb06/rollup?direction=e" class="d-inline"></include-fragment>
          </span>
        </div>
        <div class="ml-3 d-flex flex-shrink-0 flex-items-center flex-justify-end color-text-secondary no-wrap">
          <span class="d-none d-md-inline">
            <span>Latest commit</span>
            <a class="text-small text-mono Link--secondary" href="/benaziziasmae/squirtle_squad/commit/640de49f0737ed6c08a0dda94c7f8ce44184bb06" data-pjax>640de49</a>
            <span itemprop="dateModified"><relative-time datetime="2021-05-16T23:24:07Z" class="no-wrap">May 16, 2021</relative-time></span>
          </span>

          <a data-pjax href="/benaziziasmae/squirtle_squad/commits/main/Pokemon_type_water_price.ipynb" class="ml-3 no-wrap Link--primary no-underline">
            <svg aria-hidden="true" viewBox="0 0 16 16" version="1.1" height="16" width="16" class="octicon octicon-history text-gray">
    <path fill-rule="evenodd" d="M1.643 3.143L.427 1.927A.25.25 0 000 2.104V5.75c0 .138.112.25.25.25h3.646a.25.25 0 00.177-.427L2.715 4.215a6.5 6.5 0 11-1.18 4.458.75.75 0 10-1.493.154 8.001 8.001 0 101.6-5.684zM7.75 4a.75.75 0 01.75.75v2.992l2.028.812a.75.75 0 01-.557 1.392l-2.5-1A.75.75 0 017 8.25v-3.5A.75.75 0 017.75 4z"></path>
</svg>
            <span class="d-none d-sm-inline">
              <strong>History</strong>
            </span>
          </a>
        </div>
      </div>

  </div>

  <div class="Box-body d-flex flex-items-center flex-auto border-bottom-0 flex-wrap" >
    <details class="details-reset details-overlay details-overlay-dark lh-default color-text-primary float-left mr-3" id="blob_contributors_box">
      <summary class="Link--primary">
        <svg aria-hidden="true" viewBox="0 0 16 16" version="1.1" height="16" width="16" class="octicon octicon-people text-gray">
    <path fill-rule="evenodd" d="M5.5 3.5a2 2 0 100 4 2 2 0 000-4zM2 5.5a3.5 3.5 0 115.898 2.549 5.507 5.507 0 013.034 4.084.75.75 0 11-1.482.235 4.001 4.001 0 00-7.9 0 .75.75 0 01-1.482-.236A5.507 5.507 0 013.102 8.05 3.49 3.49 0 012 5.5zM11 4a.75.75 0 100 1.5 1.5 1.5 0 01.666 2.844.75.75 0 00-.416.672v.352a.75.75 0 00.574.73c1.2.289 2.162 1.2 2.522 2.372a.75.75 0 101.434-.44 5.01 5.01 0 00-2.56-3.012A3 3 0 0011 4z"></path>
</svg>
        <strong>1</strong>
        
        contributor
      </summary>
      <details-dialog
        class="Box Box--overlay d-flex flex-column anim-fade-in fast"
        aria-label="Users who have contributed to this file"
        src="/benaziziasmae/squirtle_squad/contributors-list/main/Pokemon_type_water_price.ipynb" preload>
        <div class="Box-header">
          <button class="Box-btn-octicon btn-octicon float-right" type="button" aria-label="Close dialog" data-close-dialog>
            <svg aria-hidden="true" viewBox="0 0 16 16" version="1.1" height="16" width="16" class="octicon octicon-x">
    <path fill-rule="evenodd" d="M3.72 3.72a.75.75 0 011.06 0L8 6.94l3.22-3.22a.75.75 0 111.06 1.06L9.06 8l3.22 3.22a.75.75 0 11-1.06 1.06L8 9.06l-3.22 3.22a.75.75 0 01-1.06-1.06L6.94 8 3.72 4.78a.75.75 0 010-1.06z"></path>
</svg>
          </button>
          <h3 class="Box-title">
            Users who have contributed to this file
          </h3>
        </div>
        <include-fragment>
          <svg style="box-sizing: content-box; color: var(--color-icon-primary);" viewBox="0 0 16 16" fill="none" width="32" height="32" class="my-3 mx-auto d-block anim-rotate">
  <circle cx="8" cy="8" r="7" stroke="currentColor" stroke-opacity="0.25" stroke-width="2" vector-effect="non-scaling-stroke" />
  <path d="M15 8a7.002 7.002 0 00-7-7" stroke="currentColor" stroke-width="2" stroke-linecap="round" vector-effect="non-scaling-stroke" />
</svg>
        </include-fragment>
      </details-dialog>
    </details>
  </div>
    </div>




      







  
    <div data-target="readme-toc.content" class="Box mt-3 position-relative
    ">
      
  <div
    class="Box-header py-2 pr-2 d-flex flex-shrink-0 flex-md-row flex-items-center"
    
  >


  <div class="text-mono f6 flex-auto pr-3 flex-order-2 flex-md-order-1">

      766 lines (766 sloc)
      <span class="file-info-divider"></span>
    69.3 KB
  </div>

  <div class="d-flex py-1 py-md-0 flex-auto flex-order-1 flex-md-order-2 flex-sm-grow-0 flex-justify-between hide-sm hide-md">
      <div class="BtnGroup">
        <a class="btn btn-sm BtnGroup-item tooltipped tooltipped tooltipped-n source "
          href="/benaziziasmae/squirtle_squad/blob/main/Pokemon_type_water_price.ipynb?short_path=9bc2942" aria-label="Display the source blob">
          <svg aria-hidden="true" viewBox="0 0 16 16" version="1.1" height="16" width="16" class="octicon octicon-code">
    <path fill-rule="evenodd" d="M4.72 3.22a.75.75 0 011.06 1.06L2.06 8l3.72 3.72a.75.75 0 11-1.06 1.06L.47 8.53a.75.75 0 010-1.06l4.25-4.25zm6.56 0a.75.75 0 10-1.06 1.06L13.94 8l-3.72 3.72a.75.75 0 101.06 1.06l4.25-4.25a.75.75 0 000-1.06l-4.25-4.25z"></path>
</svg>
        </a>
        <a class="btn btn-sm BtnGroup-item tooltipped tooltipped-n rendered selected"
          href="/benaziziasmae/squirtle_squad/blob/main/Pokemon_type_water_price.ipynb" aria-label="Display the rendered blob">
          <svg aria-hidden="true" viewBox="0 0 16 16" version="1.1" height="16" width="16" class="octicon octicon-file">
    <path fill-rule="evenodd" d="M3.75 1.5a.25.25 0 00-.25.25v11.5c0 .138.112.25.25.25h8.5a.25.25 0 00.25-.25V6H9.75A1.75 1.75 0 018 4.25V1.5H3.75zm5.75.56v2.19c0 .138.112.25.25.25h2.19L9.5 2.06zM2 1.75C2 .784 2.784 0 3.75 0h5.086c.464 0 .909.184 1.237.513l3.414 3.414c.329.328.513.773.513 1.237v8.086A1.75 1.75 0 0112.25 15h-8.5A1.75 1.75 0 012 13.25V1.75z"></path>
</svg>
        </a>
      </div>

    <div class="BtnGroup">
      <a href="/benaziziasmae/squirtle_squad/raw/main/Pokemon_type_water_price.ipynb" id="raw-url" role="button" class="btn-sm btn BtnGroup-item">
  
  Raw
  

</a>
        <a href="/benaziziasmae/squirtle_squad/blame/main/Pokemon_type_water_price.ipynb" data-hotkey="b" role="button" class="js-update-url-with-hash btn-sm btn BtnGroup-item">
  
  Blame
  

</a>
    </div>

    <div>
          <a class="btn-octicon tooltipped tooltipped-nw js-remove-unless-platform"
             data-platforms="windows,mac"
             href="x-github-client://openRepo/https://github.com/benaziziasmae/squirtle_squad?branch=main&amp;filepath=Pokemon_type_water_price.ipynb"
             aria-label="Open this file in GitHub Desktop"
             data-ga-click="Repository, open with desktop">
              <svg aria-hidden="true" viewBox="0 0 16 16" version="1.1" height="16" width="16" class="octicon octicon-device-desktop">
    <path fill-rule="evenodd" d="M1.75 2.5h12.5a.25.25 0 01.25.25v7.5a.25.25 0 01-.25.25H1.75a.25.25 0 01-.25-.25v-7.5a.25.25 0 01.25-.25zM14.25 1H1.75A1.75 1.75 0 000 2.75v7.5C0 11.216.784 12 1.75 12h3.727c-.1 1.041-.52 1.872-1.292 2.757A.75.75 0 004.75 16h6.5a.75.75 0 00.565-1.243c-.772-.885-1.193-1.716-1.292-2.757h3.727A1.75 1.75 0 0016 10.25v-7.5A1.75 1.75 0 0014.25 1zM9.018 12H6.982a5.72 5.72 0 01-.765 2.5h3.566a5.72 5.72 0 01-.765-2.5z"></path>
</svg>
          </a>

          <!-- '"` --><!-- </textarea></xmp> --></option></form><form class="inline-form js-update-url-with-hash" action="/benaziziasmae/squirtle_squad/edit/main/Pokemon_type_water_price.ipynb" accept-charset="UTF-8" method="post"><input type="hidden" name="authenticity_token" value="ja+QoCWcHQiIru23uqP2rNo+awhFlXlH8iiwJOVF3GaaIIuEYZLEoYIW2Dar3HllsyZEA0O4jS1og3ebDss/Cw==" />
            <button class="btn-octicon tooltipped tooltipped-nw" type="submit"
              aria-label="Edit this file" data-hotkey="e" data-disable-with>
              <svg aria-hidden="true" viewBox="0 0 16 16" version="1.1" height="16" width="16" class="octicon octicon-pencil">
    <path fill-rule="evenodd" d="M11.013 1.427a1.75 1.75 0 012.474 0l1.086 1.086a1.75 1.75 0 010 2.474l-8.61 8.61c-.21.21-.47.364-.756.445l-3.251.93a.75.75 0 01-.927-.928l.929-3.25a1.75 1.75 0 01.445-.758l8.61-8.61zm1.414 1.06a.25.25 0 00-.354 0L10.811 3.75l1.439 1.44 1.263-1.263a.25.25 0 000-.354l-1.086-1.086zM11.189 6.25L9.75 4.81l-6.286 6.287a.25.25 0 00-.064.108l-.558 1.953 1.953-.558a.249.249 0 00.108-.064l6.286-6.286z"></path>
</svg>
            </button>
</form>
          <!-- '"` --><!-- </textarea></xmp> --></option></form><form class="inline-form" action="/benaziziasmae/squirtle_squad/delete/main/Pokemon_type_water_price.ipynb" accept-charset="UTF-8" method="post"><input type="hidden" name="authenticity_token" value="yxtGZJ5c1pns92Gi61SeIDC1sMPCW3f76KI/jAUt7WFDALSffIq6l6vthA3357i6qbZoIazTFgtDcnyalqd1Jg==" />
            <button class="btn-octicon btn-octicon-danger tooltipped tooltipped-nw" type="submit"
              aria-label="Delete this file" data-disable-with>
              <svg aria-hidden="true" viewBox="0 0 16 16" version="1.1" height="16" width="16" class="octicon octicon-trash">
    <path fill-rule="evenodd" d="M6.5 1.75a.25.25 0 01.25-.25h2.5a.25.25 0 01.25.25V3h-3V1.75zm4.5 0V3h2.25a.75.75 0 010 1.5H2.75a.75.75 0 010-1.5H5V1.75C5 .784 5.784 0 6.75 0h2.5C10.216 0 11 .784 11 1.75zM4.496 6.675a.75.75 0 10-1.492.15l.66 6.6A1.75 1.75 0 005.405 15h5.19c.9 0 1.652-.681 1.741-1.576l.66-6.6a.75.75 0 00-1.492-.149l-.66 6.6a.25.25 0 01-.249.225h-5.19a.25.25 0 01-.249-.225l-.66-6.6z"></path>
</svg>
            </button>
</form>    </div>
  </div>

    <div class="d-flex hide-lg hide-xl flex-order-2 flex-grow-0">
      <details class="dropdown details-reset details-overlay d-inline-block">
        <summary class="btn-octicon" aria-haspopup="true" aria-label="possible actions">
          <svg height="16" class="octicon octicon-kebab-horizontal" viewBox="0 0 16 16" version="1.1" width="16" aria-hidden="true"><path d="M8 9a1.5 1.5 0 100-3 1.5 1.5 0 000 3zM1.5 9a1.5 1.5 0 100-3 1.5 1.5 0 000 3zm13 0a1.5 1.5 0 100-3 1.5 1.5 0 000 3z"></path></svg>
        </summary>

        <ul class="dropdown-menu dropdown-menu-sw">
            <li>
                <a class="dropdown-item tooltipped tooltipped-nw js-remove-unless-platform"
                   data-platforms="windows,mac"
                   href="x-github-client://openRepo/https://github.com/benaziziasmae/squirtle_squad?branch=main&amp;filepath=Pokemon_type_water_price.ipynb"
                   data-ga-click="Repository, open with desktop">
                  Open with Desktop
                </a>
            </li>
          <li>
            <a class="dropdown-item" href="/benaziziasmae/squirtle_squad/raw/main/Pokemon_type_water_price.ipynb">
              View raw
            </a>
          </li>
            <li>
              <a class="dropdown-item" href="/benaziziasmae/squirtle_squad/blame/main/Pokemon_type_water_price.ipynb">
                View blame
              </a>
            </li>

              <li class="dropdown-divider" role="none"></li>
              <li>
                <a class="dropdown-item" href="/benaziziasmae/squirtle_squad/edit/main/Pokemon_type_water_price.ipynb">Edit file</a>
              </li>
              <li>
                <a class="dropdown-item menu-item-danger" href="/benaziziasmae/squirtle_squad/delete/main/Pokemon_type_water_price.ipynb">Delete file</a>
              </li>
        </ul>
      </details>
    </div>
</div>


      
  <div itemprop="text" class="Box-body p-0 blob-wrapper data type-jupyter-notebook  gist-border-0">
      
  <div class="render-wrapper ">
    <div class="render-container is-render-pending js-render-target  "
      data-identity="63199ca8-1d3d-41bc-883c-a242e7ef7448"
      data-host="https://render.githubusercontent.com"
      data-type="ipynb">
      <svg style="box-sizing: content-box; color: var(--color-icon-primary);" viewBox="0 0 16 16" fill="none" width="64" height="64" class="octospinner mx-auto anim-rotate">
  <circle cx="8" cy="8" r="7" stroke="currentColor" stroke-opacity="0.25" stroke-width="2" vector-effect="non-scaling-stroke" />
  <path d="M15 8a7.002 7.002 0 00-7-7" stroke="currentColor" stroke-width="2" stroke-linecap="round" vector-effect="non-scaling-stroke" />
</svg>
      <div class="render-viewer-error">Sorry, something went wrong. <a href="https://github.com/benaziziasmae/squirtle_squad/blob/main/Pokemon_type_water_price.ipynb">Reload?</a></div>
      <div class="render-viewer-fatal">Sorry, we cannot display this file.</div>
      <div class="render-viewer-invalid">Sorry, this file is invalid so it cannot be displayed.</div>
      <iframe class="render-viewer " src="https://render.githubusercontent.com/view/ipynb?color_mode=dark&amp;commit=776d2e2a223fb716f560d0342eff6e1f7ade018f&amp;enc_url=68747470733a2f2f7261772e67697468756275736572636f6e74656e742e636f6d2f62656e617a697a6961736d61652f7371756972746c655f73717561642f373736643265326132323366623731366635363064303334326566663665316637616465303138662f506f6b656d6f6e5f747970655f77617465725f70726963652e6970796e62&amp;nwo=benaziziasmae%2Fsquirtle_squad&amp;path=Pokemon_type_water_price.ipynb&amp;repository_id=366905848&amp;repository_type=Repository#63199ca8-1d3d-41bc-883c-a242e7ef7448" sandbox="allow-scripts allow-same-origin allow-top-navigation" title="File display">
          Viewer requires iframe.
      </iframe>
    </div>
  </div>

  </div>

    </div>


  

  <details class="details-reset details-overlay details-overlay-dark" id="jumpto-line-details-dialog">
    <summary data-hotkey="l" aria-label="Jump to line"></summary>
    <details-dialog class="Box Box--overlay d-flex flex-column anim-fade-in fast linejump" aria-label="Jump to line">
      <!-- '"` --><!-- </textarea></xmp> --></option></form><form class="js-jump-to-line-form Box-body d-flex" action="" accept-charset="UTF-8" method="get">
        <input class="form-control flex-auto mr-3 linejump-input js-jump-to-line-field" type="text" placeholder="Jump to line&hellip;" aria-label="Jump to line" autofocus>
        <button type="submit" class="btn" data-close-dialog>Go</button>
</form>    </details-dialog>
  </details>


</div>



  </div>
</div>

    </main>
  </div>

  </div>

          
<div class="footer container-xl width-full p-responsive" role="contentinfo">
  <div class="position-relative d-flex flex-row-reverse flex-lg-row flex-wrap flex-lg-nowrap flex-justify-center flex-lg-justify-between pt-6 pb-2 mt-6 f6 color-text-secondary border-top color-border-secondary ">
    <ul class="list-style-none d-flex flex-wrap col-12 col-lg-5 flex-justify-center flex-lg-justify-between mb-2 mb-lg-0">
      <li class="mr-3 mr-lg-0">&copy; 2021 GitHub, Inc.</li>
        <li class="mr-3 mr-lg-0"><a href="https://docs.github.com/en/github/site-policy/github-terms-of-service" data-ga-click="Footer, go to terms, text:terms">Terms</a></li>
        <li class="mr-3 mr-lg-0"><a href="https://docs.github.com/en/github/site-policy/github-privacy-statement" data-ga-click="Footer, go to privacy, text:privacy">Privacy</a></li>
        <li class="mr-3 mr-lg-0"><a data-ga-click="Footer, go to security, text:security" href="https://github.com/security">Security</a></li>
        <li class="mr-3 mr-lg-0"><a href="https://www.githubstatus.com/" data-ga-click="Footer, go to status, text:status">Status</a></li>
        <li><a data-ga-click="Footer, go to help, text:Docs" href="https://docs.github.com">Docs</a></li>
    </ul>

    <a aria-label="Homepage" title="GitHub" class="footer-octicon d-none d-lg-block mx-lg-4" href="https://github.com">
      <svg height="24" class="octicon octicon-mark-github" viewBox="0 0 16 16" version="1.1" width="24" aria-hidden="true"><path fill-rule="evenodd" d="M8 0C3.58 0 0 3.58 0 8c0 3.54 2.29 6.53 5.47 7.59.4.07.55-.17.55-.38 0-.19-.01-.82-.01-1.49-2.01.37-2.53-.49-2.69-.94-.09-.23-.48-.94-.82-1.13-.28-.15-.68-.52-.01-.53.63-.01 1.08.58 1.23.82.72 1.21 1.87.87 2.33.66.07-.52.28-.87.51-1.07-1.78-.2-3.64-.89-3.64-3.95 0-.87.31-1.59.82-2.15-.08-.2-.36-1.02.08-2.12 0 0 .67-.21 2.2.82.64-.18 1.32-.27 2-.27.68 0 1.36.09 2 .27 1.53-1.04 2.2-.82 2.2-.82.44 1.1.16 1.92.08 2.12.51.56.82 1.27.82 2.15 0 3.07-1.87 3.75-3.65 3.95.29.25.54.73.54 1.48 0 1.07-.01 1.93-.01 2.2 0 .21.15.46.55.38A8.013 8.013 0 0016 8c0-4.42-3.58-8-8-8z"></path></svg>
</a>
    <ul class="list-style-none d-flex flex-wrap col-12 col-lg-5 flex-justify-center flex-lg-justify-between mb-2 mb-lg-0">
        <li class="mr-3 mr-lg-0"><a href="https://support.github.com" data-ga-click="Footer, go to contact, text:contact">Contact GitHub</a></li>
        <li class="mr-3 mr-lg-0"><a href="https://github.com/pricing" data-ga-click="Footer, go to Pricing, text:Pricing">Pricing</a></li>
      <li class="mr-3 mr-lg-0"><a href="https://docs.github.com" data-ga-click="Footer, go to api, text:api">API</a></li>
      <li class="mr-3 mr-lg-0"><a href="https://services.github.com" data-ga-click="Footer, go to training, text:training">Training</a></li>
        <li class="mr-3 mr-lg-0"><a href="https://github.blog" data-ga-click="Footer, go to blog, text:blog">Blog</a></li>
        <li><a data-ga-click="Footer, go to about, text:about" href="https://github.com/about">About</a></li>
    </ul>
  </div>
  <div class="d-flex flex-justify-center pb-6">
    <span class="f6 color-text-tertiary"></span>
  </div>

  
</div>



  <div id="ajax-error-message" class="ajax-error-message flash flash-error" hidden>
    <svg aria-hidden="true" viewBox="0 0 16 16" version="1.1" height="16" width="16" class="octicon octicon-alert">
    <path fill-rule="evenodd" d="M8.22 1.754a.25.25 0 00-.44 0L1.698 13.132a.25.25 0 00.22.368h12.164a.25.25 0 00.22-.368L8.22 1.754zm-1.763-.707c.659-1.234 2.427-1.234 3.086 0l6.082 11.378A1.75 1.75 0 0114.082 15H1.918a1.75 1.75 0 01-1.543-2.575L6.457 1.047zM9 11a1 1 0 11-2 0 1 1 0 012 0zm-.25-5.25a.75.75 0 00-1.5 0v2.5a.75.75 0 001.5 0v-2.5z"></path>
</svg>
    <button type="button" class="flash-close js-ajax-error-dismiss" aria-label="Dismiss error">
      <svg aria-hidden="true" viewBox="0 0 16 16" version="1.1" height="16" width="16" class="octicon octicon-x">
    <path fill-rule="evenodd" d="M3.72 3.72a.75.75 0 011.06 0L8 6.94l3.22-3.22a.75.75 0 111.06 1.06L9.06 8l3.22 3.22a.75.75 0 11-1.06 1.06L8 9.06l-3.22 3.22a.75.75 0 01-1.06-1.06L6.94 8 3.72 4.78a.75.75 0 010-1.06z"></path>
</svg>
    </button>
    You can’t perform that action at this time.
  </div>

  <div class="js-stale-session-flash flash flash-warn flash-banner" hidden
    >
    <svg aria-hidden="true" viewBox="0 0 16 16" version="1.1" height="16" width="16" class="octicon octicon-alert">
    <path fill-rule="evenodd" d="M8.22 1.754a.25.25 0 00-.44 0L1.698 13.132a.25.25 0 00.22.368h12.164a.25.25 0 00.22-.368L8.22 1.754zm-1.763-.707c.659-1.234 2.427-1.234 3.086 0l6.082 11.378A1.75 1.75 0 0114.082 15H1.918a1.75 1.75 0 01-1.543-2.575L6.457 1.047zM9 11a1 1 0 11-2 0 1 1 0 012 0zm-.25-5.25a.75.75 0 00-1.5 0v2.5a.75.75 0 001.5 0v-2.5z"></path>
</svg>
    <span class="js-stale-session-flash-signed-in" hidden>You signed in with another tab or window. <a href="">Reload</a> to refresh your session.</span>
    <span class="js-stale-session-flash-signed-out" hidden>You signed out in another tab or window. <a href="">Reload</a> to refresh your session.</span>
  </div>
    <template id="site-details-dialog">
  <details class="details-reset details-overlay details-overlay-dark lh-default color-text-primary hx_rsm" open>
    <summary role="button" aria-label="Close dialog"></summary>
    <details-dialog class="Box Box--overlay d-flex flex-column anim-fade-in fast hx_rsm-dialog hx_rsm-modal">
      <button class="Box-btn-octicon m-0 btn-octicon position-absolute right-0 top-0" type="button" aria-label="Close dialog" data-close-dialog>
        <svg aria-hidden="true" viewBox="0 0 16 16" version="1.1" height="16" width="16" class="octicon octicon-x">
    <path fill-rule="evenodd" d="M3.72 3.72a.75.75 0 011.06 0L8 6.94l3.22-3.22a.75.75 0 111.06 1.06L9.06 8l3.22 3.22a.75.75 0 11-1.06 1.06L8 9.06l-3.22 3.22a.75.75 0 01-1.06-1.06L6.94 8 3.72 4.78a.75.75 0 010-1.06z"></path>
</svg>
      </button>
      <div class="octocat-spinner my-6 js-details-dialog-spinner"></div>
    </details-dialog>
  </details>
</template>

    <div class="Popover js-hovercard-content position-absolute" style="display: none; outline: none;" tabindex="0">
  <div class="Popover-message Popover-message--bottom-left Popover-message--large Box color-shadow-large" style="width:360px;">
  </div>
</div>

    <template id="snippet-clipboard-copy-button">
  <div class="zeroclipboard-container position-absolute right-0 top-0">
    <clipboard-copy aria-label="Copy" class="ClipboardButton btn js-clipboard-copy m-2 p-0 tooltipped-no-delay" data-copy-feedback="Copied!" data-tooltip-direction="w">
      <svg aria-hidden="true" viewBox="0 0 16 16" version="1.1" height="16" width="16" class="octicon octicon-clippy js-clipboard-clippy-icon d-block m-2">
    <path fill-rule="evenodd" d="M5.75 1a.75.75 0 00-.75.75v3c0 .414.336.75.75.75h4.5a.75.75 0 00.75-.75v-3a.75.75 0 00-.75-.75h-4.5zm.75 3V2.5h3V4h-3zm-2.874-.467a.75.75 0 00-.752-1.298A1.75 1.75 0 002 3.75v9.5c0 .966.784 1.75 1.75 1.75h8.5A1.75 1.75 0 0014 13.25v-9.5a1.75 1.75 0 00-.874-1.515.75.75 0 10-.752 1.298.25.25 0 01.126.217v9.5a.25.25 0 01-.25.25h-8.5a.25.25 0 01-.25-.25v-9.5a.25.25 0 01.126-.217z"></path>
</svg>
      <svg aria-hidden="true" viewBox="0 0 16 16" version="1.1" height="16" width="16" class="octicon octicon-check js-clipboard-check-icon color-text-success d-block d-sm-none m-2">
    <path fill-rule="evenodd" d="M13.78 4.22a.75.75 0 010 1.06l-7.25 7.25a.75.75 0 01-1.06 0L2.22 9.28a.75.75 0 011.06-1.06L6 10.94l6.72-6.72a.75.75 0 011.06 0z"></path>
</svg>
    </clipboard-copy>
  </div>
</template>



  

  </body>
</html>

=======
{
 "cells": [
  {
   "cell_type": "code",
   "execution_count": 1,
   "id": "40a6d650",
   "metadata": {},
   "outputs": [],
   "source": [
    "# import dependencies\n",
    "import pandas as pd\n",
    "import requests\n",
    "import csv"
   ]
  },
  {
   "cell_type": "code",
   "execution_count": 2,
   "id": "a55ea570",
   "metadata": {},
   "outputs": [],
   "source": [
    "# Call API\n",
    "url = 'https://api.pokemontcg.io/v2/types'"
   ]
  },
  {
   "cell_type": "code",
   "execution_count": 3,
   "id": "086cb913",
   "metadata": {},
   "outputs": [
    {
     "output_type": "execute_result",
     "data": {
      "text/plain": [
       "<Response [200]>"
      ]
     },
     "metadata": {},
     "execution_count": 3
    }
   ],
   "source": [
    "card_info = requests.get(url)\n",
    "card_info"
   ]
  },
  {
   "cell_type": "code",
   "execution_count": 4,
   "id": "551e53d1",
   "metadata": {},
   "outputs": [
    {
     "output_type": "execute_result",
     "data": {
      "text/plain": [
       "{'data': ['Colorless',\n",
       "  'Darkness',\n",
       "  'Dragon',\n",
       "  'Fairy',\n",
       "  'Fighting',\n",
       "  'Fire',\n",
       "  'Grass',\n",
       "  'Lightning',\n",
       "  'Metal',\n",
       "  'Psychic',\n",
       "  'Water']}"
      ]
     },
     "metadata": {},
     "execution_count": 4
    }
   ],
   "source": [
    "card_info.json()"
   ]
  },
  {
   "cell_type": "code",
   "execution_count": 5,
   "id": "b7f6e4c3",
   "metadata": {},
   "outputs": [
    {
     "output_type": "execute_result",
     "data": {
      "text/plain": [
       "<Response [200]>"
      ]
     },
     "metadata": {},
     "execution_count": 5
    }
   ],
   "source": [
    "# Fiter cards by type\n",
    "type_url= 'https://api.pokemontcg.io/v2/cards?q=supertype:pokemon types:Water'\n",
    "type_info = requests.get(type_url)\n",
    "type_info"
   ]
  },
  {
   "cell_type": "code",
   "execution_count": 6,
   "id": "59ae184d",
   "metadata": {},
   "outputs": [
    {
     "output_type": "execute_result",
     "data": {
      "text/plain": [
       "y attached to it, this attack does 20 damage to 2 of your opponent's Benched Pokémon. (Don't apply Weakness and Resistance for Benched Pokémon.)\"},\n",
       "    {'name': 'Blizzard Burn',\n",
       "     'cost': ['Water', 'Water', 'Colorless'],\n",
       "     'convertedEnergyCost': 3,\n",
       "     'damage': '130',\n",
       "     'text': \"This Pokémon can't attack during your next turn.\"}],\n",
       "   'weaknesses': [{'type': 'Metal', 'value': '×2'}],\n",
       "   'retreatCost': ['Colorless', 'Colorless', 'Colorless'],\n",
       "   'convertedRetreatCost': 3,\n",
       "   'set': {'id': 'xy10',\n",
       "    'name': 'Fates Collide',\n",
       "    'series': 'XY',\n",
       "    'printedTotal': 124,\n",
       "    'total': 125,\n",
       "    'legalities': {'unlimited': 'Legal', 'expanded': 'Legal'},\n",
       "    'ptcgoCode': 'FCO',\n",
       "    'releaseDate': '2016/05/02',\n",
       "    'updatedAt': '2018/09/03 11:49:00',\n",
       "    'images': {'symbol': 'https://images.pokemontcg.io/xy10/symbol.png',\n",
       "     'logo': 'https://images.pokemontcg.io/xy10/logo.png'}},\n",
       "   'number': '21',\n",
       "   'artist': 'kawayoo',\n",
       "   'rarity': 'Rare Holo',\n",
       "   'flavorText': 'It generates a powerful, freezing energy inside itself, but its body became frozen when the energy leaked out.',\n",
       "   'nationalPokedexNumbers': [646],\n",
       "   'legalities': {'unlimited': 'Legal', 'expanded': 'Legal'},\n",
       "   'images': {'small': 'https://images.pokemontcg.io/xy10/21.png',\n",
       "    'large': 'https://images.pokemontcg.io/xy10/21_hires.png'},\n",
       "   'tcgplayer': {'url': 'https://prices.pokemontcg.io/tcgplayer/xy10-21',\n",
       "    'updatedAt': '2021/05/13',\n",
       "    'prices': {'holofoil': {'low': 0.2,\n",
       "      'mid': 0.51,\n",
       "      'high': 2.9,\n",
       "      'market': 0.51,\n",
       "      'directLow': 0.39},\n",
       "     'reverseHolofoil': {'low': 0.25,\n",
       "      'mid': 0.6,\n",
       "      'high': 1.77,\n",
       "      'market': 0.52,\n",
       "      'directLow': 0.25}}}},\n",
       "  {'id': 'ex7-21',\n",
       "   'name': 'Delibird',\n",
       "   'supertype': 'Pokémon',\n",
       "   'subtypes': ['Basic'],\n",
       "   'hp': '70',\n",
       "   'types': ['Water'],\n",
       "   'abilities': [{'name': 'Gift Exchange',\n",
       "     'text': \"Once during your turn (before your attack), if Delibird is your Active Pokémon, you may shuffle 1 card from your hand into your deck. Then, draw a card. This power can't be used if Delibird is affected by a Special Condition.\",\n",
       "     'type': 'Poké-Power'}],\n",
       "   'attacks': [{'name': 'Souvenir',\n",
       "     'cost': ['Colorless', 'Colorless'],\n",
       "     'convertedEnergyCost': 2,\n",
       "     'damage': '',\n",
       "     'text': 'Flip 3 coins. If 1 of them is heads, put 4 damage counters on the Defending Pokémon. If 2 of them are heads, remove 1 damage counter from the Defending Pokémon. If all of them are heads, put 10 damage counters on the Defending Pokémon. If all of them are tails, remove all damage counters from the Defending Pokémon.'}],\n",
       "   'weaknesses': [{'type': 'Metal', 'value': '×2'}],\n",
       "   'retreatCost': ['Colorless'],\n",
       "   'convertedRetreatCost': 1,\n",
       "   'set': {'id': 'ex7',\n",
       "    'name': 'Team Rocket Returns',\n",
       "    'series': 'EX',\n",
       "    'printedTotal': 109,\n",
       "    'total': 109,\n",
       "    'legalities': {'unlimited': 'Legal'},\n",
       "    'ptcgoCode': 'TRR',\n",
       "    'releaseDate': '2004/11/01',\n",
       "    'updatedAt': '2019/01/28 16:44:00',\n",
       "    'images': {'symbol': 'https://images.pokemontcg.io/ex7/symbol.png',\n",
       "     'logo': 'https://images.pokemontcg.io/ex7/logo.png'}},\n",
       "   'number': '21',\n",
       "   'artist': 'Yuka Morii',\n",
       "   'rarity': 'Rare',\n",
       "   'nationalPokedexNumbers': [225],\n",
       "   'legalities': {'unlimited': 'Legal'},\n",
       "   'images': {'small': 'https://images.pokemontcg.io/ex7/21.png',\n",
       "    'large': 'https://images.pokemontcg.io/ex7/21_hires.png'},\n",
       "   'tcgplayer': {'url': 'https://prices.pokemontcg.io/tcgplayer/ex7-21',\n",
       "    'updatedAt': '2021/05/13',\n",
       "    'prices': {'normal': {'low': 0.8,\n",
       "      'mid': 1.0,\n",
       "      'high': 5.21,\n",
       "      'market': 1.53,\n",
       "      'directLow': None},\n",
       "     'reverseHolofoil': {'low': 47.95,\n",
       "      'mid': 76.57,\n",
       "      'high': 99.0,\n",
       "      'market': 10.0,\n",
       "      'directLow': None}}}},\n",
       "  {'id': 'pop8-15',\n",
       "   'name': 'Piplup',\n",
       "   'supertype': 'Pokémon',\n",
       "   'subtypes': ['Basic'],\n",
       "   'level': '9',\n",
       "   'hp': '60',\n",
       "   'types': ['Water'],\n",
       "   'evolvesTo': ['Prinplup'],\n",
       "   'attacks': [{'name': 'Peck',\n",
       "     'cost': [],\n",
       "     'convertedEnergyCost': 0,\n",
       "     'damage': '10',\n",
       "     'text': ''},\n",
       "    {'name': 'Water Splash',\n",
       "     'cost': ['Water', 'Colorless'],\n",
       "     'convertedEnergyCost': 2,\n",
       "     'damage': '20+',\n",
       "     'text': 'Flip a coin. If heads, this attack does 20 damage plus 10 more damage.'}],\n",
       "   'weaknesses': [{'type': 'Lightning', 'value': '+10'}],\n",
       "   'retreatCost': ['Colorless'],\n",
       "   'convertedRetreatCost': 1,\n",
       "   'set': {'id': 'pop8',\n",
       "    'name': 'POP Series 8',\n",
       "    'series': 'POP',\n",
       "    'printedTotal': 17,\n",
       "    'total': 17,\n",
       "    'legalities': {'unlimited': 'Legal'},\n",
       "    'releaseDate': '2008/09/01',\n",
       "    'updatedAt': '2018/03/04 10:35:00',\n",
       "    'images': {'symbol': 'https://images.pokemontcg.io/pop8/symbol.png',\n",
       "     'logo': 'https://images.pokemontcg.io/pop8/logo.png'}},\n",
       "   'number': '15',\n",
       "   'artist': 'Atsuko Nishida',\n",
       "   'rarity': 'Common',\n",
       "   'flavorText': 'Because it is very proud, it hates accepting food from people. Its thick down guards it from cold.',\n",
       "   'nationalPokedexNumbers': [393],\n",
       "   'legalities': {'unlimited': 'Legal'},\n",
       "   'images': {'small': 'https://images.pokemontcg.io/pop8/15.png',\n",
       "    'large': 'https://images.pokemontcg.io/pop8/15_hires.png'},\n",
       "   'tcgplayer': {'url': 'https://prices.pokemontcg.io/tcgplayer/pop8-15',\n",
       "    'updatedAt': '2021/05/13',\n",
       "    'prices': {'normal': {'low': 0.43,\n",
       "      'mid': 0.89,\n",
       "      'high': 3.0,\n",
       "      'market': 0.62,\n",
       "      'directLow': None}}}},\n",
       "  {'id': 'xy7-22',\n",
       "   'name': 'Vaporeon',\n",
       "   'supertype': 'Pokémon',\n",
       "   'subtypes': ['Stage 1'],\n",
       "   'hp': '90',\n",
       "   'types': ['Water'],\n",
       "   'evolvesFrom': 'Eevee',\n",
       "   'abilities': [{'name': 'Aqua Effect',\n",
       "     'text': 'Each of your Stage 1 Pokémon in play is now a Water Pokémon in addition to its existing types.',\n",
       "     'type': 'Ability'}],\n",
       "   'attacks': [{'name': 'Hydro Splash',\n",
       "     'cost': ['Water', 'Colorless', 'Colorless'],\n",
       "     'convertedEnergyCost': 3,\n",
       "     'damage': '70',\n",
       "     'text': ''}],\n",
       "   'weaknesses': [{'type': 'Grass', 'value': '×2'}],\n",
       "   'retreatCost': ['Colorless', 'Colorless'],\n",
       "   'convertedRetreatCost': 2,\n",
       "   'set': {'id': 'xy7',\n",
       "    'name': 'Ancient Origins',\n",
       "    'series': 'XY',\n",
       "    'printedTotal': 98,\n",
       "    'total': 100,\n",
       "    'legalities': {'unlimited': 'Legal', 'expanded': 'Legal'},\n",
       "    'ptcgoCode': 'AOR',\n",
       "    'releaseDate': '2015/08/12',\n",
       "    'updatedAt': '2020/08/14 09:35:00',\n",
       "    'images': {'symbol': 'https://images.pokemontcg.io/xy7/symbol.png',\n",
       "     'logo': 'https://images.pokemontcg.io/xy7/logo.png'}},\n",
       "   'number': '22',\n",
       "   'artist': 'kirisAki',\n",
       "   'rarity': 'Uncommon',\n",
       "   'flavorText': 'It has evolved to be suitable for an aquatic life. It can invisibly melt away into water.',\n",
       "   'nationalPokedexNumbers': [134],\n",
       "   'legalities': {'unlimited': 'Legal', 'expanded': 'Legal'},\n",
       "   'images': {'small': 'https://images.pokemontcg.io/xy7/22.png',\n",
       "    'large': 'https://images.pokemontcg.io/xy7/22_hires.png'},\n",
       "   'tcgplayer': {'url': 'https://prices.pokemontcg.io/tcgplayer/xy7-22',\n",
       "    'updatedAt': '2021/05/13',\n",
       "    'prices': {'normal': {'low': 0.01,\n",
       "      'mid': 0.38,\n",
       "      'high': 1.25,\n",
       "      'market': 0.36,\n",
       "      'directLow': 0.39},\n",
       "     'reverseHolofoil': {'low': 0.2,\n",
       "      'mid': 0.64,\n",
       "      'high': 15.0,\n",
       "      'market': 0.64,\n",
       "      'directLow': 0.4}}}},\n",
       "  {'id': 'neo3-19',\n",
       "   'name': 'Kingdra',\n",
       "   'supertype': 'Pokémon',\n",
       "   'subtypes': ['Stage 2'],\n",
       "   'level': '49',\n",
       "   'hp': '90',\n",
       "   'types': ['Water'],\n",
       "   'evolvesFrom': 'Seadra',\n",
       "   'attacks': [{'name': 'Genetic Memory',\n",
       "     'cost': ['Colorless'],\n",
       "     'convertedEnergyCost': 1,\n",
       "     'damage': '',\n",
       "     'text': \"Use any attack from Kingdra's Basic Pokémon card or Evolution card. (Kingdra doesn't have to pay for that attack's Energy cost.)\"},\n",
       "    {'name': 'Twister',\n",
       "     'cost': ['Water', 'Water', 'Colorless', 'Colorless'],\n",
       "     'convertedEnergyCost': 4,\n",
       "     'damage': '50',\n",
       "     'text': 'Flip 2 coins. For each heads, choose 1 Energy card attached to the Defending Pokémon, if any, and discard it. If both are tails, this attack does nothing (not even damage).'}],\n",
       "   'retreatCost': ['Colorless', 'Colorless'],\n",
       "   'convertedRetreatCost': 2,\n",
       "   'set': {'id': 'neo3',\n",
       "    'name': 'Neo Revelation',\n",
       "    'series': 'Neo',\n",
       "    'printedTotal': 66,\n",
       "    'total': 66,\n",
       "    'legalities': {'unlimited': 'Legal'},\n",
       "    'ptcgoCode': 'N3',\n",
       "    'releaseDate': '2001/09/21',\n",
       "    'updatedAt': '2020/08/14 09:35:00',\n",
       "    'images': {'symbol': 'https://images.pokemontcg.io/neo3/symbol.png',\n",
       "     'logo': 'https://images.pokemontcg.io/neo3/logo.png'}},\n",
       "   'number': '19',\n",
       "   'artist': 'Mitsuhiro Arita',\n",
       "   'rarity': 'Rare',\n",
       "   'flavorText': 'It sleeps deep on the ocean floor to build its energy. It is said to cause tornadoes as it wakes.',\n",
       "   'nationalPokedexNumbers': [230],\n",
       "   'legalities': {'unlimited': 'Legal'},\n",
       "   'images': {'small': 'https://images.pokemontcg.io/neo3/19.png',\n",
       "    'large': 'https://images.pokemontcg.io/neo3/19_hires.png'},\n",
       "   'tcgplayer': {'url': 'https://prices.pokemontcg.io/tcgplayer/neo3-19',\n",
       "    'updatedAt': '2021/05/13',\n",
       "    'prices': {'normal': {'low': 4.4,\n",
       "      'mid': 7.53,\n",
       "      'high': 14.99,\n",
       "      'market': 7.56,\n",
       "      'directLow': None},\n",
       "     '1stEditionNormal': {'low': 13.36,\n",
       "      'mid': 21.29,\n",
       "      'high': 25.04,\n",
       "      'market': 20.53,\n",
       "      'directLow': None}}}},\n",
       "  {'id': 'bw10-24',\n",
       "   'name': 'Relicanth',\n",
       "   'supertype': 'Pokémon',\n",
       "   'subtypes': ['Basic'],\n",
       "   'hp': '90',\n",
       "   'types': ['Water'],\n",
       "   'attacks': [{'name': 'Fossil Hunt',\n",
       "     'cost': ['Colorless'],\n",
       "     'convertedEnergyCost': 1,\n",
       "     'damage': '',\n",
       "     'text': 'Put 2 Item cards that have Fossil in their names from your discard pile into your hand.'},\n",
       "    {'name': 'Water Gun',\n",
       "     'cost': ['Water', 'Colorless'],\n",
       "     'convertedEnergyCost': 2,\n",
       "     'damage': '30',\n",
       "     'text': ''}],\n",
       "   'weaknesses': [{'type': 'Grass', 'value': '×2'}],\n",
       "   'retreatCost': ['Colorless'],\n",
       "   'convertedRetreatCost': 1,\n",
       "   'set': {'id': 'bw10',\n",
       "    'name': 'Plasma Blast',\n",
       "    'series': 'Black & White',\n",
       "    'printedTotal': 101,\n",
       "    'total': 105,\n",
       "    'legalities': {'unlimited': 'Legal', 'expanded': 'Legal'},\n",
       "    'ptcgoCode': 'PLB',\n",
       "    'releaseDate': '2013/08/14',\n",
       "    'updatedAt': '2018/03/04 10:35:00',\n",
       "    'images': {'symbol': 'https://images.pokemontcg.io/bw10/symbol.png',\n",
       "     'logo': 'https://images.pokemontcg.io/bw10/logo.png'}},\n",
       "   'number': '24',\n",
       "   'artist': '5ban Graphics',\n",
       "   'rarity': 'Uncommon',\n",
       "   'flavorText': 'A rare Pokémon discovered during a deep-sea exploration. It has not changed in over 100 million years.',\n",
       "   'nationalPokedexNumbers': [369],\n",
       "   'legalities': {'unlimited': 'Legal', 'expanded': 'Legal'},\n",
       "   'images': {'small': 'https://images.pokemontcg.io/bw10/24.png',\n",
       "    'large': 'https://images.pokemontcg.io/bw10/24_hires.png'},\n",
       "   'tcgplayer': {'url': 'https://prices.pokemontcg.io/tcgplayer/bw10-24',\n",
       "    'updatedAt': '2021/05/13',\n",
       "    'prices': {'normal': {'low': 0.09,\n",
       "      'mid': 0.25,\n",
       "      'high': 0.75,\n",
       "      'market': 0.12,\n",
       "      'directLow': 0.14},\n",
       "     'reverseHolofoil': {'low': 0.2,\n",
       "      'mid': 0.47,\n",
       "      'high': 1.25,\n",
       "      'market': 0.31,\n",
       "      'directLow': 0.25}}}},\n",
       "  {'id': 'dp7-12',\n",
       "   'name': 'Abomasnow',\n",
       "   'supertype': 'Pokémon',\n",
       "   'subtypes': ['Stage 1'],\n",
       "   'level': '42',\n",
       "   'hp': '100',\n",
       "   'types': ['Water'],\n",
       "   'evolvesFrom': 'Snover',\n",
       "   'abilities': [{'name': 'Snow Veil',\n",
       "     'text': \"As long as Abomasnow is your Active Pokémon, any damage done to your Pokémon by an opponent's attack is reduced by 20 (after applying Weakness and Resistance).\",\n",
       "     'type': 'Poké-Body'}],\n",
       "   'attacks': [{'name': 'Snow Play',\n",
       "     'cost': ['Colorless', 'Colorless'],\n",
       "     'convertedEnergyCost': 2,\n",
       "     'damage': '20',\n",
       "     'text': \"Does 20 damage to each of your opponent's Benched Pokémon, excluding Grass Pokémon and Water Pokémon. (Don't apply Weakness and Resistance for Benched Pokémon.)\"},\n",
       "    {'name': 'Below Zero',\n",
       "     'cost': ['Water', 'Colorless', 'Colorless'],\n",
       "     'convertedEnergyCost': 3,\n",
       "     'damage': '60',\n",
       "     'text': 'If Abomasnow evolved from Snover during this turn, the Defending Pokémon is now Paralyzed.'}],\n",
       "   'weaknesses': [{'type': 'Fire', 'value': '+30'}],\n",
       "   'retreatCost': ['Colorless', 'Colorless', 'Colorless'],\n",
       "   'convertedRetreatCost': 3,\n",
       "   'set': {'id': 'dp7',\n",
       "    'name': 'Stormfront',\n",
       "    'series': 'Diamond & Pearl',\n",
       "    'printedTotal': 100,\n",
       "    'total': 103,\n",
       "    'legalities': {'unlimited': 'Legal'},\n",
       "    'ptcgoCode': 'SF',\n",
       "    'releaseDate': '2008/11/01',\n",
       "    'updatedAt': '2020/05/01 16:06:00',\n",
       "    'images': {'symbol': 'https://images.pokemontcg.io/dp7/symbol.png',\n",
       "     'logo': 'https://images.pokemontcg.io/dp7/logo.png'}},\n",
       "   'number': '12',\n",
       "   'artist': 'Mitsuhiro Arita',\n",
       "   'rarity': 'Rare',\n",
       "   'nationalPokedexNumbers': [460],\n",
       "   'legalities': {'unlimited': 'Legal'},\n",
       "   'images': {'small': 'https://images.pokemontcg.io/dp7/12.png',\n",
       "    'large': 'https://images.pokemontcg.io/dp7/12_hires.png'},\n",
       "   'tcgplayer': {'url': 'https://prices.pokemontcg.io/tcgplayer/dp7-12',\n",
       "    'updatedAt': '2021/05/13',\n",
       "    'prices': {'normal': {'low': 0.49,\n",
       "      'mid': 0.8,\n",
       "      'high': 2.4,\n",
       "      'market': 0.94,\n",
       "      'directLow': None},\n",
       "     'reverseHolofoil': {'low': 0.87,\n",
       "      'mid': 1.57,\n",
       "      'high': 2.99,\n",
       "      'market': 1.83,\n",
       "      'directLow': None}}}},\n",
       "  {'id': 'np-11',\n",
       "   'name': 'Marshtomp',\n",
       "   'supertype': 'Pokémon',\n",
       "   'subtypes': ['Stage 1'],\n",
       "   'hp': '70',\n",
       "   'types': ['Water'],\n",
       "   'evolvesFrom': 'Mudkip',\n",
       "   'evolvesTo': ['Swampert'],\n",
       "   'attacks': [{'name': 'Bubble',\n",
       "     'cost': ['Water'],\n",
       "     'convertedEnergyCost': 1,\n",
       "     'damage': '10',\n",
       "     'text': 'Flip a coin. If heads, the Defending Pokémon is now Paralyzed.'},\n",
       "    {'name': 'Slash',\n",
       "     'cost': ['Colorless', 'Colorless', 'Colorless'],\n",
       "     'convertedEnergyCost': 3,\n",
       "     'damage': '40',\n",
       "     'text': ''}],\n",
       "   'weaknesses': [{'type': 'Lightning', 'value': '×2'}],\n",
       "   'retreatCost': ['Colorless'],\n",
       "   'convertedRetreatCost': 1,\n",
       "   'set': {'id': 'np',\n",
       "    'name': 'Nintendo Black Star Promos',\n",
       "    'series': 'NP',\n",
       "    'printedTotal': 40,\n",
       "    'total': 40,\n",
       "    'legalities': {'unlimited': 'Legal'},\n",
       "    'ptcgoCode': 'PR-NP',\n",
       "    'releaseDate': '2003/10/01',\n",
       "    'updatedAt': '2020/05/01 16:06:00',\n",
       "    'images': {'symbol': 'https://images.pokemontcg.io/np/symbol.png',\n",
       "     'logo': 'https://images.pokemontcg.io/np/logo.png'}},\n",
       "   'number': '11',\n",
       "   'artist': 'Mitsuhiro Arita',\n",
       "   'rarity': 'Promo',\n",
       "   'nationalPokedexNumbers': [259],\n",
       "   'legalities': {'unlimited': 'Legal'},\n",
       "   'images': {'small': 'https://images.pokemontcg.io/np/11.png',\n",
       "    'large': 'https://images.pokemontcg.io/np/11_hires.png'},\n",
       "   'tcgplayer': {'url': 'https://prices.pokemontcg.io/tcgplayer/np-11',\n",
       "    'updatedAt': '2021/05/13',\n",
       "    'prices': {'normal': {'low': 40.0,\n",
       "      'mid': 45.0,\n",
       "      'high': 99.99,\n",
       "      'market': None,\n",
       "      'directLow': None}}}},\n",
       "  {'id': 'sm2-20',\n",
       "   'name': 'Alolan Sandslash',\n",
       "   'supertype': 'Pokémon',\n",
       "   'subtypes': ['Stage 1'],\n",
       "   'hp': '110',\n",
       "   'types': ['Water'],\n",
       "   'evolvesFrom': 'Alolan Sandshrew',\n",
       "   'abilities': [{'name': 'Slush Rush',\n",
       "     'text': 'Once during your turn (before your attack), you may draw a card.',\n",
       "     'type': 'Ability'}],\n",
       "   'attacks': [{'name': 'Smash Turn',\n",
       "     'cost': ['Water', 'Colorless', 'Colorless'],\n",
       "     'convertedEnergyCost': 3,\n",
       "     'damage': '50',\n",
       "     'text': 'Switch this Pokémon with 1 of your Benched Pokémon.'}],\n",
       "   'weaknesses': [{'type': 'Metal', 'value': '×2'}],\n",
       "   'retreatCost': ['Colorless', 'Colorless'],\n",
       "   'convertedRetreatCost': 2,\n",
       "   'set': {'id': 'sm2',\n",
       "    'name': 'Guardians Rising',\n",
       "    'series': 'Sun & Moon',\n",
       "    'printedTotal': 145,\n",
       "    'total': 145,\n",
       "    'legalities': {'unlimited': 'Legal', 'expanded': 'Legal'},\n",
       "    'ptcgoCode': 'GRI',\n",
       "    'releaseDate': '2017/05/05',\n",
       "    'updatedAt': '2019/02/19 23:25:00',\n",
       "    'images': {'symbol': 'https://images.pokemontcg.io/sm2/symbol.png',\n",
       "     'logo': 'https://images.pokemontcg.io/sm2/logo.png'}},\n",
       "   'number': '20',\n",
       "   'artist': 'TOKIYA',\n",
       "   'rarity': 'Rare',\n",
       "   'flavorText': 'Fleeing a volcanic eruption, it settled on a snowy mountain. As it races through the snowfields, it sends up a spray of snow.',\n",
       "   'nationalPokedexNumbers': [28],\n",
       "   'legalities': {'unlimited': 'Legal', 'expanded': 'Legal'},\n",
       "   'images': {'small': 'https://images.pokemontcg.io/sm2/20.png',\n",
       "    'large': 'https://images.pokemontcg.io/sm2/20_hires.png'},\n",
       "   'tcgplayer': {'url': 'https://prices.pokemontcg.io/tcgplayer/sm2-20',\n",
       "    'updatedAt': '2021/05/13',\n",
       "    'prices': {'normal': {'low': 0.1,\n",
       "      'mid': 0.28,\n",
       "      'high': 1.49,\n",
       "      'market': 0.25,\n",
       "      'directLow': 0.25},\n",
       "     'reverseHolofoil': {'low': 0.18,\n",
       "      'mid': 0.45,\n",
       "      'high': 2.0,\n",
       "      'market': 0.36,\n",
       "      'directLow': 0.43}}}},\n",
       "  {'id': 'dp6-12',\n",
       "   'name': 'Politoed',\n",
       "   'supertype': 'Pokémon',\n",
       "   'subtypes': ['Stage 2'],\n",
       "   'level': '49',\n",
       "   'hp': '120',\n",
       "   'types': ['Water'],\n",
       "   'evolvesFrom': 'Poliwhirl',\n",
       "   'abilities': [{'name': 'Enthusiasm',\n",
       "     'text': \"If you have Poliwag, Poliwhirl, and Poliwrath in play, each of these Pokémon's attacks does 60 more damage to the Defending Pokémon (before applying Weakness and Resistance).\",\n",
       "     'type': 'Poké-Body'}],\n",
       "   'attacks': [{'name': 'Frog Hop',\n",
       "     'cost': ['Water', 'Colorless'],\n",
       "     'convertedEnergyCost': 2,\n",
       "     'damage': '40+',\n",
       "     'text': 'Flip a coin. If heads, this attack does 40 damage plus 40 more damage.'}],\n",
       "   'weaknesses': [{'type': 'Grass', 'value': '+30'}],\n",
       "   'retreatCost': ['Colorless'],\n",
       "   'convertedRetreatCost': 1,\n",
       "   'set': {'id': 'dp6',\n",
       "    'name': 'Legends Awakened',\n",
       "    'series': 'Diamond & Pearl',\n",
       "    'printedTotal': 146,\n",
       "    'total': 146,\n",
       "    'legalities': {'unlimited': 'Legal'},\n",
       "    'ptcgoCode': 'LA',\n",
       "    'releaseDate': '2008/08/01',\n",
       "    'updatedAt': '2018/03/04 10:35:00',\n",
       "    'images': {'symbol': 'https://images.pokemontcg.io/dp6/symbol.png',\n",
       "     'logo': 'https://images.pokemontcg.io/dp6/logo.png'}},\n",
       "   'number': '12',\n",
       "   'artist': 'Masakazu Fukuda',\n",
       "   'rarity': 'Rare Holo',\n",
       "   'flavorText': 'It gathers groups of others as their leader. Its cries make Poliwag obey.',\n",
       "   'nationalPokedexNumbers': [186],\n",
       "   'legalities': {'unlimited': 'Legal'},\n",
       "   'images': {'small': 'https://images.pokemontcg.io/dp6/12.png',\n",
       "    'large': 'https://images.pokemontcg.io/dp6/12_hires.png'},\n",
       "   'tcgplayer': {'url': 'https://prices.pokemontcg.io/tcgplayer/dp6-12',\n",
       "    'updatedAt': '2021/05/13',\n",
       "    'prices': {'holofoil': {'low': 0.99,\n",
       "      'mid': 6.52,\n",
       "      'high': 8.0,\n",
       "      'market': 4.86,\n",
       "      'directLow': None},\n",
       "     'reverseHolofoil': {'low': 55.52,\n",
       "      'mid': 62.5,\n",
       "      'high': 69.48,\n",
       "      'market': 1.68,\n",
       "      'directLow': None}}}},\n",
       "  {'id': 'xy0-15',\n",
       "   'name': 'Clauncher',\n",
       "   'supertype': 'Pokémon',\n",
       "   'subtypes': ['Basic'],\n",
       "   'hp': '70',\n",
       "   'types': ['Water'],\n",
       "   'evolvesTo': ['Clawitzer'],\n",
       "   'attacks': [{'name': 'Water Gun',\n",
       "     'cost': ['Water', 'Colorless'],\n",
       "     'convertedEnergyCost': 2,\n",
       "     'damage': '20',\n",
       "     'text': ''}],\n",
       "   'weaknesses': [{'type': 'Grass', 'value': '×2'}],\n",
       "   'retreatCost': ['Colorless'],\n",
       "   'convertedRetreatCost': 1,\n",
       "   'set': {'id': 'xy0',\n",
       "    'name': 'Kalos Starter Set',\n",
       "    'series': 'XY',\n",
       "    'printedTotal': 39,\n",
       "    'total': 39,\n",
       "    'legalities': {'unlimited': 'Legal', 'expanded': 'Legal'},\n",
       "    'ptcgoCode': 'KSS',\n",
       "    'releaseDate': '2013/11/08',\n",
       "    'updatedAt': '2018/03/04 10:35:00',\n",
       "    'images': {'symbol': 'https://images.pokemontcg.io/xy0/symbol.png',\n",
       "     'logo': 'https://images.pokemontcg.io/xy0/logo.png'}},\n",
       "   'number': '15',\n",
       "   'artist': '5ban Graphics',\n",
       "   'flavorText': 'They knock down flying prey by firing compressed water from their massive claws like shooting a pistol.',\n",
       "   'nationalPokedexNumbers': [692],\n",
       "   'legalities': {'unlimited': 'Legal', 'expanded': 'Legal'},\n",
       "   'images': {'small': 'https://images.pokemontcg.io/xy0/15.png',\n",
       "    'large': 'https://images.pokemontcg.io/xy0/15_hires.png'},\n",
       "   'tcgplayer': {'url': 'https://prices.pokemontcg.io/tcgplayer/xy0-15',\n",
       "    'updatedAt': '2021/05/13',\n",
       "    'prices': {'normal': {'low': 0.43,\n",
       "      'mid': 0.59,\n",
       "      'high': 1.02,\n",
       "      'market': 0.36,\n",
       "      'directLow': None}}}}],\n",
       " 'page': 1,\n",
       " 'pageSize': 250,\n",
       " 'count': 250,\n",
       " 'totalCount': 1677}"
      ]
     },
     "metadata": {},
     "execution_count": 6
    }
   ],
   "source": [
    "type_info.json()"
   ]
  },
  {
   "cell_type": "code",
   "execution_count": 14,
   "id": "93061f95",
   "metadata": {
    "tags": [
     "outputPrepend"
    ]
   },
   "outputs": [
    {
     "output_type": "stream",
     "name": "stdout",
     "text": [
      ": 50.0, 'market': 23.48, 'directLow': None}}\n{'normal': {'low': 0.32, 'mid': 0.64, 'high': 1.87, 'market': 0.73, 'directLow': None}}\n{'holofoil': {'low': 65.28, 'mid': 75.01, 'high': 136.0, 'market': 18.3, 'directLow': None}, 'reverseHolofoil': {'low': 20.0, 'mid': 26.99, 'high': 63.65, 'market': 19.31, 'directLow': None}}\n{'normal': {'low': 4.0, 'mid': 7.58, 'high': 19.99, 'market': 6.22, 'directLow': None}, 'reverseHolofoil': {'low': 17.95, 'mid': 59.99, 'high': 59.99, 'market': 10.99, 'directLow': 17.95}}\n{'normal': {'low': 3.64, 'mid': 7.63, 'high': 13.98, 'market': 5.35, 'directLow': None}, 'reverseHolofoil': {'low': 26.6, 'mid': 53.59, 'high': 55.0, 'market': 15.26, 'directLow': None}}\n{'normal': {'low': 0.4, 'mid': 0.68, 'high': 2.5, 'market': 0.67, 'directLow': None}, 'reverseHolofoil': {'low': 1.32, 'mid': 4.41, 'high': 8.99, 'market': 2.35, 'directLow': None}}\n{'holofoil': {'low': 0.3, 'mid': 0.7, 'high': 4.63, 'market': 0.72, 'directLow': None}, 'reverseHolofoil': {'low': 0.65, 'mid': 0.95, 'high': 3.25, 'market': 1.03, 'directLow': None}}\n{'holofoil': {'low': 209.98, 'mid': 209.98, 'high': 209.98, 'market': 500.0, 'directLow': None}}\n{'normal': {'low': 0.09, 'mid': 0.25, 'high': 1.25, 'market': 0.23, 'directLow': 0.2}, 'reverseHolofoil': {'low': 0.24, 'mid': 1.46, 'high': 2.99, 'market': 1.16, 'directLow': 1.42}}\n{'holofoil': {'low': 27.0, 'mid': 28.41, 'high': 99.99, 'market': 28.51, 'directLow': None}, '1stEditionHolofoil': {'low': 500.76, 'mid': 600.38, 'high': 699.99, 'market': 95.0, 'directLow': 500.76}}\n{'normal': {'low': 0.1, 'mid': 0.62, 'high': 2.49, 'market': 0.83, 'directLow': None}, 'reverseHolofoil': {'low': 2.19, 'mid': 3.0, 'high': 10.99, 'market': 3.24, 'directLow': None}}\n{'normal': {'low': 0.03, 'mid': 0.2, 'high': 1.25, 'market': 0.09, 'directLow': 0.08}, 'reverseHolofoil': {'low': 0.1, 'mid': 0.3, 'high': 1.41, 'market': 0.27, 'directLow': 0.13}}\n{'holofoil': {'low': 44.96, 'mid': 53.62, 'high': 85.08, 'market': 68.73, 'directLow': None}}\n{'normal': {'low': 0.15, 'mid': 0.32, 'high': 0.99, 'market': 0.32, 'directLow': 0.23}, 'reverseHolofoil': {'low': 0.36, 'mid': 0.63, 'high': 0.99, 'market': 0.6, 'directLow': 0.99}}\n{'holofoil': {'low': 2.5, 'mid': 5.0, 'high': 17.0, 'market': 5.8, 'directLow': None}, 'reverseHolofoil': {'low': 9.87, 'mid': 11.69, 'high': 13.5, 'market': 5.55, 'directLow': None}}\n{'normal': {'low': 0.05, 'mid': 0.25, 'high': 1.25, 'market': 0.15, 'directLow': 0.11}, 'reverseHolofoil': {'low': 0.14, 'mid': 0.45, 'high': 1.95, 'market': 0.37, 'directLow': 0.2}}\n{'holofoil': {'low': 180.0, 'mid': 399.49, 'high': 400.0, 'market': None, 'directLow': None}}\n{'holofoil': {'low': 0.24, 'mid': 0.79, 'high': 2.99, 'market': 0.56, 'directLow': None}}\n{'normal': {'low': 0.07, 'mid': 0.26, 'high': 25.0, 'market': 0.14, 'directLow': None}, 'reverseHolofoil': {'low': 0.15, 'mid': 0.5, 'high': 2.14, 'market': 0.4, 'directLow': None}}\n{'normal': {'low': 0.2, 'mid': 0.35, 'high': 1.0, 'market': 0.32, 'directLow': None}, 'reverseHolofoil': {'low': 0.3, 'mid': 0.59, 'high': 2.49, 'market': 0.56, 'directLow': 0.3}}\n{'holofoil': {'low': 0.53, 'mid': 3.39, 'high': 4.4, 'market': 7.74, 'directLow': None}, 'reverseHolofoil': {'low': 0.96, 'mid': 16.75, 'high': 20.0, 'market': 1.02, 'directLow': None}}\n{'holofoil': {'low': 3.33, 'mid': 10.0, 'high': 22.0, 'market': 8.05, 'directLow': None}, 'reverseHolofoil': {'low': 5.6, 'mid': 27.8, 'high': 49.99, 'market': 10.3, 'directLow': None}}\n{'holofoil': {'low': 6.68, 'mid': 12.0, 'high': 49.99, 'market': 11.52, 'directLow': None}, '1stEditionHolofoil': {'low': 49.99, 'mid': 70.0, 'high': 99.99, 'market': 71.27, 'directLow': None}}\n{'holofoil': {'low': 24.99, 'mid': 32.5, 'high': 80.0, 'market': 36.39, 'directLow': None}, 'reverseHolofoil': {'low': 60.0, 'mid': 82.0, 'high': 103.99, 'market': 89.99, 'directLow': None}}\n{'holofoil': {'low': 3.98, 'mid': 6.96, 'high': 47.94, 'market': 4.83, 'directLow': 4.99}}\n{'holofoil': {'low': 0.15, 'mid': 0.5, 'high': 2.0, 'market': 0.4, 'directLow': 0.45}, 'reverseHolofoil': {'low': 0.35, 'mid': 1.37, 'high': 4.82, 'market': 1.35, 'directLow': 1.84}}\n{'normal': {'low': 0.14, 'mid': 0.38, 'high': 1.25, 'market': 0.25, 'directLow': 0.29}, 'reverseHolofoil': {'low': 0.25, 'mid': 0.47, 'high': 2.5, 'market': 0.3, 'directLow': None}}\n{'holofoil': {'low': 99.99, 'mid': 127.99, 'high': 320.0, 'market': 164.43, 'directLow': 79.98}, '1stEditionHolofoil': {'low': 149.99, 'mid': 350.0, 'high': 899.99, 'market': 256.21, 'directLow': None}}\n{}\n{'normal': {'low': 0.45, 'mid': 0.69, 'high': 2.49, 'market': 0.86, 'directLow': None}, 'reverseHolofoil': {'low': 2.12, 'mid': 4.43, 'high': 19.0, 'market': 2.88, 'directLow': None}}\n{'normal': {'low': 4.23, 'mid': 8.5, 'high': 23.99, 'market': 8.06, 'directLow': None}, '1stEditionNormal': {'low': 18.56, 'mid': 21.55, 'high': 28.0, 'market': 25.88, 'directLow': 21.54}}\n{'normal': {'low': 0.96, 'mid': 2.23, 'high': 3.5, 'market': 3.5, 'directLow': None}, 'holofoil': {'low': 1.03, 'mid': 2.0, 'high': 10.99, 'market': 2.97, 'directLow': None}}\n{'holofoil': {'low': 8.13, 'mid': 44.99, 'high': 50.0, 'market': 9.25, 'directLow': None}}\n{'normal': {'low': 0.45, 'mid': 1.12, 'high': 2.99, 'market': 1.0, 'directLow': None}, 'reverseHolofoil': {'low': 1.82, 'mid': 3.19, 'high': 10.99, 'market': 2.22, 'directLow': None}}\n{'normal': {'low': 0.05, 'mid': 0.22, 'high': 0.75, 'market': 0.09, 'directLow': 0.06}, 'reverseHolofoil': {'low': 0.24, 'mid': 0.49, 'high': 1.49, 'market': 0.49, 'directLow': 0.24}}\n{'normal': {'low': 2.02, 'mid': 9.95, 'high': 10.16, 'market': 5.58, 'directLow': None}, 'reverseHolofoil': {'low': 6.81, 'mid': 8.99, 'high': 49.99, 'market': 6.81, 'directLow': None}}\n{'normal': {'low': 2.99, 'mid': 6.21, 'high': 60.0, 'market': 4.51, 'directLow': None}, 'reverseHolofoil': {'low': 40.0, 'mid': 58.0, 'high': 78.75, 'market': 14.66, 'directLow': None}}\n{'holofoil': {'low': 56.99, 'mid': 109.61, 'high': 159.99, 'market': 92.48, 'directLow': None}}\n{'holofoil': {'low': 27.54, 'mid': 30.28, 'high': 70.0, 'market': 22.03, 'directLow': None}}\n{'normal': {'low': 0.25, 'mid': 0.49, 'high': 3.3, 'market': 0.41, 'directLow': None}, 'reverseHolofoil': {'low': 0.61, 'mid': 0.97, 'high': 2.99, 'market': 0.73, 'directLow': None}}\n{'holofoil': {'low': 3.24, 'mid': 5.78, 'high': 18.99, 'market': 4.83, 'directLow': 7.99}}\n{'normal': {'low': 0.1, 'mid': 0.7, 'high': 19.99, 'market': 0.49, 'directLow': None}}\n{'holofoil': {'low': 21.49, 'mid': 35.5, 'high': 54.99, 'market': 31.95, 'directLow': None}, '1stEditionHolofoil': {'low': 55.69, 'mid': 74.84, 'high': 90.21, 'market': 129.96, 'directLow': None}}\n{'holofoil': {'low': 12.99, 'mid': 17.92, 'high': 21.42, 'market': 4.92, 'directLow': None}, 'reverseHolofoil': {'low': 6.0, 'mid': 9.99, 'high': 14.89, 'market': 3.84, 'directLow': None}}\n{'holofoil': {'low': 31.0, 'mid': 49.99, 'high': 75.95, 'market': 45.39, 'directLow': None}, 'reverseHolofoil': {'low': 23.99, 'mid': 25.97, 'high': 27.99, 'market': 12.42, 'directLow': None}}\n{'holofoil': {'low': 1.5, 'mid': 4.31, 'high': 4.99, 'market': 1.6, 'directLow': None}, 'reverseHolofoil': {'low': 1.0, 'mid': 2.1, 'high': 3.19, 'market': 0.98, 'directLow': None}}\n{'normal': {'low': 0.1, 'mid': 0.25, 'high': 1.25, 'market': 0.19, 'directLow': None}, 'reverseHolofoil': {'low': 0.15, 'mid': 0.46, 'high': 4.0, 'market': 0.36, 'directLow': None}}\n{'normal': {'low': 0.09, 'mid': 0.25, 'high': 1.21, 'market': 0.19, 'directLow': 0.2}, 'reverseHolofoil': {'low': 0.2, 'mid': 0.42, 'high': 1.25, 'market': 0.61, 'directLow': 0.25}}\n{'normal': {'low': 1.28, 'mid': 4.46, 'high': 5.87, 'market': 2.33, 'directLow': None}, 'reverseHolofoil': {'low': 15.0, 'mid': 15.92, 'high': 16.84, 'market': 5.9, 'directLow': None}}\n{'normal': {'low': 0.43, 'mid': 2.53, 'high': 6.21, 'market': 0.39, 'directLow': None}}\n{'normal': {'low': 0.48, 'mid': 0.75, 'high': 2.49, 'market': 0.6, 'directLow': None}, 'reverseHolofoil': {'low': 8.99, 'mid': 11.5, 'high': 14.0, 'market': 10.0, 'directLow': None}}\n{'normal': {'low': 0.07, 'mid': 0.25, 'high': 1.25, 'market': 0.16, 'directLow': None}, 'reverseHolofoil': {'low': 0.2, 'mid': 0.53, 'high': 1.49, 'market': 0.42, 'directLow': 0.49}}\n{'holofoil': {'low': 3.99, 'mid': 5.56, 'high': 7.13, 'market': 5.4, 'directLow': None}}\n{'holofoil': {'low': 7.0, 'mid': 39.99, 'high': 49.99, 'market': 23.86, 'directLow': None}}\n{'normal': {'low': 0.12, 'mid': 0.26, 'high': 1.25, 'market': 0.18, 'directLow': 0.15}, 'reverseHolofoil': {'low': 0.2, 'mid': 0.49, 'high': 1.94, 'market': 0.54, 'directLow': 0.25}}\n{'normal': {'low': 1.99, 'mid': 2.1, 'high': 4.22, 'market': 1.14, 'directLow': 2.09}, 'reverseHolofoil': {'low': 8.97, 'mid': 390.53, 'high': 772.09, 'market': 6.97, 'directLow': None}}\n{'normal': {'low': 0.15, 'mid': 0.34, 'high': 1.25, 'market': 0.25, 'directLow': 0.2}, 'reverseHolofoil': {'low': 0.25, 'mid': 0.61, 'high': 1.95, 'market': 0.57, 'directLow': 0.4}}\n{'normal': {'low': 0.39, 'mid': 0.61, 'high': 1.12, 'market': 0.66, 'directLow': None}, 'reverseHolofoil': {'low': 0.49, 'mid': 1.06, 'high': 1.34, 'market': 0.85, 'directLow': None}}\n{'normal': {'low': 0.28, 'mid': 1.08, 'high': 191602.97, 'market': 0.91, 'directLow': 1.12}, 'reverseHolofoil': {'low': 2.24, 'mid': 2.67, 'high': 2.99, 'market': 1.88, 'directLow': None}}\n{'holofoil': {'low': 4.0, 'mid': 7.54, 'high': 19.99, 'market': 5.1, 'directLow': 6.5}}\n{'normal': {'low': 0.04, 'mid': 0.22, 'high': 1.25, 'market': 0.14, 'directLow': 0.15}, 'reverseHolofoil': {'low': 0.19, 'mid': 0.37, 'high': 1.95, 'market': 0.33, 'directLow': 0.25}}\n{'normal': {'low': 1.0, 'mid': 2.02, 'high': 4.67, 'market': 3.4, 'directLow': None}, 'reverseHolofoil': {'low': 6.79, 'mid': 7.99, 'high': 8.59, 'market': 2.32, 'directLow': None}}\n{'holofoil': {'low': 1.25, 'mid': 2.75, 'high': 5.57, 'market': 1.76, 'directLow': None}, 'reverseHolofoil': {'low': 0.99, 'mid': 2.53, 'high': 3.99, 'market': 2.41, 'directLow': None}}\n{'holofoil': {'low': 9.99, 'mid': 17.21, 'high': 26.99, 'market': 24.99, 'directLow': None}, 'reverseHolofoil': {'low': 17.95, 'mid': 19.9, 'high': 24.99, 'market': 17.99, 'directLow': None}}\n{'normal': {'low': 0.29, 'mid': 0.71, 'high': 1.75, 'market': 0.56, 'directLow': None}, 'holofoil': {'low': 0.25, 'mid': 1.0, 'high': 3.0, 'market': 1.23, 'directLow': None}}\n{'normal': {'low': 0.25, 'mid': 0.78, 'high': 2.7, 'market': 0.98, 'directLow': None}, 'reverseHolofoil': {'low': 0.75, 'mid': 1.5, 'high': 4.99, 'market': 1.72, 'directLow': None}}\n{'holofoil': {'low': 2.69, 'mid': 4.99, 'high': 39.99, 'market': 3.72, 'directLow': 4.33}}\n{'normal': {'low': 0.09, 'mid': 0.25, 'high': 1.25, 'market': 0.17, 'directLow': 0.1}, 'reverseHolofoil': {'low': 0.17, 'mid': 0.35, 'high': 2.0, 'market': 0.31, 'directLow': 0.17}}\n{'holofoil': {'low': 4.74, 'mid': 29.99, 'high': 29.99, 'market': 2.36, 'directLow': None}, 'reverseHolofoil': {'low': 3.98, 'mid': 3.99, 'high': 4.99, 'market': 2.48, 'directLow': None}}\n{'holofoil': {'low': 0.99, 'mid': 1.5, 'high': 1.99, 'market': 2.06, 'directLow': None}, 'reverseHolofoil': {'low': 0.4, 'mid': 1.32, 'high': 4.99, 'market': 2.36, 'directLow': None}}\n{'holofoil': {'low': 3.0, 'mid': 3.78, 'high': 62.8, 'market': 2.99, 'directLow': None}, 'reverseHolofoil': {'low': 1.02, 'mid': 2.21, 'high': 6.99, 'market': 2.23, 'directLow': None}}\n{'holofoil': {'low': 20.45, 'mid': 52.99, 'high': 80.0, 'market': 45.68, 'directLow': None}, 'reverseHolofoil': {'low': 19.99, 'mid': 49.99, 'high': 50.76, 'market': 99.99, 'directLow': None}}\n{'normal': {'low': 0.1, 'mid': 0.25, 'high': 1.0, 'market': 0.15, 'directLow': None}, 'reverseHolofoil': {'low': 0.25, 'mid': 0.42, 'high': 1.0, 'market': 0.41, 'directLow': 0.25}}\n{'normal': {'low': 0.1, 'mid': 0.43, 'high': 1.25, 'market': 0.42, 'directLow': None}, 'reverseHolofoil': {'low': 0.3, 'mid': 0.55, 'high': 1.8, 'market': 0.4, 'directLow': None}}\n{'holofoil': {'low': 2.79, 'mid': 5.73, 'high': 17.0, 'market': 3.29, 'directLow': 3.29}}\n{'holofoil': {'low': 15.98, 'mid': 37.0, 'high': 40.0, 'market': 22.49, 'directLow': None}, 'reverseHolofoil': {'low': 24.99, 'mid': 40.0, 'high': 40.73, 'market': 25.0, 'directLow': None}}\n{'normal': {'low': 0.05, 'mid': 0.23, 'high': 0.75, 'market': 0.1, 'directLow': 0.06}, 'reverseHolofoil': {'low': 0.24, 'mid': 0.5, 'high': 1.8, 'market': 0.38, 'directLow': None}}\n{'holofoil': {'low': 0.42, 'mid': 2.0, 'high': 8.5, 'market': 1.32, 'directLow': 1.05}, 'reverseHolofoil': {'low': 1.3, 'mid': 2.99, 'high': 9.75, 'market': 2.8, 'directLow': 1.5}}\n{'normal': {'low': 0.19, 'mid': 0.43, 'high': 3.99, 'market': 0.35, 'directLow': 0.4}, 'reverseHolofoil': {'low': 0.3, 'mid': 0.76, 'high': 4.99, 'market': 0.77, 'directLow': 0.49}}\n{'normal': {'low': 0.25, 'mid': 0.68, 'high': 1.8, 'market': 0.94, 'directLow': 0.38}, 'reverseHolofoil': {'low': 0.97, 'mid': 1.77, 'high': 2.49, 'market': 0.97, 'directLow': 1.04}}\n{'normal': {'low': 0.08, 'mid': 0.26, 'high': 1.0, 'market': 0.13, 'directLow': 0.23}, 'reverseHolofoil': {'low': 0.25, 'mid': 0.47, 'high': 1.25, 'market': 0.32, 'directLow': 0.25}}\n{'holofoil': {'low': 0.4, 'mid': 1.79, 'high': 5.99, 'market': 1.33, 'directLow': 1.79}}\n{'holofoil': {'low': 7.95, 'mid': 14.0, 'high': 88.89, 'market': 20.95, 'directLow': None}, '1stEditionHolofoil': {'low': 105.49, 'mid': 135.49, 'high': 353.95, 'market': 249.99, 'directLow': None}}\n{'normal': {'low': 0.02, 'mid': 0.2, 'high': 1.25, 'market': 0.11, 'directLow': 0.1}, 'reverseHolofoil': {'low': 0.15, 'mid': 0.35, 'high': 1.79, 'market': 0.25, 'directLow': 0.22}}\n{'normal': {'low': 0.45, 'mid': 1.0, 'high': 1.85, 'market': 1.01, 'directLow': None}, 'holofoil': {'low': 0.5, 'mid': 1.79, 'high': 5.0, 'market': 3.3, 'directLow': None}}\n{'normal': {'low': 3.0, 'mid': 7.35, 'high': 10.99, 'market': 5.77, 'directLow': None}, '1stEditionNormal': {'low': 14.99, 'mid': 17.99, 'high': 27.99, 'market': 12.69, 'directLow': None}}\n{'normal': {'low': 0.07, 'mid': 0.25, 'high': 1.25, 'market': 0.14, 'directLow': 0.14}, 'reverseHolofoil': {'low': 0.21, 'mid': 0.49, 'high': 1.95, 'market': 0.33, 'directLow': None}}\n{'normal': {'low': 0.5, 'mid': 1.55, 'high': 3.68, 'market': 1.55, 'directLow': None}, 'reverseHolofoil': {'low': 2.9, 'mid': 3.79, 'high': 4.2, 'market': 1.25, 'directLow': None}}\n{'holofoil': {'low': 87.75, 'mid': 169.95, 'high': 199.99, 'market': 87.0, 'directLow': None}, 'reverseHolofoil': {'low': 40.0, 'mid': 69.31, 'high': 79.0, 'market': 69.99, 'directLow': None}}\n{'holofoil': {'low': 4.9, 'mid': 8.51, 'high': 23.71, 'market': 8.46, 'directLow': 7.46}, 'reverseHolofoil': {'low': 5.29, 'mid': 9.0, 'high': 39.99, 'market': 6.91, 'directLow': 9.99}}\n{'normal': {'low': 0.99, 'mid': 1.77, 'high': 2.99, 'market': 1.23, 'directLow': None}, 'holofoil': {'low': 0.91, 'mid': 4.13, 'high': 12.5, 'market': 2.28, 'directLow': None}}\n{'holofoil': {'low': 1.82, 'mid': 1.82, 'high': 1.82, 'market': 6.79, 'directLow': None}, 'reverseHolofoil': {'low': 1.85, 'mid': 1.96, 'high': 2.06, 'market': 2.29, 'directLow': None}}\n{'normal': {'low': 0.43, 'mid': 0.96, 'high': 2.49, 'market': 0.86, 'directLow': 0.88}, 'reverseHolofoil': {'low': 1.0, 'mid': 49.38, 'high': 97.76, 'market': 1.91, 'directLow': None}}\n{'holofoil': {'low': 3.51, 'mid': 5.0, 'high': 11.99, 'market': 4.41, 'directLow': 5.49}}\n{'normal': {'low': 0.26, 'mid': 0.75, 'high': 3.99, 'market': 0.98, 'directLow': None}, 'reverseHolofoil': {'low': 4.0, 'mid': 4.75, 'high': 5.49, 'market': 5.49, 'directLow': None}}\n{'holofoil': {'low': 7.99, 'mid': 16.7, 'high': 24.99, 'market': 8.59, 'directLow': None}, 'reverseHolofoil': {'low': 14.96, 'mid': 18.99, 'high': 25.0, 'market': 10.98, 'directLow': None}}\n{'normal': {'low': 0.25, 'mid': 0.53, 'high': 1.49, 'market': 0.55, 'directLow': 0.35}, 'reverseHolofoil': {'low': 0.08, 'mid': 0.75, 'high': 2.0, 'market': 0.75, 'directLow': None}}\n{'normal': {'low': 0.18, 'mid': 0.82, 'high': 4.44, 'market': 0.75, 'directLow': 1.12}, 'reverseHolofoil': {'low': 0.45, 'mid': 0.96, 'high': 12.59, 'market': 1.29, 'directLow': None}}\n{'holofoil': {'low': 26.15, 'mid': 31.35, 'high': 39.99, 'market': 42.9, 'directLow': None}, 'reverseHolofoil': {'low': 11.56, 'mid': 34.0, 'high': 45.0, 'market': 22.88, 'directLow': None}}\n{'normal': {'low': 0.1, 'mid': 0.25, 'high': 0.93, 'market': 0.18, 'directLow': 0.15}, 'reverseHolofoil': {'low': 0.24, 'mid': 0.46, 'high': 1.49, 'market': 0.47, 'directLow': 0.5}}\n{'normal': {'low': 0.04, 'mid': 0.25, 'high': 1.25, 'market': 0.2, 'directLow': 0.14}, 'reverseHolofoil': {'low': 0.25, 'mid': 0.42, 'high': 4.42, 'market': 0.3, 'directLow': 0.25}}\n{'normal': {'low': 0.1, 'mid': 0.3, 'high': 1.25, 'market': 0.19, 'directLow': 0.25}, 'reverseHolofoil': {'low': 0.15, 'mid': 0.47, 'high': 1.95, 'market': 0.33, 'directLow': 0.25}}\n{'normal': {'low': 0.09, 'mid': 0.25, 'high': 0.99, 'market': 0.21, 'directLow': None}, 'reverseHolofoil': {'low': 0.25, 'mid': 0.49, 'high': 1.0, 'market': 0.36, 'directLow': 0.25}}\n{'reverseHolofoil': {'low': 16.99, 'mid': 19.93, 'high': 25.0, 'market': 18.16, 'directLow': None}}\n{'normal': {'low': 0.09, 'mid': 0.25, 'high': 1.25, 'market': 0.15, 'directLow': 0.14}, 'reverseHolofoil': {'low': 0.23, 'mid': 0.41, 'high': 1.95, 'market': 0.31, 'directLow': 0.27}}\n{'normal': {'low': 0.14, 'mid': 0.28, 'high': 0.99, 'market': 0.24, 'directLow': None}, 'reverseHolofoil': {'low': 0.25, 'mid': 0.49, 'high': 1.25, 'market': 0.36, 'directLow': 0.32}}\n{'normal': {'low': 0.06, 'mid': 0.35, 'high': 2.99, 'market': 0.39, 'directLow': 0.34}, 'reverseHolofoil': {'low': 0.26, 'mid': 0.85, 'high': 10.99, 'market': 0.49, 'directLow': 10.99}}\n{'holofoil': {'low': 3.63, 'mid': 19.97, 'high': 28.49, 'market': 2.98, 'directLow': 28.48}, 'reverseHolofoil': {'low': 2.95, 'mid': 5.52, 'high': 9.86, 'market': 4.39, 'directLow': 2.99}}\n{'normal': {'low': 0.58, 'mid': 1.13, 'high': 2.49, 'market': 0.82, 'directLow': None}, 'reverseHolofoil': {'low': 14.95, 'mid': 24.0, 'high': 35.0, 'market': 3.82, 'directLow': None}}\n{'holofoil': {'low': 7.23, 'mid': 15.91, 'high': 23.69, 'market': 15.05, 'directLow': None}, 'reverseHolofoil': {'low': 5.98, 'mid': 8.11, 'high': 15.0, 'market': 13.92, 'directLow': None}}\n{'holofoil': {'low': 2.0, 'mid': 2.99, 'high': 5.99, 'market': 2.58, 'directLow': 4.99}}\n{'holofoil': {'low': 0.2, 'mid': 0.51, 'high': 2.9, 'market': 0.51, 'directLow': 0.39}, 'reverseHolofoil': {'low': 0.25, 'mid': 0.6, 'high': 1.77, 'market': 0.52, 'directLow': 0.25}}\n{'normal': {'low': 0.8, 'mid': 1.0, 'high': 5.21, 'market': 1.53, 'directLow': None}, 'reverseHolofoil': {'low': 47.95, 'mid': 76.57, 'high': 99.0, 'market': 10.0, 'directLow': None}}\n{'normal': {'low': 0.43, 'mid': 0.89, 'high': 3.0, 'market': 0.62, 'directLow': None}}\n{'normal': {'low': 0.01, 'mid': 0.38, 'high': 1.25, 'market': 0.36, 'directLow': 0.39}, 'reverseHolofoil': {'low': 0.2, 'mid': 0.64, 'high': 15.0, 'market': 0.64, 'directLow': 0.4}}\n{'normal': {'low': 4.4, 'mid': 7.53, 'high': 14.99, 'market': 7.56, 'directLow': None}, '1stEditionNormal': {'low': 13.36, 'mid': 21.29, 'high': 25.04, 'market': 20.53, 'directLow': None}}\n{'normal': {'low': 0.09, 'mid': 0.25, 'high': 0.75, 'market': 0.12, 'directLow': 0.14}, 'reverseHolofoil': {'low': 0.2, 'mid': 0.47, 'high': 1.25, 'market': 0.31, 'directLow': 0.25}}\n{'normal': {'low': 0.49, 'mid': 0.8, 'high': 2.4, 'market': 0.94, 'directLow': None}, 'reverseHolofoil': {'low': 0.87, 'mid': 1.57, 'high': 2.99, 'market': 1.83, 'directLow': None}}\n{'normal': {'low': 40.0, 'mid': 45.0, 'high': 99.99, 'market': None, 'directLow': None}}\n{'normal': {'low': 0.1, 'mid': 0.28, 'high': 1.49, 'market': 0.25, 'directLow': 0.25}, 'reverseHolofoil': {'low': 0.18, 'mid': 0.45, 'high': 2.0, 'market': 0.36, 'directLow': 0.43}}\n{'holofoil': {'low': 0.99, 'mid': 6.52, 'high': 8.0, 'market': 4.86, 'directLow': None}, 'reverseHolofoil': {'low': 55.52, 'mid': 62.5, 'high': 69.48, 'market': 1.68, 'directLow': None}}\n{'normal': {'low': 0.43, 'mid': 0.59, 'high': 1.02, 'market': 0.36, 'directLow': None}}\n"
     ]
    }
   ],
   "source": [
    "mylist = []\n",
    "\n",
    "for i in type_info.json()['data']:\n",
    "    try: \n",
    "        print(\n",
    "            i['name'] + str(i['tcgplayer']['prices'])\n",
    "            )\n",
    "    except KeyError:\n",
    "        mylist.append(i['name']+\" \"+i['id'])"
   ]
  },
  {
   "cell_type": "code",
   "execution_count": 35,
   "metadata": {
    "tags": []
   },
   "outputs": [],
   "source": [
    "dictionary_nameprices = []\n",
    "errorsList = []\n",
    "\n",
    "for i in type_info.json()['data']:\n",
    "    try: \n",
    "        dictionary_nameprices.append(\n",
    "            {'name': i['name'], 'prices':i['tcgplayer']['prices']}\n",
    "            )\n",
    "    except KeyError:\n",
    "        mylist.append(i['name']+\" \"+i['id'])"
   ]
  },
  {
   "cell_type": "code",
   "execution_count": 31,
   "metadata": {},
   "outputs": [
    {
     "output_type": "stream",
     "name": "stdout",
     "text": [
      "['Magikarp mcd16-4', 'Totodile mcd16-5', 'Alolan Sandshrew sm2-19a']\n"
     ]
    }
   ],
   "source": [
    "print(mylist)"
   ]
  },
  {
   "cell_type": "code",
   "execution_count": 36,
   "metadata": {
    "tags": [
     "outputPrepend"
    ]
   },
   "outputs": [
    {
     "output_type": "stream",
     "name": "stdout",
     "text": [
      "22.0, 'market': 8.05, 'directLow': None}, 'reverseHolofoil': {'low': 5.6, 'mid': 27.8, 'high': 49.99, 'market': 10.3, 'directLow': None}}}, {'name': 'Kingdra', 'prices': {'holofoil': {'low': 6.68, 'mid': 12.0, 'high': 49.99, 'market': 11.52, 'directLow': None}, '1stEditionHolofoil': {'low': 49.99, 'mid': 70.0, 'high': 99.99, 'market': 71.27, 'directLow': None}}}, {'name': 'Vaporeon δ', 'prices': {'holofoil': {'low': 24.99, 'mid': 32.5, 'high': 80.0, 'market': 36.39, 'directLow': None}, 'reverseHolofoil': {'low': 60.0, 'mid': 82.0, 'high': 103.99, 'market': 89.99, 'directLow': None}}}, {'name': 'Alolan Vulpix', 'prices': {'holofoil': {'low': 3.98, 'mid': 6.96, 'high': 47.94, 'market': 4.83, 'directLow': 4.99}}}, {'name': 'Vaporeon', 'prices': {'holofoil': {'low': 0.15, 'mid': 0.5, 'high': 2.0, 'market': 0.4, 'directLow': 0.45}, 'reverseHolofoil': {'low': 0.35, 'mid': 1.37, 'high': 4.82, 'market': 1.35, 'directLow': 1.84}}}, {'name': 'Kingler', 'prices': {'normal': {'low': 0.14, 'mid': 0.38, 'high': 1.25, 'market': 0.25, 'directLow': 0.29}, 'reverseHolofoil': {'low': 0.25, 'mid': 0.47, 'high': 2.5, 'market': 0.3, 'directLow': None}}}, {'name': 'Suicune', 'prices': {'holofoil': {'low': 99.99, 'mid': 127.99, 'high': 320.0, 'market': 164.43, 'directLow': 79.98}, '1stEditionHolofoil': {'low': 149.99, 'mid': 350.0, 'high': 899.99, 'market': 256.21, 'directLow': None}}}, {'name': 'Squirtle', 'prices': {}}, {'name': 'Huntail', 'prices': {'normal': {'low': 0.45, 'mid': 0.69, 'high': 2.49, 'market': 0.86, 'directLow': None}, 'reverseHolofoil': {'low': 2.12, 'mid': 4.43, 'high': 19.0, 'market': 2.88, 'directLow': None}}}, {'name': 'Articuno', 'prices': {'normal': {'low': 4.23, 'mid': 8.5, 'high': 23.99, 'market': 8.06, 'directLow': None}, '1stEditionNormal': {'low': 18.56, 'mid': 21.55, 'high': 28.0, 'market': 25.88, 'directLow': 21.54}}}, {'name': 'Piplup', 'prices': {'normal': {'low': 0.96, 'mid': 2.23, 'high': 3.5, 'market': 3.5, 'directLow': None}, 'holofoil': {'low': 1.03, 'mid': 2.0, 'high': 10.99, 'market': 2.97, 'directLow': None}}}, {'name': 'Feraligatr', 'prices': {'holofoil': {'low': 8.13, 'mid': 44.99, 'high': 50.0, 'market': 9.25, 'directLow': None}}}, {'name': \"Team Aqua's Sealeo\", 'prices': {'normal': {'low': 0.45, 'mid': 1.12, 'high': 2.99, 'market': 1.0, 'directLow': None}, 'reverseHolofoil': {'low': 1.82, 'mid': 3.19, 'high': 10.99, 'market': 2.22, 'directLow': None}}}, {'name': 'Horsea', 'prices': {'normal': {'low': 0.05, 'mid': 0.22, 'high': 0.75, 'market': 0.09, 'directLow': 0.06}, 'reverseHolofoil': {'low': 0.24, 'mid': 0.49, 'high': 1.49, 'market': 0.49, 'directLow': 0.24}}}, {'name': 'Articuno', 'prices': {'normal': {'low': 2.02, 'mid': 9.95, 'high': 10.16, 'market': 5.58, 'directLow': None}, 'reverseHolofoil': {'low': 6.81, 'mid': 8.99, 'high': 49.99, 'market': 6.81, 'directLow': None}}}, {'name': 'Blastoise', 'prices': {'normal': {'low': 2.99, 'mid': 6.21, 'high': 60.0, 'market': 4.51, 'directLow': None}, 'reverseHolofoil': {'low': 40.0, 'mid': 58.0, 'high': 78.75, 'market': 14.66, 'directLow': None}}}, {'name': 'Octillery', 'prices': {'holofoil': {'low': 56.99, 'mid': 109.61, 'high': 159.99, 'market': 92.48, 'directLow': None}}}, {'name': 'Frosmoth', 'prices': {'holofoil': {'low': 27.54, 'mid': 30.28, 'high': 70.0, 'market': 22.03, 'directLow': None}}}, {'name': 'Floatzel', 'prices': {'normal': {'low': 0.25, 'mid': 0.49, 'high': 3.3, 'market': 0.41, 'directLow': None}, 'reverseHolofoil': {'low': 0.61, 'mid': 0.97, 'high': 2.99, 'market': 0.73, 'directLow': None}}}, {'name': 'Wooper', 'prices': {'holofoil': {'low': 3.24, 'mid': 5.78, 'high': 18.99, 'market': 4.83, 'directLow': 7.99}}}, {'name': 'Piplup', 'prices': {'normal': {'low': 0.1, 'mid': 0.7, 'high': 19.99, 'market': 0.49, 'directLow': None}}}, {'name': 'Politoed', 'prices': {'holofoil': {'low': 21.49, 'mid': 35.5, 'high': 54.99, 'market': 31.95, 'directLow': None}, '1stEditionHolofoil': {'low': 55.69, 'mid': 74.84, 'high': 90.21, 'market': 129.96, 'directLow': None}}}, {'name': 'Kingdra', 'prices': {'holofoil': {'low': 12.99, 'mid': 17.92, 'high': 21.42, 'market': 4.92, 'directLow': None}, 'reverseHolofoil': {'low': 6.0, 'mid': 9.99, 'high': 14.89, 'market': 3.84, 'directLow': None}}}, {'name': 'Cloyster', 'prices': {'holofoil': {'low': 31.0, 'mid': 49.99, 'high': 75.95, 'market': 45.39, 'directLow': None}, 'reverseHolofoil': {'low': 23.99, 'mid': 25.97, 'high': 27.99, 'market': 12.42, 'directLow': None}}}, {'name': 'Manaphy', 'prices': {'holofoil': {'low': 1.5, 'mid': 4.31, 'high': 4.99, 'market': 1.6, 'directLow': None}, 'reverseHolofoil': {'low': 1.0, 'mid': 2.1, 'high': 3.19, 'market': 0.98, 'directLow': None}}}, {'name': 'Totodile', 'prices': {'normal': {'low': 0.1, 'mid': 0.25, 'high': 1.25, 'market': 0.19, 'directLow': None}, 'reverseHolofoil': {'low': 0.15, 'mid': 0.46, 'high': 4.0, 'market': 0.36, 'directLow': None}}}, {'name': 'Octillery', 'prices': {'normal': {'low': 0.09, 'mid': 0.25, 'high': 1.21, 'market': 0.19, 'directLow': 0.2}, 'reverseHolofoil': {'low': 0.2, 'mid': 0.42, 'high': 1.25, 'market': 0.61, 'directLow': 0.25}}}, {'name': 'Azumarill δ', 'prices': {'normal': {'low': 1.28, 'mid': 4.46, 'high': 5.87, 'market': 2.33, 'directLow': None}, 'reverseHolofoil': {'low': 15.0, 'mid': 15.92, 'high': 16.84, 'market': 5.9, 'directLow': None}}}, {'name': 'Panpour', 'prices': {'normal': {'low': 0.43, 'mid': 2.53, 'high': 6.21, 'market': 0.39, 'directLow': None}}}, {'name': 'Relicanth', 'prices': {'normal': {'low': 0.48, 'mid': 0.75, 'high': 2.49, 'market': 0.6, 'directLow': None}, 'reverseHolofoil': {'low': 8.99, 'mid': 11.5, 'high': 14.0, 'market': 10.0, 'directLow': None}}}, {'name': 'Omanyte', 'prices': {'normal': {'low': 0.07, 'mid': 0.25, 'high': 1.25, 'market': 0.16, 'directLow': None}, 'reverseHolofoil': {'low': 0.2, 'mid': 0.53, 'high': 1.49, 'market': 0.42, 'directLow': 0.49}}}, {'name': 'Bruxish', 'prices': {'holofoil': {'low': 3.99, 'mid': 5.56, 'high': 7.13, 'market': 5.4, 'directLow': None}}}, {'name': 'Palkia LV.X', 'prices': {'holofoil': {'low': 7.0, 'mid': 39.99, 'high': 49.99, 'market': 23.86, 'directLow': None}}}, {'name': 'Croconaw', 'prices': {'normal': {'low': 0.12, 'mid': 0.26, 'high': 1.25, 'market': 0.18, 'directLow': 0.15}, 'reverseHolofoil': {'low': 0.2, 'mid': 0.49, 'high': 1.94, 'market': 0.54, 'directLow': 0.25}}}, {'name': \"Team Aqua's Sharpedo\", 'prices': {'normal': {'low': 1.99, 'mid': 2.1, 'high': 4.22, 'market': 1.14, 'directLow': 2.09}, 'reverseHolofoil': {'low': 8.97, 'mid': 390.53, 'high': 772.09, 'market': 6.97, 'directLow': None}}}, {'name': 'Qwilfish', 'prices': {'normal': {'low': 0.15, 'mid': 0.34, 'high': 1.25, 'market': 0.25, 'directLow': 0.2}, 'reverseHolofoil': {'low': 0.25, 'mid': 0.61, 'high': 1.95, 'market': 0.57, 'directLow': 0.4}}}, {'name': 'Kingdra', 'prices': {'normal': {'low': 0.39, 'mid': 0.61, 'high': 1.12, 'market': 0.66, 'directLow': None}, 'reverseHolofoil': {'low': 0.49, 'mid': 1.06, 'high': 1.34, 'market': 0.85, 'directLow': None}}}, {'name': 'Suicune', 'prices': {'normal': {'low': 0.28, 'mid': 1.08, 'high': 191602.97, 'market': 0.91, 'directLow': 1.12}, 'reverseHolofoil': {'low': 2.24, 'mid': 2.67, 'high': 2.99, 'market': 1.88, 'directLow': None}}}, {'name': 'Quagsire', 'prices': {'holofoil': {'low': 4.0, 'mid': 7.54, 'high': 19.99, 'market': 5.1, 'directLow': 6.5}}}, {'name': 'Magikarp', 'prices': {'normal': {'low': 0.04, 'mid': 0.22, 'high': 1.25, 'market': 0.14, 'directLow': 0.15}, 'reverseHolofoil': {'low': 0.19, 'mid': 0.37, 'high': 1.95, 'market': 0.33, 'directLow': 0.25}}}, {'name': 'Feraligatr', 'prices': {'normal': {'low': 1.0, 'mid': 2.02, 'high': 4.67, 'market': 3.4, 'directLow': None}, 'reverseHolofoil': {'low': 6.79, 'mid': 7.99, 'high': 8.59, 'market': 2.32, 'directLow': None}}}, {'name': 'Feraligatr', 'prices': {'holofoil': {'low': 1.25, 'mid': 2.75, 'high': 5.57, 'market': 1.76, 'directLow': None}, 'reverseHolofoil': {'low': 0.99, 'mid': 2.53, 'high': 3.99, 'market': 2.41, 'directLow': None}}}, {'name': 'Milotic', 'prices': {'holofoil': {'low': 9.99, 'mid': 17.21, 'high': 26.99, 'market': 24.99, 'directLow': None}, 'reverseHolofoil': {'low': 17.95, 'mid': 19.9, 'high': 24.99, 'market': 17.99, 'directLow': None}}}, {'name': 'Froakie', 'prices': {'normal': {'low': 0.29, 'mid': 0.71, 'high': 1.75, 'market': 0.56, 'directLow': None}, 'holofoil': {'low': 0.25, 'mid': 1.0, 'high': 3.0, 'market': 1.23, 'directLow': None}}}, {'name': 'Azumarill', 'prices': {'normal': {'low': 0.25, 'mid': 0.78, 'high': 2.7, 'market': 0.98, 'directLow': None}, 'reverseHolofoil': {'low': 0.75, 'mid': 1.5, 'high': 4.99, 'market': 1.72, 'directLow': None}}}, {'name': 'Froakie', 'prices': {'holofoil': {'low': 2.69, 'mid': 4.99, 'high': 39.99, 'market': 3.72, 'directLow': 4.33}}}, {'name': 'Feebas', 'prices': {'normal': {'low': 0.09, 'mid': 0.25, 'high': 1.25, 'market': 0.17, 'directLow': 0.1}, 'reverseHolofoil': {'low': 0.17, 'mid': 0.35, 'high': 2.0, 'market': 0.31, 'directLow': 0.17}}}, {'name': 'Mamoswine', 'prices': {'holofoil': {'low': 4.74, 'mid': 29.99, 'high': 29.99, 'market': 2.36, 'directLow': None}, 'reverseHolofoil': {'low': 3.98, 'mid': 3.99, 'high': 4.99, 'market': 2.48, 'directLow': None}}}, {'name': 'Lumineon', 'prices': {'holofoil': {'low': 0.99, 'mid': 1.5, 'high': 1.99, 'market': 2.06, 'directLow': None}, 'reverseHolofoil': {'low': 0.4, 'mid': 1.32, 'high': 4.99, 'market': 2.36, 'directLow': None}}}, {'name': 'Palkia', 'prices': {'holofoil': {'low': 3.0, 'mid': 3.78, 'high': 62.8, 'market': 2.99, 'directLow': None}, 'reverseHolofoil': {'low': 1.02, 'mid': 2.21, 'high': 6.99, 'market': 2.23, 'directLow': None}}}, {'name': 'Rayquaza δ', 'prices': {'holofoil': {'low': 20.45, 'mid': 52.99, 'high': 80.0, 'market': 45.68, 'directLow': None}, 'reverseHolofoil': {'low': 19.99, 'mid': 49.99, 'high': 50.76, 'market': 99.99, 'directLow': None}}}, {'name': 'Snorunt', 'prices': {'normal': {'low': 0.1, 'mid': 0.25, 'high': 1.0, 'market': 0.15, 'directLow': None}, 'reverseHolofoil': {'low': 0.25, 'mid': 0.42, 'high': 1.0, 'market': 0.41, 'directLow': 0.25}}}, {'name': 'Omastar', 'prices': {'normal': {'low': 0.1, 'mid': 0.43, 'high': 1.25, 'market': 0.42, 'directLow': None}, 'reverseHolofoil': {'low': 0.3, 'mid': 0.55, 'high': 1.8, 'market': 0.4, 'directLow': None}}}, {'name': 'Frogadier', 'prices': {'holofoil': {'low': 2.79, 'mid': 5.73, 'high': 17.0, 'market': 3.29, 'directLow': 3.29}}}, {'name': 'Vaporeon', 'prices': {'holofoil': {'low': 15.98, 'mid': 37.0, 'high': 40.0, 'market': 22.49, 'directLow': None}, 'reverseHolofoil': {'low': 24.99, 'mid': 40.0, 'high': 40.73, 'market': 25.0, 'directLow': None}}}, {'name': 'Horsea', 'prices': {'normal': {'low': 0.05, 'mid': 0.23, 'high': 0.75, 'market': 0.1, 'directLow': 0.06}, 'reverseHolofoil': {'low': 0.24, 'mid': 0.5, 'high': 1.8, 'market': 0.38, 'directLow': None}}}, {'name': 'Milotic', 'prices': {'holofoil': {'low': 0.42, 'mid': 2.0, 'high': 8.5, 'market': 1.32, 'directLow': 1.05}, 'reverseHolofoil': {'low': 1.3, 'mid': 2.99, 'high': 9.75, 'market': 2.8, 'directLow': 1.5}}}, {'name': 'Gyarados', 'prices': {'normal': {'low': 0.19, 'mid': 0.43, 'high': 3.99, 'market': 0.35, 'directLow': 0.4}, 'reverseHolofoil': {'low': 0.3, 'mid': 0.76, 'high': 4.99, 'market': 0.77, 'directLow': 0.49}}}, {'name': 'Glalie', 'prices': {'normal': {'low': 0.25, 'mid': 0.68, 'high': 1.8, 'market': 0.94, 'directLow': 0.38}, 'reverseHolofoil': {'low': 0.97, 'mid': 1.77, 'high': 2.49, 'market': 0.97, 'directLow': 1.04}}}, {'name': 'Glalie', 'prices': {'normal': {'low': 0.08, 'mid': 0.26, 'high': 1.0, 'market': 0.13, 'directLow': 0.23}, 'reverseHolofoil': {'low': 0.25, 'mid': 0.47, 'high': 1.25, 'market': 0.32, 'directLow': 0.25}}}, {'name': 'Omastar BREAK', 'prices': {'holofoil': {'low': 0.4, 'mid': 1.79, 'high': 5.99, 'market': 1.33, 'directLow': 1.79}}}, {'name': 'Vaporeon', 'prices': {'holofoil': {'low': 7.95, 'mid': 14.0, 'high': 88.89, 'market': 20.95, 'directLow': None}, '1stEditionHolofoil': {'low': 105.49, 'mid': 135.49, 'high': 353.95, 'market': 249.99, 'directLow': None}}}, {'name': 'Alolan Sandshrew', 'prices': {'normal': {'low': 0.02, 'mid': 0.2, 'high': 1.25, 'market': 0.11, 'directLow': 0.1}, 'reverseHolofoil': {'low': 0.15, 'mid': 0.35, 'high': 1.79, 'market': 0.25, 'directLow': 0.22}}}, {'name': 'Frogadier', 'prices': {'normal': {'low': 0.45, 'mid': 1.0, 'high': 1.85, 'market': 1.01, 'directLow': None}, 'holofoil': {'low': 0.5, 'mid': 1.79, 'high': 5.0, 'market': 3.3, 'directLow': None}}}, {'name': 'Dark Omastar', 'prices': {'normal': {'low': 3.0, 'mid': 7.35, 'high': 10.99, 'market': 5.77, 'directLow': None}, '1stEditionNormal': {'low': 14.99, 'mid': 17.99, 'high': 27.99, 'market': 12.69, 'directLow': None}}}, {'name': 'Finneon', 'prices': {'normal': {'low': 0.07, 'mid': 0.25, 'high': 1.25, 'market': 0.14, 'directLow': 0.14}, 'reverseHolofoil': {'low': 0.21, 'mid': 0.49, 'high': 1.95, 'market': 0.33, 'directLow': None}}}, {'name': 'Articuno', 'prices': {'normal': {'low': 0.5, 'mid': 1.55, 'high': 3.68, 'market': 1.55, 'directLow': None}, 'reverseHolofoil': {'low': 2.9, 'mid': 3.79, 'high': 4.2, 'market': 1.25, 'directLow': None}}}, {'name': 'Feraligatr', 'prices': {'holofoil': {'low': 87.75, 'mid': 169.95, 'high': 199.99, 'market': 87.0, 'directLow': None}, 'reverseHolofoil': {'low': 40.0, 'mid': 69.31, 'high': 79.0, 'market': 69.99, 'directLow': None}}}, {'name': 'Gyarados', 'prices': {'holofoil': {'low': 4.9, 'mid': 8.51, 'high': 23.71, 'market': 8.46, 'directLow': 7.46}, 'reverseHolofoil': {'low': 5.29, 'mid': 9.0, 'high': 39.99, 'market': 6.91, 'directLow': 9.99}}}, {'name': 'Greninja', 'prices': {'normal': {'low': 0.99, 'mid': 1.77, 'high': 2.99, 'market': 1.23, 'directLow': None}, 'holofoil': {'low': 0.91, 'mid': 4.13, 'high': 12.5, 'market': 2.28, 'directLow': None}}}, {'name': 'Palkia', 'prices': {'holofoil': {'low': 1.82, 'mid': 1.82, 'high': 1.82, 'market': 6.79, 'directLow': None}, 'reverseHolofoil': {'low': 1.85, 'mid': 1.96, 'high': 2.06, 'market': 2.29, 'directLow': None}}}, {'name': 'Golduck', 'prices': {'normal': {'low': 0.43, 'mid': 0.96, 'high': 2.49, 'market': 0.86, 'directLow': 0.88}, 'reverseHolofoil': {'low': 1.0, 'mid': 49.38, 'high': 97.76, 'market': 1.91, 'directLow': None}}}, {'name': 'Glaceon-EX', 'prices': {'holofoil': {'low': 3.51, 'mid': 5.0, 'high': 11.99, 'market': 4.41, 'directLow': 5.49}}}, {'name': 'Ludicolo', 'prices': {'normal': {'low': 0.26, 'mid': 0.75, 'high': 3.99, 'market': 0.98, 'directLow': None}, 'reverseHolofoil': {'low': 4.0, 'mid': 4.75, 'high': 5.49, 'market': 5.49, 'directLow': None}}}, {'name': 'Togetic δ', 'prices': {'holofoil': {'low': 7.99, 'mid': 16.7, 'high': 24.99, 'market': 8.59, 'directLow': None}, 'reverseHolofoil': {'low': 14.96, 'mid': 18.99, 'high': 25.0, 'market': 10.98, 'directLow': None}}}, {'name': 'Froslass', 'prices': {'normal': {'low': 0.25, 'mid': 0.53, 'high': 1.49, 'market': 0.55, 'directLow': 0.35}, 'reverseHolofoil': {'low': 0.08, 'mid': 0.75, 'high': 2.0, 'market': 0.75, 'directLow': None}}}, {'name': 'Articuno', 'prices': {'normal': {'low': 0.18, 'mid': 0.82, 'high': 4.44, 'market': 0.75, 'directLow': 1.12}, 'reverseHolofoil': {'low': 0.45, 'mid': 0.96, 'high': 12.59, 'market': 1.29, 'directLow': None}}}, {'name': 'Swampert', 'prices': {'holofoil': {'low': 26.15, 'mid': 31.35, 'high': 39.99, 'market': 42.9, 'directLow': None}, 'reverseHolofoil': {'low': 11.56, 'mid': 34.0, 'high': 45.0, 'market': 22.88, 'directLow': None}}}, {'name': 'Seadra', 'prices': {'normal': {'low': 0.1, 'mid': 0.25, 'high': 0.93, 'market': 0.18, 'directLow': 0.15}, 'reverseHolofoil': {'low': 0.24, 'mid': 0.46, 'high': 1.49, 'market': 0.47, 'directLow': 0.5}}}, {'name': 'Spheal', 'prices': {'normal': {'low': 0.04, 'mid': 0.25, 'high': 1.25, 'market': 0.2, 'directLow': 0.14}, 'reverseHolofoil': {'low': 0.25, 'mid': 0.42, 'high': 4.42, 'market': 0.3, 'directLow': 0.25}}}, {'name': 'Lumineon', 'prices': {'normal': {'low': 0.1, 'mid': 0.3, 'high': 1.25, 'market': 0.19, 'directLow': 0.25}, 'reverseHolofoil': {'low': 0.15, 'mid': 0.47, 'high': 1.95, 'market': 0.33, 'directLow': 0.25}}}, {'name': 'Horsea', 'prices': {'normal': {'low': 0.09, 'mid': 0.25, 'high': 0.99, 'market': 0.21, 'directLow': None}, 'reverseHolofoil': {'low': 0.25, 'mid': 0.49, 'high': 1.0, 'market': 0.36, 'directLow': 0.25}}}, {'name': 'Mudkip', 'prices': {'reverseHolofoil': {'low': 16.99, 'mid': 19.93, 'high': 25.0, 'market': 18.16, 'directLow': None}}}, {'name': 'Sealeo', 'prices': {'normal': {'low': 0.09, 'mid': 0.25, 'high': 1.25, 'market': 0.15, 'directLow': 0.14}, 'reverseHolofoil': {'low': 0.23, 'mid': 0.41, 'high': 1.95, 'market': 0.31, 'directLow': 0.27}}}, {'name': 'Seadra', 'prices': {'normal': {'low': 0.14, 'mid': 0.28, 'high': 0.99, 'market': 0.24, 'directLow': None}, 'reverseHolofoil': {'low': 0.25, 'mid': 0.49, 'high': 1.25, 'market': 0.36, 'directLow': 0.32}}}, {'name': 'Squirtle', 'prices': {'normal': {'low': 0.06, 'mid': 0.35, 'high': 2.99, 'market': 0.39, 'directLow': 0.34}, 'reverseHolofoil': {'low': 0.26, 'mid': 0.85, 'high': 10.99, 'market': 0.49, 'directLow': 10.99}}}, {'name': 'Phione', 'prices': {'holofoil': {'low': 3.63, 'mid': 19.97, 'high': 28.49, 'market': 2.98, 'directLow': 28.48}, 'reverseHolofoil': {'low': 2.95, 'mid': 5.52, 'high': 9.86, 'market': 4.39, 'directLow': 2.99}}}, {'name': 'Omastar', 'prices': {'normal': {'low': 0.58, 'mid': 1.13, 'high': 2.49, 'market': 0.82, 'directLow': None}, 'reverseHolofoil': {'low': 14.95, 'mid': 24.0, 'high': 35.0, 'market': 3.82, 'directLow': None}}}, {'name': 'Wailord', 'prices': {'holofoil': {'low': 7.23, 'mid': 15.91, 'high': 23.69, 'market': 15.05, 'directLow': None}, 'reverseHolofoil': {'low': 5.98, 'mid': 8.11, 'high': 15.0, 'market': 13.92, 'directLow': None}}}, {'name': 'Kingdra-GX', 'prices': {'holofoil': {'low': 2.0, 'mid': 2.99, 'high': 5.99, 'market': 2.58, 'directLow': 4.99}}}, {'name': 'White Kyurem', 'prices': {'holofoil': {'low': 0.2, 'mid': 0.51, 'high': 2.9, 'market': 0.51, 'directLow': 0.39}, 'reverseHolofoil': {'low': 0.25, 'mid': 0.6, 'high': 1.77, 'market': 0.52, 'directLow': 0.25}}}, {'name': 'Delibird', 'prices': {'normal': {'low': 0.8, 'mid': 1.0, 'high': 5.21, 'market': 1.53, 'directLow': None}, 'reverseHolofoil': {'low': 47.95, 'mid': 76.57, 'high': 99.0, 'market': 10.0, 'directLow': None}}}, {'name': 'Piplup', 'prices': {'normal': {'low': 0.43, 'mid': 0.89, 'high': 3.0, 'market': 0.62, 'directLow': None}}}, {'name': 'Vaporeon', 'prices': {'normal': {'low': 0.01, 'mid': 0.38, 'high': 1.25, 'market': 0.36, 'directLow': 0.39}, 'reverseHolofoil': {'low': 0.2, 'mid': 0.64, 'high': 15.0, 'market': 0.64, 'directLow': 0.4}}}, {'name': 'Kingdra', 'prices': {'normal': {'low': 4.4, 'mid': 7.53, 'high': 14.99, 'market': 7.56, 'directLow': None}, '1stEditionNormal': {'low': 13.36, 'mid': 21.29, 'high': 25.04, 'market': 20.53, 'directLow': None}}}, {'name': 'Relicanth', 'prices': {'normal': {'low': 0.09, 'mid': 0.25, 'high': 0.75, 'market': 0.12, 'directLow': 0.14}, 'reverseHolofoil': {'low': 0.2, 'mid': 0.47, 'high': 1.25, 'market': 0.31, 'directLow': 0.25}}}, {'name': 'Abomasnow', 'prices': {'normal': {'low': 0.49, 'mid': 0.8, 'high': 2.4, 'market': 0.94, 'directLow': None}, 'reverseHolofoil': {'low': 0.87, 'mid': 1.57, 'high': 2.99, 'market': 1.83, 'directLow': None}}}, {'name': 'Marshtomp', 'prices': {'normal': {'low': 40.0, 'mid': 45.0, 'high': 99.99, 'market': None, 'directLow': None}}}, {'name': 'Alolan Sandslash', 'prices': {'normal': {'low': 0.1, 'mid': 0.28, 'high': 1.49, 'market': 0.25, 'directLow': 0.25}, 'reverseHolofoil': {'low': 0.18, 'mid': 0.45, 'high': 2.0, 'market': 0.36, 'directLow': 0.43}}}, {'name': 'Politoed', 'prices': {'holofoil': {'low': 0.99, 'mid': 6.52, 'high': 8.0, 'market': 4.86, 'directLow': None}, 'reverseHolofoil': {'low': 55.52, 'mid': 62.5, 'high': 69.48, 'market': 1.68, 'directLow': None}}}, {'name': 'Clauncher', 'prices': {'normal': {'low': 0.43, 'mid': 0.59, 'high': 1.02, 'market': 0.36, 'directLow': None}}}]\n"
     ]
    }
   ],
   "source": [
    "print(dictionary_nameprices)"
   ]
  },
  {
   "cell_type": "code",
   "execution_count": null,
   "metadata": {},
   "outputs": [],
   "source": []
  }
 ],
 "metadata": {
  "kernelspec": {
   "name": "pythondata",
   "display_name": "Python 3.7.9 64-bit ('PythonData': conda)"
  },
  "language_info": {
   "codemirror_mode": {
    "name": "ipython",
    "version": 3
   },
   "file_extension": ".py",
   "mimetype": "text/x-python",
   "name": "python",
   "nbconvert_exporter": "python",
   "pygments_lexer": "ipython3",
   "version": "3.7.9"
  }
 },
 "nbformat": 4,
 "nbformat_minor": 5
}