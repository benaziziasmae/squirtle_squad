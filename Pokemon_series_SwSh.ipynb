{
 "cells": [
  {
   "cell_type": "code",
   "execution_count": 1,
   "id": "40a6d650",
   "metadata": {},
   "outputs": [],
   "source": [
    "# import dependencies\n",
    "import pandas as pd\n",
    "import requests\n",
    "import csv\n",
    "from config import tcgapikey"
   ]
  },
  {
   "cell_type": "code",
   "execution_count": 2,
   "metadata": {},
   "outputs": [],
   "source": [
    "apiKey = tcgapikey"
   ]
  },
  {
   "cell_type": "code",
   "execution_count": 5,
   "id": "a55ea570",
   "metadata": {},
   "outputs": [],
   "source": [
    "# Call API\n",
    "url = 'https://api.pokemontcg.io/v2/cards?q=set.series:Sword%20&%20Shield'"
   ]
  },
  {
   "cell_type": "code",
   "execution_count": 8,
   "id": "086cb913",
   "metadata": {},
   "outputs": [],
   "source": [
    "card_info = requests.get(url, headers={'X-Api-Key':apiKey}).json()"
   ]
  },
  {
   "source": [
    "swshseries_df = pd.DataFrame(card_info['data'])\n",
    "swshseries_df.head(2)"
   ],
   "cell_type": "code",
   "metadata": {},
   "execution_count": 7,
   "outputs": [
    {
     "output_type": "execute_result",
     "data": {
      "text/plain": [
       "         id        name supertype    subtypes   hp    types  \\\n",
       "0  swsh35-1  Venusaur V   Pokémon  [Basic, V]  220  [Grass]   \n",
       "1  swsh35-2      Weedle   Pokémon     [Basic]   60  [Grass]   \n",
       "\n",
       "                                               rules  \\\n",
       "0  [V rule: When your Pokémon V is Knocked Out, y...   \n",
       "1                                                NaN   \n",
       "\n",
       "                                             attacks  \\\n",
       "0  [{'name': 'Pollen Bomb', 'cost': ['Grass', 'Gr...   \n",
       "1  [{'name': 'Call for Family', 'cost': ['Colorle...   \n",
       "\n",
       "                          weaknesses                        retreatCost  ...  \\\n",
       "0  [{'type': 'Fire', 'value': '×2'}]  [Colorless, Colorless, Colorless]  ...   \n",
       "1  [{'type': 'Fire', 'value': '×2'}]                        [Colorless]  ...   \n",
       "\n",
       "        rarity nationalPokedexNumbers  \\\n",
       "0  Rare Holo V                    [3]   \n",
       "1       Common                   [13]   \n",
       "\n",
       "                                          legalities  \\\n",
       "0  {'unlimited': 'Legal', 'standard': 'Legal', 'e...   \n",
       "1  {'unlimited': 'Legal', 'standard': 'Legal', 'e...   \n",
       "\n",
       "                                              images  \\\n",
       "0  {'small': 'https://images.pokemontcg.io/swsh35...   \n",
       "1  {'small': 'https://images.pokemontcg.io/swsh35...   \n",
       "\n",
       "                                           tcgplayer evolvesTo  \\\n",
       "0  {'url': 'https://prices.pokemontcg.io/tcgplaye...       NaN   \n",
       "1  {'url': 'https://prices.pokemontcg.io/tcgplaye...  [Kakuna]   \n",
       "\n",
       "                                          flavorText evolvesFrom abilities  \\\n",
       "0                                                NaN         NaN       NaN   \n",
       "1  Its poison stinger is very powerful. Its brigh...         NaN       NaN   \n",
       "\n",
       "  resistances  \n",
       "0         NaN  \n",
       "1         NaN  \n",
       "\n",
       "[2 rows x 24 columns]"
      ],
      "text/html": "<div>\n<style scoped>\n    .dataframe tbody tr th:only-of-type {\n        vertical-align: middle;\n    }\n\n    .dataframe tbody tr th {\n        vertical-align: top;\n    }\n\n    .dataframe thead th {\n        text-align: right;\n    }\n</style>\n<table border=\"1\" class=\"dataframe\">\n  <thead>\n    <tr style=\"text-align: right;\">\n      <th></th>\n      <th>id</th>\n      <th>name</th>\n      <th>supertype</th>\n      <th>subtypes</th>\n      <th>hp</th>\n      <th>types</th>\n      <th>rules</th>\n      <th>attacks</th>\n      <th>weaknesses</th>\n      <th>retreatCost</th>\n      <th>...</th>\n      <th>rarity</th>\n      <th>nationalPokedexNumbers</th>\n      <th>legalities</th>\n      <th>images</th>\n      <th>tcgplayer</th>\n      <th>evolvesTo</th>\n      <th>flavorText</th>\n      <th>evolvesFrom</th>\n      <th>abilities</th>\n      <th>resistances</th>\n    </tr>\n  </thead>\n  <tbody>\n    <tr>\n      <th>0</th>\n      <td>swsh35-1</td>\n      <td>Venusaur V</td>\n      <td>Pokémon</td>\n      <td>[Basic, V]</td>\n      <td>220</td>\n      <td>[Grass]</td>\n      <td>[V rule: When your Pokémon V is Knocked Out, y...</td>\n      <td>[{'name': 'Pollen Bomb', 'cost': ['Grass', 'Gr...</td>\n      <td>[{'type': 'Fire', 'value': '×2'}]</td>\n      <td>[Colorless, Colorless, Colorless]</td>\n      <td>...</td>\n      <td>Rare Holo V</td>\n      <td>[3]</td>\n      <td>{'unlimited': 'Legal', 'standard': 'Legal', 'e...</td>\n      <td>{'small': 'https://images.pokemontcg.io/swsh35...</td>\n      <td>{'url': 'https://prices.pokemontcg.io/tcgplaye...</td>\n      <td>NaN</td>\n      <td>NaN</td>\n      <td>NaN</td>\n      <td>NaN</td>\n      <td>NaN</td>\n    </tr>\n    <tr>\n      <th>1</th>\n      <td>swsh35-2</td>\n      <td>Weedle</td>\n      <td>Pokémon</td>\n      <td>[Basic]</td>\n      <td>60</td>\n      <td>[Grass]</td>\n      <td>NaN</td>\n      <td>[{'name': 'Call for Family', 'cost': ['Colorle...</td>\n      <td>[{'type': 'Fire', 'value': '×2'}]</td>\n      <td>[Colorless]</td>\n      <td>...</td>\n      <td>Common</td>\n      <td>[13]</td>\n      <td>{'unlimited': 'Legal', 'standard': 'Legal', 'e...</td>\n      <td>{'small': 'https://images.pokemontcg.io/swsh35...</td>\n      <td>{'url': 'https://prices.pokemontcg.io/tcgplaye...</td>\n      <td>[Kakuna]</td>\n      <td>Its poison stinger is very powerful. Its brigh...</td>\n      <td>NaN</td>\n      <td>NaN</td>\n      <td>NaN</td>\n    </tr>\n  </tbody>\n</table>\n<p>2 rows × 24 columns</p>\n</div>"
     },
     "metadata": {},
     "execution_count": 7
    }
   ]
  },
  {
   "cell_type": "code",
   "execution_count": 22,
   "id": "980a88fa",
   "metadata": {},
   "outputs": [
    {
     "output_type": "execute_result",
     "data": {
      "text/plain": [
       "Index(['id', 'name', 'supertype', 'subtypes', 'hp', 'types', 'rules',\n",
       "       'attacks', 'weaknesses', 'retreatCost', 'convertedRetreatCost', 'set',\n",
       "       'number', 'artist', 'rarity', 'nationalPokedexNumbers', 'legalities',\n",
       "       'images', 'tcgplayer', 'evolvesTo', 'flavorText', 'evolvesFrom',\n",
       "       'abilities', 'resistances'],\n",
       "      dtype='object')"
      ]
     },
     "metadata": {},
     "execution_count": 22
    }
   ],
   "source": [
    "swshseries_df.columns"
   ]
  }
 ],
 "metadata": {
  "kernelspec": {
   "name": "python379jvsc74a57bd03a4dc42eba70cb6e22ac72c088bb3a50b10bbb215de187733a453ddcda224160",
   "display_name": "Python 3.7.9 64-bit ('PythonData': conda)"
  },
  "language_info": {
   "codemirror_mode": {
    "name": "ipython",
    "version": 3
   },
   "file_extension": ".py",
   "mimetype": "text/x-python",
   "name": "python",
   "nbconvert_exporter": "python",
   "pygments_lexer": "ipython3",
   "version": "3.7.9"
  }
 },
 "nbformat": 4,
 "nbformat_minor": 5
}