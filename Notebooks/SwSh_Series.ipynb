{
 "cells": [
  {
   "cell_type": "code",
   "execution_count": 1,
   "id": "40a6d650",
   "metadata": {},
   "outputs": [],
   "source": [
    "# import dependencies\n",
    "import pandas as pd\n",
    "import requests\n",
    "import csv\n",
    "import json\n",
    "from config import tcgapikey\n",
    "import datetime\n",
    "import copy"
   ]
  },
  {
   "cell_type": "code",
   "execution_count": 2,
   "metadata": {},
   "outputs": [],
   "source": [
    "apiKey = tcgapikey"
   ]
  },
  {
   "cell_type": "code",
   "execution_count": 3,
   "id": "a55ea570",
   "metadata": {},
   "outputs": [],
   "source": [
    "# initial API call\n",
    "url = 'https://api.pokemontcg.io/v2/cards?q=set.series:Sword%20&%20Shield&page=1'"
   ]
  },
  {
   "cell_type": "code",
   "execution_count": 4,
   "id": "086cb913",
   "metadata": {},
   "outputs": [],
   "source": [
    "# get request\n",
    "card_info = requests.get(url, headers={'X-Api-Key':apiKey}).json()"
   ]
  },
  {
   "cell_type": "code",
   "execution_count": 5,
   "metadata": {},
   "outputs": [],
   "source": [
    "# initialize dictionary to add to\n",
    "x = card_info"
   ]
  },
  {
   "cell_type": "code",
   "execution_count": 6,
   "metadata": {},
   "outputs": [
    {
     "output_type": "stream",
     "name": "stdout",
     "text": [
      "Appended page 2\n",
      "Appended page 3\n",
      "Appended page 4\n",
      "Appended page 5\n",
      "Appended page 6\n"
     ]
    },
    {
     "output_type": "execute_result",
     "data": {
      "text/plain": [
       "250"
      ]
     },
     "metadata": {},
     "execution_count": 6
    }
   ],
   "source": [
    "# loop to get all pages of query\n",
    "query_results = True\n",
    "i = 2\n",
    "while query_results:\n",
    "    url = 'https://api.pokemontcg.io/v2/cards?q=set.series:Sword%20&%20Shield&page='+str(i)\n",
    "    card_info = requests.get(url, headers={'X-Api-Key':apiKey}).json()\n",
    "    x['data'] = x['data']+card_info['data']\n",
    "    x['count'] = x['count']+card_info['count']\n",
    "    print(f'Appended page {i}')\n",
    "    i += 1\n",
    "    if card_info['count']==card_info['pageSize']: \n",
    "        continue\n",
    "    else:\n",
    "        query_results= False\n",
    "x.pop('page', None)\n",
    "x.pop('pageSize', None)\n"
   ]
  },
  {
   "cell_type": "code",
   "execution_count": 7,
   "metadata": {},
   "outputs": [],
   "source": [
    "test_x = copy.deepcopy(x)"
   ]
  },
  {
   "cell_type": "code",
   "execution_count": 8,
   "metadata": {},
   "outputs": [],
   "source": [
    "# add columns\n",
    "\n",
    "for i in range(len(x['data'])):\n",
    "#set info\n",
    "    #set_id\n",
    "    try:    \n",
    "        x['data'][i]['set_id']=x['data'][i]['set']['id']\n",
    "    except KeyError:\n",
    "        x['data'][i]['set_id']= None\n",
    "\n",
    "    #set_name\n",
    "    try:    \n",
    "        x['data'][i]['set_name']=x['data'][i]['set']['name']\n",
    "    except KeyError:\n",
    "        x['data'][i]['set_name']= None\n",
    "\n",
    "    #cards_in_set\n",
    "    try:\n",
    "        x['data'][i]['cards_in_set']=x['data'][i]['set']['printedTotal']\n",
    "    except KeyError:\n",
    "        x['data'][i]['cards_in_set']= None \n",
    "\n",
    "    #printed_number\n",
    "    try:\n",
    "        x['data'][i]['printed_total']=x['data'][i]['set']['total']\n",
    "    except KeyError:\n",
    "        x['data'][i]['printed_total']= None\n",
    "\n",
    "#legalities\n",
    "    #standard_legal\n",
    "    try:\n",
    "        x['data'][i]['standard_legal']=x['data'][i]['legalities']['standard']\n",
    "    except KeyError:\n",
    "        x['data'][i]['standard_legal']= None\n",
    "\n",
    "    #unlimited_legal\n",
    "    try:\n",
    "        x['data'][i]['unlimited_legal']=x['data'][i]['legalities']['unlimited']\n",
    "    except KeyError:\n",
    "        x['data'][i]['unlimited_legal']= None\n",
    "    \n",
    "    #extended_legal\n",
    "    try:\n",
    "        x['data'][i]['expanded_legal']=x['data'][i]['legalities']['expanded']\n",
    "    except KeyError:\n",
    "        x['data'][i]['expanded_legal']= None\n",
    "\n",
    "#images    \n",
    "    #small images\n",
    "    try:\n",
    "        x['data'][i]['small_image']=x['data'][i]['images']['small']\n",
    "    except KeyError:\n",
    "        x['data'][i]['small_image']= None\n",
    "\n",
    "    #large image\n",
    "    try:\n",
    "        x['data'][i]['large_image']=x['data'][i]['images']['large']\n",
    "    except KeyError:\n",
    "        x['data'][i]['large_image']= None\n",
    "\n",
    "#regular price\n",
    "    #regular prices-low\n",
    "    try:\n",
    "        x['data'][i]['normal_low']=x['data'][i]['tcgplayer']['prices']['normal']['low']\n",
    "    except KeyError:\n",
    "        x['data'][i]['normal_low'] = None\n",
    "\n",
    "    #regular prices-mid\n",
    "    try:\n",
    "        x['data'][i]['normal_mid']=x['data'][i]['tcgplayer']['prices']['normal']['mid']\n",
    "    except KeyError:\n",
    "        x['data'][i]['normal_mid']  = None\n",
    "\n",
    "    #regular prices-high\n",
    "    try:\n",
    "        x['data'][i]['normal_high']=x['data'][i]['tcgplayer']['prices']['normal']['high']\n",
    "    except KeyError:\n",
    "        x['data'][i]['normal_high']  = None\n",
    "\n",
    "    #regular prices-market\n",
    "    try:\n",
    "        x['data'][i]['normal_market']=x['data'][i]['tcgplayer']['prices']['normal']['market']\n",
    "    except KeyError:\n",
    "        x['data'][i]['normal_market']  = None\n",
    "\n",
    "    #regular price-directLow\n",
    "    try:\n",
    "        x['data'][i]['normal_directLow']=x['data'][i]['tcgplayer']['prices']['normal']['directLow']\n",
    "    except KeyError:\n",
    "        x['data'][i]['normal_directLow']  = None\n",
    "\n",
    "#Holofoil\n",
    "    #reverseHolofoil prices-low\n",
    "    try:\n",
    "        x['data'][i]['holo_low']=x['data'][i]['tcgplayer']['prices']['holofoil']['low']\n",
    "    except KeyError:\n",
    "        x['data'][i]['holo_low'] = None\n",
    "\n",
    "    #reverseHolofoil prices-mid\n",
    "    try:\n",
    "        x['data'][i]['holo_mid']=x['data'][i]['tcgplayer']['prices']['holofoil']['mid']\n",
    "    except KeyError:\n",
    "        x['data'][i]['holo_mid']  = None\n",
    "\n",
    "    #reverseHolofoil prices-high\n",
    "    try:\n",
    "        x['data'][i]['holo_high']=x['data'][i]['tcgplayer']['prices']['holofoil']['high']\n",
    "    except KeyError:\n",
    "        x['data'][i]['holo_high']  = None\n",
    "\n",
    "    #holofoil prices-market\n",
    "    try:\n",
    "        x['data'][i]['holo_market']=x['data'][i]['tcgplayer']['prices']['holofoil']['market']\n",
    "    except KeyError:\n",
    "        x['data'][i]['holo_market']  = None\n",
    "\n",
    "    #holofoil price-directLow\n",
    "    try:\n",
    "        x['data'][i]['holo_directLow']=x['data'][i]['tcgplayer']['prices']['holofoil']['directLow']\n",
    "    except KeyError:\n",
    "        x['data'][i]['holo_directLow']  = None\n",
    "\n",
    "#reverseHolofoil\n",
    "    #reverseHolofoil prices-low\n",
    "    try:\n",
    "        x['data'][i]['rhf_low']=x['data'][i]['tcgplayer']['prices']['reverseHolofoil']['low']\n",
    "    except KeyError:\n",
    "        x['data'][i]['rhf_low'] = None\n",
    "\n",
    "    #reverseHolofoil prices-mid\n",
    "    try:\n",
    "        x['data'][i]['rhf_mid']=x['data'][i]['tcgplayer']['prices']['reverseHolofoil']['mid']\n",
    "    except KeyError:\n",
    "        x['data'][i]['rhf_mid']  = None\n",
    "\n",
    "    #reverseHolofoil prices-high\n",
    "    try:\n",
    "        x['data'][i]['rhf_high']=x['data'][i]['tcgplayer']['prices']['reverseHolofoil']['high']\n",
    "    except KeyError:\n",
    "        x['data'][i]['rhf_high']  = None\n",
    "\n",
    "    #reverseHolofoil prices-market\n",
    "    try:\n",
    "        x['data'][i]['rhf_market']=x['data'][i]['tcgplayer']['prices']['reverseHolofoil']['market']\n",
    "    except KeyError:\n",
    "        x['data'][i]['rhf_market']  = None\n",
    "\n",
    "    #reverseHolofoil price-directLow\n",
    "    try:\n",
    "        x['data'][i]['rhf_directLow']=x['data'][i]['tcgplayer']['prices']['reverseHolofoil']['directLow']\n",
    "    except KeyError:\n",
    "        x['data'][i]['rhf_directLow']  = None\n",
    "\n",
    "    #add timestamp\n",
    "    x['data'][i]['date']= datetime.datetime.now()\n"
   ]
  },
  {
   "cell_type": "code",
   "execution_count": 9,
   "metadata": {},
   "outputs": [],
   "source": [
    "# create dataframe\n",
    "swshseries_df = pd.DataFrame(x['data'])"
   ]
  },
  {
   "cell_type": "code",
   "execution_count": 10,
   "metadata": {},
   "outputs": [
    {
     "output_type": "execute_result",
     "data": {
      "text/plain": [
       "(1390, 49)"
      ]
     },
     "metadata": {},
     "execution_count": 10
    }
   ],
   "source": [
    "swshseries_df.shape"
   ]
  },
  {
   "cell_type": "code",
   "execution_count": 11,
   "metadata": {},
   "outputs": [
    {
     "output_type": "execute_result",
     "data": {
      "text/plain": [
       "Index(['id', 'name', 'supertype', 'subtypes', 'hp', 'types', 'rules',\n",
       "       'attacks', 'weaknesses', 'retreatCost', 'convertedRetreatCost', 'set',\n",
       "       'number', 'artist', 'rarity', 'nationalPokedexNumbers', 'legalities',\n",
       "       'images', 'tcgplayer', 'set_id', 'set_name', 'cards_in_set',\n",
       "       'printed_total', 'standard_legal', 'unlimited_legal', 'expanded_legal',\n",
       "       'small_image', 'large_image', 'normal_low', 'normal_mid', 'normal_high',\n",
       "       'normal_market', 'normal_directLow', 'holo_low', 'holo_mid',\n",
       "       'holo_high', 'holo_market', 'holo_directLow', 'rhf_low', 'rhf_mid',\n",
       "       'rhf_high', 'rhf_market', 'rhf_directLow', 'date', 'evolvesTo',\n",
       "       'flavorText', 'evolvesFrom', 'abilities', 'resistances'],\n",
       "      dtype='object')"
      ]
     },
     "metadata": {},
     "execution_count": 11
    }
   ],
   "source": [
    "swshseries_df.columns"
   ]
  },
  {
   "cell_type": "code",
   "execution_count": 12,
   "metadata": {},
   "outputs": [],
   "source": [
    "# remove unneeded columns\n",
    "swsh_clean_df = swshseries_df.drop(columns=['supertype', 'subtypes', 'hp', 'rules', 'attacks', 'weaknesses','retreatCost', 'convertedRetreatCost','artist', 'rarity', 'nationalPokedexNumbers','evolvesTo', 'flavorText', 'evolvesFrom', 'abilities', 'resistances', 'images', 'tcgplayer', 'legalities', 'set', 'types'])"
   ]
  },
  {
   "cell_type": "code",
   "execution_count": 13,
   "metadata": {},
   "outputs": [
    {
     "output_type": "execute_result",
     "data": {
      "text/plain": [
       "             id                  name number  set_id         set_name  \\\n",
       "0      swsh35-1            Venusaur V      1  swsh35  Champion's Path   \n",
       "1      swsh35-2                Weedle      2  swsh35  Champion's Path   \n",
       "2       swsh1-1              Celebi V      1   swsh1   Sword & Shield   \n",
       "3       swsh4-1                Weedle      1   swsh4    Vivid Voltage   \n",
       "4      swsh35-3                Kakuna      3  swsh35  Champion's Path   \n",
       "...         ...                   ...    ...     ...              ...   \n",
       "1385  swsh5-179              Houndoom    179   swsh5    Battle Styles   \n",
       "1386  swsh5-180            Exp. Share    180   swsh5    Battle Styles   \n",
       "1387  swsh5-181            Level Ball    181   swsh5    Battle Styles   \n",
       "1388  swsh5-182   Rapid Strike Energy    182   swsh5    Battle Styles   \n",
       "1389  swsh5-183  Single Strike Energy    183   swsh5    Battle Styles   \n",
       "\n",
       "      cards_in_set  printed_total standard_legal unlimited_legal  \\\n",
       "0               73             80          Legal           Legal   \n",
       "1               73             80          Legal           Legal   \n",
       "2              202            216          Legal           Legal   \n",
       "3              185            203          Legal           Legal   \n",
       "4               73             80          Legal           Legal   \n",
       "...            ...            ...            ...             ...   \n",
       "1385           163            183          Legal           Legal   \n",
       "1386           163            183          Legal           Legal   \n",
       "1387           163            183          Legal           Legal   \n",
       "1388           163            183          Legal           Legal   \n",
       "1389           163            183          Legal           Legal   \n",
       "\n",
       "     expanded_legal  ... holo_mid holo_high  holo_market  holo_directLow  \\\n",
       "0             Legal  ...     2.46     19.95         2.10            3.16   \n",
       "1             Legal  ...      NaN       NaN          NaN             NaN   \n",
       "2             Legal  ...     2.25      9.95         1.72            2.37   \n",
       "3             Legal  ...      NaN       NaN          NaN             NaN   \n",
       "4             Legal  ...      NaN       NaN          NaN             NaN   \n",
       "...             ...  ...      ...       ...          ...             ...   \n",
       "1385          Legal  ...    60.99     75.00        50.63           64.95   \n",
       "1386          Legal  ...    11.00     29.99        10.09           14.00   \n",
       "1387          Legal  ...    25.90     37.95        21.32           27.90   \n",
       "1388          Legal  ...    24.78     39.95        21.67             NaN   \n",
       "1389          Legal  ...    20.87     49.99        16.05           15.97   \n",
       "\n",
       "      rhf_low  rhf_mid  rhf_high  rhf_market  rhf_directLow  \\\n",
       "0         NaN      NaN       NaN         NaN            NaN   \n",
       "1        0.05     0.29      1.37        0.24           0.14   \n",
       "2         NaN      NaN       NaN         NaN            NaN   \n",
       "3        0.03     0.25     10.97        0.24           0.25   \n",
       "4        0.07     0.30      6.00        0.30           0.20   \n",
       "...       ...      ...       ...         ...            ...   \n",
       "1385      NaN      NaN       NaN         NaN            NaN   \n",
       "1386      NaN      NaN       NaN         NaN            NaN   \n",
       "1387      NaN      NaN       NaN         NaN            NaN   \n",
       "1388      NaN      NaN       NaN         NaN            NaN   \n",
       "1389      NaN      NaN       NaN         NaN            NaN   \n",
       "\n",
       "                           date  \n",
       "0    2021-05-24 13:47:24.803827  \n",
       "1    2021-05-24 13:47:24.803827  \n",
       "2    2021-05-24 13:47:24.803827  \n",
       "3    2021-05-24 13:47:24.803827  \n",
       "4    2021-05-24 13:47:24.803827  \n",
       "...                         ...  \n",
       "1385 2021-05-24 13:47:24.820419  \n",
       "1386 2021-05-24 13:47:24.820419  \n",
       "1387 2021-05-24 13:47:24.820419  \n",
       "1388 2021-05-24 13:47:24.820419  \n",
       "1389 2021-05-24 13:47:24.820419  \n",
       "\n",
       "[1390 rows x 28 columns]"
      ],
      "text/html": "<div>\n<style scoped>\n    .dataframe tbody tr th:only-of-type {\n        vertical-align: middle;\n    }\n\n    .dataframe tbody tr th {\n        vertical-align: top;\n    }\n\n    .dataframe thead th {\n        text-align: right;\n    }\n</style>\n<table border=\"1\" class=\"dataframe\">\n  <thead>\n    <tr style=\"text-align: right;\">\n      <th></th>\n      <th>id</th>\n      <th>name</th>\n      <th>number</th>\n      <th>set_id</th>\n      <th>set_name</th>\n      <th>cards_in_set</th>\n      <th>printed_total</th>\n      <th>standard_legal</th>\n      <th>unlimited_legal</th>\n      <th>expanded_legal</th>\n      <th>...</th>\n      <th>holo_mid</th>\n      <th>holo_high</th>\n      <th>holo_market</th>\n      <th>holo_directLow</th>\n      <th>rhf_low</th>\n      <th>rhf_mid</th>\n      <th>rhf_high</th>\n      <th>rhf_market</th>\n      <th>rhf_directLow</th>\n      <th>date</th>\n    </tr>\n  </thead>\n  <tbody>\n    <tr>\n      <th>0</th>\n      <td>swsh35-1</td>\n      <td>Venusaur V</td>\n      <td>1</td>\n      <td>swsh35</td>\n      <td>Champion's Path</td>\n      <td>73</td>\n      <td>80</td>\n      <td>Legal</td>\n      <td>Legal</td>\n      <td>Legal</td>\n      <td>...</td>\n      <td>2.46</td>\n      <td>19.95</td>\n      <td>2.10</td>\n      <td>3.16</td>\n      <td>NaN</td>\n      <td>NaN</td>\n      <td>NaN</td>\n      <td>NaN</td>\n      <td>NaN</td>\n      <td>2021-05-24 13:47:24.803827</td>\n    </tr>\n    <tr>\n      <th>1</th>\n      <td>swsh35-2</td>\n      <td>Weedle</td>\n      <td>2</td>\n      <td>swsh35</td>\n      <td>Champion's Path</td>\n      <td>73</td>\n      <td>80</td>\n      <td>Legal</td>\n      <td>Legal</td>\n      <td>Legal</td>\n      <td>...</td>\n      <td>NaN</td>\n      <td>NaN</td>\n      <td>NaN</td>\n      <td>NaN</td>\n      <td>0.05</td>\n      <td>0.29</td>\n      <td>1.37</td>\n      <td>0.24</td>\n      <td>0.14</td>\n      <td>2021-05-24 13:47:24.803827</td>\n    </tr>\n    <tr>\n      <th>2</th>\n      <td>swsh1-1</td>\n      <td>Celebi V</td>\n      <td>1</td>\n      <td>swsh1</td>\n      <td>Sword &amp; Shield</td>\n      <td>202</td>\n      <td>216</td>\n      <td>Legal</td>\n      <td>Legal</td>\n      <td>Legal</td>\n      <td>...</td>\n      <td>2.25</td>\n      <td>9.95</td>\n      <td>1.72</td>\n      <td>2.37</td>\n      <td>NaN</td>\n      <td>NaN</td>\n      <td>NaN</td>\n      <td>NaN</td>\n      <td>NaN</td>\n      <td>2021-05-24 13:47:24.803827</td>\n    </tr>\n    <tr>\n      <th>3</th>\n      <td>swsh4-1</td>\n      <td>Weedle</td>\n      <td>1</td>\n      <td>swsh4</td>\n      <td>Vivid Voltage</td>\n      <td>185</td>\n      <td>203</td>\n      <td>Legal</td>\n      <td>Legal</td>\n      <td>Legal</td>\n      <td>...</td>\n      <td>NaN</td>\n      <td>NaN</td>\n      <td>NaN</td>\n      <td>NaN</td>\n      <td>0.03</td>\n      <td>0.25</td>\n      <td>10.97</td>\n      <td>0.24</td>\n      <td>0.25</td>\n      <td>2021-05-24 13:47:24.803827</td>\n    </tr>\n    <tr>\n      <th>4</th>\n      <td>swsh35-3</td>\n      <td>Kakuna</td>\n      <td>3</td>\n      <td>swsh35</td>\n      <td>Champion's Path</td>\n      <td>73</td>\n      <td>80</td>\n      <td>Legal</td>\n      <td>Legal</td>\n      <td>Legal</td>\n      <td>...</td>\n      <td>NaN</td>\n      <td>NaN</td>\n      <td>NaN</td>\n      <td>NaN</td>\n      <td>0.07</td>\n      <td>0.30</td>\n      <td>6.00</td>\n      <td>0.30</td>\n      <td>0.20</td>\n      <td>2021-05-24 13:47:24.803827</td>\n    </tr>\n    <tr>\n      <th>...</th>\n      <td>...</td>\n      <td>...</td>\n      <td>...</td>\n      <td>...</td>\n      <td>...</td>\n      <td>...</td>\n      <td>...</td>\n      <td>...</td>\n      <td>...</td>\n      <td>...</td>\n      <td>...</td>\n      <td>...</td>\n      <td>...</td>\n      <td>...</td>\n      <td>...</td>\n      <td>...</td>\n      <td>...</td>\n      <td>...</td>\n      <td>...</td>\n      <td>...</td>\n      <td>...</td>\n    </tr>\n    <tr>\n      <th>1385</th>\n      <td>swsh5-179</td>\n      <td>Houndoom</td>\n      <td>179</td>\n      <td>swsh5</td>\n      <td>Battle Styles</td>\n      <td>163</td>\n      <td>183</td>\n      <td>Legal</td>\n      <td>Legal</td>\n      <td>Legal</td>\n      <td>...</td>\n      <td>60.99</td>\n      <td>75.00</td>\n      <td>50.63</td>\n      <td>64.95</td>\n      <td>NaN</td>\n      <td>NaN</td>\n      <td>NaN</td>\n      <td>NaN</td>\n      <td>NaN</td>\n      <td>2021-05-24 13:47:24.820419</td>\n    </tr>\n    <tr>\n      <th>1386</th>\n      <td>swsh5-180</td>\n      <td>Exp. Share</td>\n      <td>180</td>\n      <td>swsh5</td>\n      <td>Battle Styles</td>\n      <td>163</td>\n      <td>183</td>\n      <td>Legal</td>\n      <td>Legal</td>\n      <td>Legal</td>\n      <td>...</td>\n      <td>11.00</td>\n      <td>29.99</td>\n      <td>10.09</td>\n      <td>14.00</td>\n      <td>NaN</td>\n      <td>NaN</td>\n      <td>NaN</td>\n      <td>NaN</td>\n      <td>NaN</td>\n      <td>2021-05-24 13:47:24.820419</td>\n    </tr>\n    <tr>\n      <th>1387</th>\n      <td>swsh5-181</td>\n      <td>Level Ball</td>\n      <td>181</td>\n      <td>swsh5</td>\n      <td>Battle Styles</td>\n      <td>163</td>\n      <td>183</td>\n      <td>Legal</td>\n      <td>Legal</td>\n      <td>Legal</td>\n      <td>...</td>\n      <td>25.90</td>\n      <td>37.95</td>\n      <td>21.32</td>\n      <td>27.90</td>\n      <td>NaN</td>\n      <td>NaN</td>\n      <td>NaN</td>\n      <td>NaN</td>\n      <td>NaN</td>\n      <td>2021-05-24 13:47:24.820419</td>\n    </tr>\n    <tr>\n      <th>1388</th>\n      <td>swsh5-182</td>\n      <td>Rapid Strike Energy</td>\n      <td>182</td>\n      <td>swsh5</td>\n      <td>Battle Styles</td>\n      <td>163</td>\n      <td>183</td>\n      <td>Legal</td>\n      <td>Legal</td>\n      <td>Legal</td>\n      <td>...</td>\n      <td>24.78</td>\n      <td>39.95</td>\n      <td>21.67</td>\n      <td>NaN</td>\n      <td>NaN</td>\n      <td>NaN</td>\n      <td>NaN</td>\n      <td>NaN</td>\n      <td>NaN</td>\n      <td>2021-05-24 13:47:24.820419</td>\n    </tr>\n    <tr>\n      <th>1389</th>\n      <td>swsh5-183</td>\n      <td>Single Strike Energy</td>\n      <td>183</td>\n      <td>swsh5</td>\n      <td>Battle Styles</td>\n      <td>163</td>\n      <td>183</td>\n      <td>Legal</td>\n      <td>Legal</td>\n      <td>Legal</td>\n      <td>...</td>\n      <td>20.87</td>\n      <td>49.99</td>\n      <td>16.05</td>\n      <td>15.97</td>\n      <td>NaN</td>\n      <td>NaN</td>\n      <td>NaN</td>\n      <td>NaN</td>\n      <td>NaN</td>\n      <td>2021-05-24 13:47:24.820419</td>\n    </tr>\n  </tbody>\n</table>\n<p>1390 rows × 28 columns</p>\n</div>"
     },
     "metadata": {},
     "execution_count": 13
    }
   ],
   "source": [
    "swsh_clean_df"
   ]
  },
  {
   "cell_type": "code",
   "execution_count": 14,
   "metadata": {},
   "outputs": [
    {
     "output_type": "execute_result",
     "data": {
      "text/plain": [
       "Index(['id', 'name', 'number', 'set_id', 'set_name', 'cards_in_set',\n",
       "       'printed_total', 'standard_legal', 'unlimited_legal', 'expanded_legal',\n",
       "       'small_image', 'large_image', 'normal_low', 'normal_mid', 'normal_high',\n",
       "       'normal_market', 'normal_directLow', 'holo_low', 'holo_mid',\n",
       "       'holo_high', 'holo_market', 'holo_directLow', 'rhf_low', 'rhf_mid',\n",
       "       'rhf_high', 'rhf_market', 'rhf_directLow', 'date'],\n",
       "      dtype='object')"
      ]
     },
     "metadata": {},
     "execution_count": 14
    }
   ],
   "source": [
    "swsh_clean_df.columns"
   ]
  },
  {
   "source": [
    "# Testing embedded dictionary calling"
   ],
   "cell_type": "markdown",
   "metadata": {}
  },
  {
   "cell_type": "code",
   "execution_count": 34,
   "metadata": {},
   "outputs": [],
   "source": [
    "for i in range(len(test_x['data'])):\n",
    "    try:\n",
    "        test_x['data'][i]['prices']=test_x['data'][i]['tcgplayer']['prices']\n",
    "    except KeyError:\n",
    "        test_x['data'][i]['prices'] = None\n",
    "    \n",
    "#set info\n",
    "    #set_id\n",
    "    try:    \n",
    "        test_x['data'][i]['set_id']=test_x['data'][i]['set']['id']\n",
    "    except KeyError:\n",
    "        test_x['data'][i]['set_id']= None\n",
    "\n",
    "    #set_name\n",
    "    try:    \n",
    "        test_x['data'][i]['set_name']=test_x['data'][i]['set']['name']\n",
    "    except KeyError:\n",
    "        test_x['data'][i]['set_name']= None\n",
    "\n",
    "    #cards_in_set\n",
    "    try:\n",
    "        test_x['data'][i]['cards_in_set']=test_x['data'][i]['set']['printedTotal']\n",
    "    except KeyError:\n",
    "        test_x['data'][i]['cards_in_set']= None \n",
    "\n",
    "    #printed_number\n",
    "    try:\n",
    "        test_x['data'][i]['printed_total']=test_x['data'][i]['set']['total']\n",
    "    except KeyError:\n",
    "        test_x['data'][i]['printed_total']= None\n",
    "\n",
    "    #add timestamp\n",
    "    test_x['data'][i]['date']= datetime.datetime.now()"
   ]
  },
  {
   "cell_type": "code",
   "execution_count": 35,
   "metadata": {},
   "outputs": [],
   "source": [
    "test_swshseries_df= pd.DataFrame(test_x['data'])\n",
    "test_swsh_clean_df = test_swshseries_df.drop(columns=['supertype', 'subtypes', 'hp', 'rules', 'attacks', 'weaknesses','retreatCost', 'convertedRetreatCost','artist', 'rarity', 'nationalPokedexNumbers','evolvesTo', 'flavorText', 'evolvesFrom', 'abilities', 'resistances','types', 'tcgplayer', 'set'])"
   ]
  },
  {
   "cell_type": "code",
   "execution_count": 36,
   "metadata": {},
   "outputs": [
    {
     "output_type": "execute_result",
     "data": {
      "text/plain": [
       "         id        name number  \\\n",
       "0  swsh35-1  Venusaur V      1   \n",
       "1  swsh35-2      Weedle      2   \n",
       "2   swsh1-1    Celebi V      1   \n",
       "3   swsh4-1      Weedle      1   \n",
       "\n",
       "                                          legalities  \\\n",
       "0  {'unlimited': 'Legal', 'standard': 'Legal', 'e...   \n",
       "1  {'unlimited': 'Legal', 'standard': 'Legal', 'e...   \n",
       "2  {'unlimited': 'Legal', 'standard': 'Legal', 'e...   \n",
       "3  {'unlimited': 'Legal', 'standard': 'Legal', 'e...   \n",
       "\n",
       "                                              images  \\\n",
       "0  {'small': 'https://images.pokemontcg.io/swsh35...   \n",
       "1  {'small': 'https://images.pokemontcg.io/swsh35...   \n",
       "2  {'small': 'https://images.pokemontcg.io/swsh1/...   \n",
       "3  {'small': 'https://images.pokemontcg.io/swsh4/...   \n",
       "\n",
       "                                              prices  \\\n",
       "0  {'holofoil': {'low': 1.0, 'mid': 2.46, 'high':...   \n",
       "1  {'normal': {'low': 0.01, 'mid': 0.12, 'high': ...   \n",
       "2  {'holofoil': {'low': 0.83, 'mid': 2.25, 'high'...   \n",
       "3  {'normal': {'low': 0.02, 'mid': 0.15, 'high': ...   \n",
       "\n",
       "                        date  set_id         set_name  cards_in_set  \\\n",
       "0 2021-05-24 13:53:12.742179  swsh35  Champion's Path            73   \n",
       "1 2021-05-24 13:53:12.742179  swsh35  Champion's Path            73   \n",
       "2 2021-05-24 13:53:12.742179   swsh1   Sword & Shield           202   \n",
       "3 2021-05-24 13:53:12.742179   swsh4    Vivid Voltage           185   \n",
       "\n",
       "   printed_total  \n",
       "0             80  \n",
       "1             80  \n",
       "2            216  \n",
       "3            203  "
      ],
      "text/html": "<div>\n<style scoped>\n    .dataframe tbody tr th:only-of-type {\n        vertical-align: middle;\n    }\n\n    .dataframe tbody tr th {\n        vertical-align: top;\n    }\n\n    .dataframe thead th {\n        text-align: right;\n    }\n</style>\n<table border=\"1\" class=\"dataframe\">\n  <thead>\n    <tr style=\"text-align: right;\">\n      <th></th>\n      <th>id</th>\n      <th>name</th>\n      <th>number</th>\n      <th>legalities</th>\n      <th>images</th>\n      <th>prices</th>\n      <th>date</th>\n      <th>set_id</th>\n      <th>set_name</th>\n      <th>cards_in_set</th>\n      <th>printed_total</th>\n    </tr>\n  </thead>\n  <tbody>\n    <tr>\n      <th>0</th>\n      <td>swsh35-1</td>\n      <td>Venusaur V</td>\n      <td>1</td>\n      <td>{'unlimited': 'Legal', 'standard': 'Legal', 'e...</td>\n      <td>{'small': 'https://images.pokemontcg.io/swsh35...</td>\n      <td>{'holofoil': {'low': 1.0, 'mid': 2.46, 'high':...</td>\n      <td>2021-05-24 13:53:12.742179</td>\n      <td>swsh35</td>\n      <td>Champion's Path</td>\n      <td>73</td>\n      <td>80</td>\n    </tr>\n    <tr>\n      <th>1</th>\n      <td>swsh35-2</td>\n      <td>Weedle</td>\n      <td>2</td>\n      <td>{'unlimited': 'Legal', 'standard': 'Legal', 'e...</td>\n      <td>{'small': 'https://images.pokemontcg.io/swsh35...</td>\n      <td>{'normal': {'low': 0.01, 'mid': 0.12, 'high': ...</td>\n      <td>2021-05-24 13:53:12.742179</td>\n      <td>swsh35</td>\n      <td>Champion's Path</td>\n      <td>73</td>\n      <td>80</td>\n    </tr>\n    <tr>\n      <th>2</th>\n      <td>swsh1-1</td>\n      <td>Celebi V</td>\n      <td>1</td>\n      <td>{'unlimited': 'Legal', 'standard': 'Legal', 'e...</td>\n      <td>{'small': 'https://images.pokemontcg.io/swsh1/...</td>\n      <td>{'holofoil': {'low': 0.83, 'mid': 2.25, 'high'...</td>\n      <td>2021-05-24 13:53:12.742179</td>\n      <td>swsh1</td>\n      <td>Sword &amp; Shield</td>\n      <td>202</td>\n      <td>216</td>\n    </tr>\n    <tr>\n      <th>3</th>\n      <td>swsh4-1</td>\n      <td>Weedle</td>\n      <td>1</td>\n      <td>{'unlimited': 'Legal', 'standard': 'Legal', 'e...</td>\n      <td>{'small': 'https://images.pokemontcg.io/swsh4/...</td>\n      <td>{'normal': {'low': 0.02, 'mid': 0.15, 'high': ...</td>\n      <td>2021-05-24 13:53:12.742179</td>\n      <td>swsh4</td>\n      <td>Vivid Voltage</td>\n      <td>185</td>\n      <td>203</td>\n    </tr>\n  </tbody>\n</table>\n</div>"
     },
     "metadata": {},
     "execution_count": 36
    }
   ],
   "source": [
    "test_swsh_clean_df.head(4)"
   ]
  },
  {
   "cell_type": "code",
   "execution_count": 30,
   "metadata": {},
   "outputs": [
    {
     "output_type": "execute_result",
     "data": {
      "text/plain": [
       "{'id': 'swsh35',\n",
       " 'name': \"Champion's Path\",\n",
       " 'series': 'Sword & Shield',\n",
       " 'printedTotal': 73,\n",
       " 'total': 80,\n",
       " 'legalities': {'unlimited': 'Legal',\n",
       "  'standard': 'Legal',\n",
       "  'expanded': 'Legal'},\n",
       " 'ptcgoCode': 'CPA',\n",
       " 'releaseDate': '2020/09/25',\n",
       " 'updatedAt': '2020/10/25 13:45:00',\n",
       " 'images': {'symbol': 'https://images.pokemontcg.io/swsh35/symbol.png',\n",
       "  'logo': 'https://images.pokemontcg.io/swsh35/logo.png'}}"
      ]
     },
     "metadata": {},
     "execution_count": 30
    }
   ],
   "source": [
    "test_swsh_clean_df['set'][0]"
   ]
  },
  {
   "cell_type": "code",
   "execution_count": 31,
   "metadata": {},
   "outputs": [
    {
     "output_type": "execute_result",
     "data": {
      "text/plain": [
       "{'unlimited': 'Legal', 'standard': 'Legal', 'expanded': 'Legal'}"
      ]
     },
     "metadata": {},
     "execution_count": 31
    }
   ],
   "source": [
    "test_swsh_clean_df['legalities'][0]"
   ]
  },
  {
   "cell_type": "code",
   "execution_count": 32,
   "metadata": {},
   "outputs": [
    {
     "output_type": "execute_result",
     "data": {
      "text/plain": [
       "{'small': 'https://images.pokemontcg.io/swsh35/1.png',\n",
       " 'large': 'https://images.pokemontcg.io/swsh35/1_hires.png'}"
      ]
     },
     "metadata": {},
     "execution_count": 32
    }
   ],
   "source": [
    "test_swsh_clean_df['images'][0]"
   ]
  },
  {
   "cell_type": "code",
   "execution_count": 33,
   "metadata": {},
   "outputs": [
    {
     "output_type": "execute_result",
     "data": {
      "text/plain": [
       "{'holofoil': {'low': 1.0,\n",
       "  'mid': 2.46,\n",
       "  'high': 19.95,\n",
       "  'market': 2.1,\n",
       "  'directLow': 3.16}}"
      ]
     },
     "metadata": {},
     "execution_count": 33
    }
   ],
   "source": [
    "test_swsh_clean_df['prices'][0]"
   ]
  },
  {
   "cell_type": "code",
   "execution_count": null,
   "metadata": {},
   "outputs": [],
   "source": []
  }
 ],
 "metadata": {
  "kernelspec": {
   "name": "python379jvsc74a57bd03a4dc42eba70cb6e22ac72c088bb3a50b10bbb215de187733a453ddcda224160",
   "display_name": "Python 3.7.9 64-bit ('PythonData': conda)"
  },
  "language_info": {
   "codemirror_mode": {
    "name": "ipython",
    "version": 3
   },
   "file_extension": ".py",
   "mimetype": "text/x-python",
   "name": "python",
   "nbconvert_exporter": "python",
   "pygments_lexer": "ipython3",
   "version": "3.7.9"
  }
 },
 "nbformat": 4,
 "nbformat_minor": 5
}