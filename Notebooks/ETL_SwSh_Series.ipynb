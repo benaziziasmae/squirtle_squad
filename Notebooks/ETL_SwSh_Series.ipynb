{
 "cells": [
  {
   "source": [
    "## 1. Import Dependencies"
   ],
   "cell_type": "markdown",
   "metadata": {}
  },
  {
   "cell_type": "code",
   "execution_count": 1,
   "id": "40a6d650",
   "metadata": {},
   "outputs": [
    {
     "output_type": "stream",
     "name": "stdout",
     "text": [
      "Requirement already satisfied: psycopg2-binary in c:\\users\\ianfa\\appdata\\local\\programs\\python\\python39\\lib\\site-packages (2.8.6)\n",
      "WARNING: You are using pip version 21.1.1; however, version 21.1.3 is available.\n",
      "You should consider upgrading via the 'c:\\users\\ianfa\\appdata\\local\\programs\\python\\python39\\python.exe -m pip install --upgrade pip' command.\n"
     ]
    }
   ],
   "source": [
    "# import dependencies\n",
    "import pandas as pd\n",
    "import requests\n",
    "from config import tcgapikey, pgpassword, aws_endpoint\n",
    "import datetime\n",
    "from sqlalchemy import create_engine, dialects\n",
    "!pip3 install psycopg2-binary\n",
    "from re import search\n"
   ]
  },
  {
   "source": [
    "## 2. Perform API Call to get raw data"
   ],
   "cell_type": "markdown",
   "metadata": {}
  },
  {
   "cell_type": "code",
   "execution_count": 2,
   "id": "a55ea570",
   "metadata": {},
   "outputs": [],
   "source": [
    "# initial API call\n",
    "url = 'https://api.pokemontcg.io/v2/cards?q=set.series:Sword%20&%20Shield&page=1'"
   ]
  },
  {
   "cell_type": "code",
   "execution_count": 3,
   "id": "086cb913",
   "metadata": {},
   "outputs": [],
   "source": [
    "# get request\n",
    "data = requests.get(url, headers={'X-Api-Key':tcgapikey}).json()"
   ]
  },
  {
   "cell_type": "code",
   "execution_count": 4,
   "metadata": {},
   "outputs": [
    {
     "output_type": "stream",
     "name": "stdout",
     "text": [
      "Appended page 2\n",
      "Appended page 3\n",
      "Appended page 4\n",
      "Appended page 5\n",
      "Appended page 6\n",
      "Appended page 7\n"
     ]
    }
   ],
   "source": [
    "# loop to get all pages of query\n",
    "query_results = True\n",
    "i = 2\n",
    "while query_results:\n",
    "    url = 'https://api.pokemontcg.io/v2/cards?q=set.series:Sword%20&%20Shield&page='+str(i)\n",
    "    card_info = requests.get(url, headers={'X-Api-Key':tcgapikey}).json()\n",
    "    data['data'] = data['data']+card_info['data']\n",
    "    data['count'] = data['count']+card_info['count']\n",
    "    print(f'Appended page {i}')\n",
    "    i += 1\n",
    "    if card_info['count']==card_info['pageSize']: \n",
    "        continue\n",
    "    else:\n",
    "        query_results= False\n",
    "del data['page']\n",
    "del data['pageSize']\n"
   ]
  },
  {
   "source": [
    "## 3. Examine data"
   ],
   "cell_type": "markdown",
   "metadata": {}
  },
  {
   "cell_type": "code",
   "execution_count": 5,
   "metadata": {},
   "outputs": [
    {
     "output_type": "execute_result",
     "data": {
      "text/plain": [
       "Index(['id', 'name', 'supertype', 'subtypes', 'hp', 'types', 'rules',\n",
       "       'attacks', 'weaknesses', 'retreatCost', 'convertedRetreatCost', 'set',\n",
       "       'number', 'artist', 'rarity', 'nationalPokedexNumbers', 'legalities',\n",
       "       'images', 'tcgplayer', 'evolvesTo', 'flavorText', 'evolvesFrom',\n",
       "       'abilities', 'resistances'],\n",
       "      dtype='object')"
      ]
     },
     "metadata": {},
     "execution_count": 5
    }
   ],
   "source": [
    "# investigate columns\n",
    "pd.DataFrame(data['data']).columns"
   ]
  },
  {
   "cell_type": "code",
   "execution_count": 6,
   "metadata": {},
   "outputs": [
    {
     "output_type": "execute_result",
     "data": {
      "text/plain": [
       "         id        name supertype    subtypes   hp    types  \\\n",
       "0  swsh35-1  Venusaur V   Pokémon  [Basic, V]  220  [Grass]   \n",
       "1  swsh35-2      Weedle   Pokémon     [Basic]   60  [Grass]   \n",
       "2   swsh1-1    Celebi V   Pokémon  [Basic, V]  180  [Grass]   \n",
       "3   swsh4-1      Weedle   Pokémon     [Basic]   40  [Grass]   \n",
       "4  swsh35-3      Kakuna   Pokémon   [Stage 1]   80  [Grass]   \n",
       "\n",
       "                                               rules  \\\n",
       "0  [V rule: When your Pokémon V is Knocked Out, y...   \n",
       "1                                                NaN   \n",
       "2  [V rule: When your Pokémon V is Knocked Out, y...   \n",
       "3                                                NaN   \n",
       "4                                                NaN   \n",
       "\n",
       "                                             attacks  \\\n",
       "0  [{'name': 'Pollen Bomb', 'cost': ['Grass', 'Gr...   \n",
       "1  [{'name': 'Call for Family', 'cost': ['Colorle...   \n",
       "2  [{'name': 'Find a Friend', 'cost': ['Grass'], ...   \n",
       "3  [{'name': 'Bug Hunch', 'cost': ['Grass'], 'con...   \n",
       "4  [{'name': 'Bug Bite', 'cost': ['Grass'], 'conv...   \n",
       "\n",
       "                          weaknesses                        retreatCost  ...  \\\n",
       "0  [{'type': 'Fire', 'value': '×2'}]  [Colorless, Colorless, Colorless]  ...   \n",
       "1  [{'type': 'Fire', 'value': '×2'}]                        [Colorless]  ...   \n",
       "2  [{'type': 'Fire', 'value': '×2'}]                        [Colorless]  ...   \n",
       "3  [{'type': 'Fire', 'value': '×2'}]                        [Colorless]  ...   \n",
       "4  [{'type': 'Fire', 'value': '×2'}]  [Colorless, Colorless, Colorless]  ...   \n",
       "\n",
       "        rarity nationalPokedexNumbers  \\\n",
       "0  Rare Holo V                    [3]   \n",
       "1       Common                   [13]   \n",
       "2  Rare Holo V                  [251]   \n",
       "3       Common                   [13]   \n",
       "4       Common                   [14]   \n",
       "\n",
       "                                          legalities  \\\n",
       "0  {'unlimited': 'Legal', 'standard': 'Legal', 'e...   \n",
       "1  {'unlimited': 'Legal', 'standard': 'Legal', 'e...   \n",
       "2  {'unlimited': 'Legal', 'standard': 'Legal', 'e...   \n",
       "3  {'unlimited': 'Legal', 'standard': 'Legal', 'e...   \n",
       "4  {'unlimited': 'Legal', 'standard': 'Legal', 'e...   \n",
       "\n",
       "                                              images  \\\n",
       "0  {'small': 'https://images.pokemontcg.io/swsh35...   \n",
       "1  {'small': 'https://images.pokemontcg.io/swsh35...   \n",
       "2  {'small': 'https://images.pokemontcg.io/swsh1/...   \n",
       "3  {'small': 'https://images.pokemontcg.io/swsh4/...   \n",
       "4  {'small': 'https://images.pokemontcg.io/swsh35...   \n",
       "\n",
       "                                           tcgplayer   evolvesTo  \\\n",
       "0  {'url': 'https://prices.pokemontcg.io/tcgplaye...         NaN   \n",
       "1  {'url': 'https://prices.pokemontcg.io/tcgplaye...    [Kakuna]   \n",
       "2  {'url': 'https://prices.pokemontcg.io/tcgplaye...         NaN   \n",
       "3  {'url': 'https://prices.pokemontcg.io/tcgplaye...    [Kakuna]   \n",
       "4  {'url': 'https://prices.pokemontcg.io/tcgplaye...  [Beedrill]   \n",
       "\n",
       "                                          flavorText evolvesFrom abilities  \\\n",
       "0                                                NaN         NaN       NaN   \n",
       "1  Its poison stinger is very powerful. Its brigh...         NaN       NaN   \n",
       "2                                                NaN         NaN       NaN   \n",
       "3  Its poison stinger is very powerful. Its brigh...         NaN       NaN   \n",
       "4  While awaiting evolution, it hides from predat...      Weedle       NaN   \n",
       "\n",
       "  resistances  \n",
       "0         NaN  \n",
       "1         NaN  \n",
       "2         NaN  \n",
       "3         NaN  \n",
       "4         NaN  \n",
       "\n",
       "[5 rows x 24 columns]"
      ],
      "text/html": "<div>\n<style scoped>\n    .dataframe tbody tr th:only-of-type {\n        vertical-align: middle;\n    }\n\n    .dataframe tbody tr th {\n        vertical-align: top;\n    }\n\n    .dataframe thead th {\n        text-align: right;\n    }\n</style>\n<table border=\"1\" class=\"dataframe\">\n  <thead>\n    <tr style=\"text-align: right;\">\n      <th></th>\n      <th>id</th>\n      <th>name</th>\n      <th>supertype</th>\n      <th>subtypes</th>\n      <th>hp</th>\n      <th>types</th>\n      <th>rules</th>\n      <th>attacks</th>\n      <th>weaknesses</th>\n      <th>retreatCost</th>\n      <th>...</th>\n      <th>rarity</th>\n      <th>nationalPokedexNumbers</th>\n      <th>legalities</th>\n      <th>images</th>\n      <th>tcgplayer</th>\n      <th>evolvesTo</th>\n      <th>flavorText</th>\n      <th>evolvesFrom</th>\n      <th>abilities</th>\n      <th>resistances</th>\n    </tr>\n  </thead>\n  <tbody>\n    <tr>\n      <th>0</th>\n      <td>swsh35-1</td>\n      <td>Venusaur V</td>\n      <td>Pokémon</td>\n      <td>[Basic, V]</td>\n      <td>220</td>\n      <td>[Grass]</td>\n      <td>[V rule: When your Pokémon V is Knocked Out, y...</td>\n      <td>[{'name': 'Pollen Bomb', 'cost': ['Grass', 'Gr...</td>\n      <td>[{'type': 'Fire', 'value': '×2'}]</td>\n      <td>[Colorless, Colorless, Colorless]</td>\n      <td>...</td>\n      <td>Rare Holo V</td>\n      <td>[3]</td>\n      <td>{'unlimited': 'Legal', 'standard': 'Legal', 'e...</td>\n      <td>{'small': 'https://images.pokemontcg.io/swsh35...</td>\n      <td>{'url': 'https://prices.pokemontcg.io/tcgplaye...</td>\n      <td>NaN</td>\n      <td>NaN</td>\n      <td>NaN</td>\n      <td>NaN</td>\n      <td>NaN</td>\n    </tr>\n    <tr>\n      <th>1</th>\n      <td>swsh35-2</td>\n      <td>Weedle</td>\n      <td>Pokémon</td>\n      <td>[Basic]</td>\n      <td>60</td>\n      <td>[Grass]</td>\n      <td>NaN</td>\n      <td>[{'name': 'Call for Family', 'cost': ['Colorle...</td>\n      <td>[{'type': 'Fire', 'value': '×2'}]</td>\n      <td>[Colorless]</td>\n      <td>...</td>\n      <td>Common</td>\n      <td>[13]</td>\n      <td>{'unlimited': 'Legal', 'standard': 'Legal', 'e...</td>\n      <td>{'small': 'https://images.pokemontcg.io/swsh35...</td>\n      <td>{'url': 'https://prices.pokemontcg.io/tcgplaye...</td>\n      <td>[Kakuna]</td>\n      <td>Its poison stinger is very powerful. Its brigh...</td>\n      <td>NaN</td>\n      <td>NaN</td>\n      <td>NaN</td>\n    </tr>\n    <tr>\n      <th>2</th>\n      <td>swsh1-1</td>\n      <td>Celebi V</td>\n      <td>Pokémon</td>\n      <td>[Basic, V]</td>\n      <td>180</td>\n      <td>[Grass]</td>\n      <td>[V rule: When your Pokémon V is Knocked Out, y...</td>\n      <td>[{'name': 'Find a Friend', 'cost': ['Grass'], ...</td>\n      <td>[{'type': 'Fire', 'value': '×2'}]</td>\n      <td>[Colorless]</td>\n      <td>...</td>\n      <td>Rare Holo V</td>\n      <td>[251]</td>\n      <td>{'unlimited': 'Legal', 'standard': 'Legal', 'e...</td>\n      <td>{'small': 'https://images.pokemontcg.io/swsh1/...</td>\n      <td>{'url': 'https://prices.pokemontcg.io/tcgplaye...</td>\n      <td>NaN</td>\n      <td>NaN</td>\n      <td>NaN</td>\n      <td>NaN</td>\n      <td>NaN</td>\n    </tr>\n    <tr>\n      <th>3</th>\n      <td>swsh4-1</td>\n      <td>Weedle</td>\n      <td>Pokémon</td>\n      <td>[Basic]</td>\n      <td>40</td>\n      <td>[Grass]</td>\n      <td>NaN</td>\n      <td>[{'name': 'Bug Hunch', 'cost': ['Grass'], 'con...</td>\n      <td>[{'type': 'Fire', 'value': '×2'}]</td>\n      <td>[Colorless]</td>\n      <td>...</td>\n      <td>Common</td>\n      <td>[13]</td>\n      <td>{'unlimited': 'Legal', 'standard': 'Legal', 'e...</td>\n      <td>{'small': 'https://images.pokemontcg.io/swsh4/...</td>\n      <td>{'url': 'https://prices.pokemontcg.io/tcgplaye...</td>\n      <td>[Kakuna]</td>\n      <td>Its poison stinger is very powerful. Its brigh...</td>\n      <td>NaN</td>\n      <td>NaN</td>\n      <td>NaN</td>\n    </tr>\n    <tr>\n      <th>4</th>\n      <td>swsh35-3</td>\n      <td>Kakuna</td>\n      <td>Pokémon</td>\n      <td>[Stage 1]</td>\n      <td>80</td>\n      <td>[Grass]</td>\n      <td>NaN</td>\n      <td>[{'name': 'Bug Bite', 'cost': ['Grass'], 'conv...</td>\n      <td>[{'type': 'Fire', 'value': '×2'}]</td>\n      <td>[Colorless, Colorless, Colorless]</td>\n      <td>...</td>\n      <td>Common</td>\n      <td>[14]</td>\n      <td>{'unlimited': 'Legal', 'standard': 'Legal', 'e...</td>\n      <td>{'small': 'https://images.pokemontcg.io/swsh35...</td>\n      <td>{'url': 'https://prices.pokemontcg.io/tcgplaye...</td>\n      <td>[Beedrill]</td>\n      <td>While awaiting evolution, it hides from predat...</td>\n      <td>Weedle</td>\n      <td>NaN</td>\n      <td>NaN</td>\n    </tr>\n  </tbody>\n</table>\n<p>5 rows × 24 columns</p>\n</div>"
     },
     "metadata": {},
     "execution_count": 6
    }
   ],
   "source": [
    "# see dataframe\n",
    "pd.DataFrame(data['data']).head(5)"
   ]
  },
  {
   "cell_type": "code",
   "execution_count": 7,
   "metadata": {},
   "outputs": [
    {
     "output_type": "execute_result",
     "data": {
      "text/plain": [
       "{'id': 'swsh35',\n",
       " 'name': \"Champion's Path\",\n",
       " 'series': 'Sword & Shield',\n",
       " 'printedTotal': 73,\n",
       " 'total': 80,\n",
       " 'legalities': {'unlimited': 'Legal',\n",
       "  'standard': 'Legal',\n",
       "  'expanded': 'Legal'},\n",
       " 'ptcgoCode': 'CPA',\n",
       " 'releaseDate': '2020/09/25',\n",
       " 'updatedAt': '2020/10/25 13:45:00',\n",
       " 'images': {'symbol': 'https://images.pokemontcg.io/swsh35/symbol.png',\n",
       "  'logo': 'https://images.pokemontcg.io/swsh35/logo.png'}}"
      ]
     },
     "metadata": {},
     "execution_count": 7
    }
   ],
   "source": [
    "# examine set information breakdown\n",
    "pd.DataFrame(data['data'])['set'][0]"
   ]
  },
  {
   "cell_type": "code",
   "execution_count": 8,
   "metadata": {},
   "outputs": [
    {
     "output_type": "execute_result",
     "data": {
      "text/plain": [
       "{'url': 'https://prices.pokemontcg.io/tcgplayer/swsh35-1',\n",
       " 'updatedAt': '2021/06/28',\n",
       " 'prices': {'holofoil': {'low': 1.25,\n",
       "   'mid': 2.44,\n",
       "   'high': 19.95,\n",
       "   'market': 2.04,\n",
       "   'directLow': 3.98}}}"
      ]
     },
     "metadata": {},
     "execution_count": 8
    }
   ],
   "source": [
    "pd.DataFrame(data['data'])['tcgplayer'][0]"
   ]
  },
  {
   "source": [
    "## 4. Clean Data"
   ],
   "cell_type": "markdown",
   "metadata": {}
  },
  {
   "cell_type": "code",
   "execution_count": 9,
   "metadata": {},
   "outputs": [],
   "source": [
    "# for each entry, split data from set dictionary\n",
    "for i in range(len(data['data'])):\n",
    "    try:\n",
    "        data['data'][i]['prices']=data['data'][i]['tcgplayer']['prices']\n",
    "    except KeyError:\n",
    "        data['data'][i]['prices'] = None\n",
    "    \n",
    "    try: \n",
    "    #remove direct market; no direct market exists for newest cards so pass\n",
    "        for card_style in data['data'][i]['prices']:\n",
    "            del data['data'][i]['prices'][card_style]['directLow']\n",
    "    except TypeError:\n",
    "        pass\n",
    "\n",
    "\n",
    "\n",
    "# set info\n",
    "    #set_id\n",
    "    try:    \n",
    "        data['data'][i]['set_id']=data['data'][i]['set']['id']\n",
    "    except KeyError:\n",
    "        data['data'][i]['set_id']= None\n",
    "\n",
    "    #set_name\n",
    "    try:    \n",
    "        data['data'][i]['set_name']=data['data'][i]['set']['name']\n",
    "    except KeyError:\n",
    "        data['data'][i]['set_name']= None\n",
    "\n",
    "    #add timestamp\n",
    "    data['data'][i]['date']= datetime.datetime.now()\n",
    "\n",
    "    # collector data\n",
    "    if search ('\\D', data['data'][i]['number']):\n",
    "        data['data'][i]['number'] = data['data'][i]['number']\n",
    "    else:\n",
    "        data['data'][i]['number'] = str(data['data'][i]['number']).zfill(3) + \"/\" + str(data['data'][i]['set']['printedTotal']).zfill(3)\n",
    "\n",
    "\n"
   ]
  },
  {
   "cell_type": "code",
   "execution_count": 9,
   "metadata": {},
   "outputs": [],
   "source": [
    "    "
   ]
  },
  {
   "cell_type": "code",
   "execution_count": 10,
   "metadata": {},
   "outputs": [],
   "source": [
    "# create data frame & drop unneeded information\n",
    "data_clean_df = pd.DataFrame(data['data']).drop(columns=['supertype', 'subtypes', 'hp', 'rules', 'attacks', 'weaknesses','retreatCost', 'convertedRetreatCost','artist', 'rarity', 'nationalPokedexNumbers','evolvesTo', 'flavorText', 'evolvesFrom', 'abilities', 'resistances','types', 'tcgplayer', 'set'])"
   ]
  },
  {
   "source": [
    "## 5. Examine cleaned data"
   ],
   "cell_type": "markdown",
   "metadata": {}
  },
  {
   "cell_type": "code",
   "execution_count": 11,
   "metadata": {},
   "outputs": [
    {
     "output_type": "execute_result",
     "data": {
      "text/plain": [
       "         id        name   number  \\\n",
       "0  swsh35-1  Venusaur V  001/073   \n",
       "1  swsh35-2      Weedle  002/073   \n",
       "2   swsh1-1    Celebi V  001/202   \n",
       "3   swsh4-1      Weedle  001/185   \n",
       "4  swsh35-3      Kakuna  003/073   \n",
       "\n",
       "                                          legalities  \\\n",
       "0  {'unlimited': 'Legal', 'standard': 'Legal', 'e...   \n",
       "1  {'unlimited': 'Legal', 'standard': 'Legal', 'e...   \n",
       "2  {'unlimited': 'Legal', 'standard': 'Legal', 'e...   \n",
       "3  {'unlimited': 'Legal', 'standard': 'Legal', 'e...   \n",
       "4  {'unlimited': 'Legal', 'standard': 'Legal', 'e...   \n",
       "\n",
       "                                              images  \\\n",
       "0  {'small': 'https://images.pokemontcg.io/swsh35...   \n",
       "1  {'small': 'https://images.pokemontcg.io/swsh35...   \n",
       "2  {'small': 'https://images.pokemontcg.io/swsh1/...   \n",
       "3  {'small': 'https://images.pokemontcg.io/swsh4/...   \n",
       "4  {'small': 'https://images.pokemontcg.io/swsh35...   \n",
       "\n",
       "                                              prices  set_id         set_name  \\\n",
       "0  {'holofoil': {'low': 1.25, 'mid': 2.44, 'high'...  swsh35  Champion's Path   \n",
       "1  {'reverseHolofoil': {'low': 0.09, 'mid': 0.26,...  swsh35  Champion's Path   \n",
       "2  {'holofoil': {'low': 1.25, 'mid': 2.47, 'high'...   swsh1   Sword & Shield   \n",
       "3  {'normal': {'low': 0.02, 'mid': 0.15, 'high': ...   swsh4    Vivid Voltage   \n",
       "4  {'normal': {'low': 0.01, 'mid': 0.16, 'high': ...  swsh35  Champion's Path   \n",
       "\n",
       "                        date  \n",
       "0 2021-06-30 20:23:15.888773  \n",
       "1 2021-06-30 20:23:15.888773  \n",
       "2 2021-06-30 20:23:15.888773  \n",
       "3 2021-06-30 20:23:15.888773  \n",
       "4 2021-06-30 20:23:15.888773  "
      ],
      "text/html": "<div>\n<style scoped>\n    .dataframe tbody tr th:only-of-type {\n        vertical-align: middle;\n    }\n\n    .dataframe tbody tr th {\n        vertical-align: top;\n    }\n\n    .dataframe thead th {\n        text-align: right;\n    }\n</style>\n<table border=\"1\" class=\"dataframe\">\n  <thead>\n    <tr style=\"text-align: right;\">\n      <th></th>\n      <th>id</th>\n      <th>name</th>\n      <th>number</th>\n      <th>legalities</th>\n      <th>images</th>\n      <th>prices</th>\n      <th>set_id</th>\n      <th>set_name</th>\n      <th>date</th>\n    </tr>\n  </thead>\n  <tbody>\n    <tr>\n      <th>0</th>\n      <td>swsh35-1</td>\n      <td>Venusaur V</td>\n      <td>001/073</td>\n      <td>{'unlimited': 'Legal', 'standard': 'Legal', 'e...</td>\n      <td>{'small': 'https://images.pokemontcg.io/swsh35...</td>\n      <td>{'holofoil': {'low': 1.25, 'mid': 2.44, 'high'...</td>\n      <td>swsh35</td>\n      <td>Champion's Path</td>\n      <td>2021-06-30 20:23:15.888773</td>\n    </tr>\n    <tr>\n      <th>1</th>\n      <td>swsh35-2</td>\n      <td>Weedle</td>\n      <td>002/073</td>\n      <td>{'unlimited': 'Legal', 'standard': 'Legal', 'e...</td>\n      <td>{'small': 'https://images.pokemontcg.io/swsh35...</td>\n      <td>{'reverseHolofoil': {'low': 0.09, 'mid': 0.26,...</td>\n      <td>swsh35</td>\n      <td>Champion's Path</td>\n      <td>2021-06-30 20:23:15.888773</td>\n    </tr>\n    <tr>\n      <th>2</th>\n      <td>swsh1-1</td>\n      <td>Celebi V</td>\n      <td>001/202</td>\n      <td>{'unlimited': 'Legal', 'standard': 'Legal', 'e...</td>\n      <td>{'small': 'https://images.pokemontcg.io/swsh1/...</td>\n      <td>{'holofoil': {'low': 1.25, 'mid': 2.47, 'high'...</td>\n      <td>swsh1</td>\n      <td>Sword &amp; Shield</td>\n      <td>2021-06-30 20:23:15.888773</td>\n    </tr>\n    <tr>\n      <th>3</th>\n      <td>swsh4-1</td>\n      <td>Weedle</td>\n      <td>001/185</td>\n      <td>{'unlimited': 'Legal', 'standard': 'Legal', 'e...</td>\n      <td>{'small': 'https://images.pokemontcg.io/swsh4/...</td>\n      <td>{'normal': {'low': 0.02, 'mid': 0.15, 'high': ...</td>\n      <td>swsh4</td>\n      <td>Vivid Voltage</td>\n      <td>2021-06-30 20:23:15.888773</td>\n    </tr>\n    <tr>\n      <th>4</th>\n      <td>swsh35-3</td>\n      <td>Kakuna</td>\n      <td>003/073</td>\n      <td>{'unlimited': 'Legal', 'standard': 'Legal', 'e...</td>\n      <td>{'small': 'https://images.pokemontcg.io/swsh35...</td>\n      <td>{'normal': {'low': 0.01, 'mid': 0.16, 'high': ...</td>\n      <td>swsh35</td>\n      <td>Champion's Path</td>\n      <td>2021-06-30 20:23:15.888773</td>\n    </tr>\n  </tbody>\n</table>\n</div>"
     },
     "metadata": {},
     "execution_count": 11
    }
   ],
   "source": [
    "data_clean_df.head(5)"
   ]
  },
  {
   "cell_type": "code",
   "execution_count": 12,
   "metadata": {},
   "outputs": [
    {
     "output_type": "execute_result",
     "data": {
      "text/plain": [
       "             id               name collector_number  \\\n",
       "0      swsh35-1         Venusaur V          001/073   \n",
       "1      swsh35-2             Weedle          002/073   \n",
       "2       swsh1-1           Celebi V          001/202   \n",
       "3       swsh4-1             Weedle          001/185   \n",
       "4      swsh35-3             Kakuna          003/073   \n",
       "...         ...                ...              ...   \n",
       "1632  swsh6-229    Urn of Vitality          229/198   \n",
       "1633  swsh6-230  Welcoming Lantern          230/198   \n",
       "1634  swsh6-231       Water Energy          231/198   \n",
       "1635  swsh6-232     Psychic Energy          232/198   \n",
       "1636  swsh6-233    Fighting Energy          233/198   \n",
       "\n",
       "                                             legalities  \\\n",
       "0     {'unlimited': 'Legal', 'standard': 'Legal', 'e...   \n",
       "1     {'unlimited': 'Legal', 'standard': 'Legal', 'e...   \n",
       "2     {'unlimited': 'Legal', 'standard': 'Legal', 'e...   \n",
       "3     {'unlimited': 'Legal', 'standard': 'Legal', 'e...   \n",
       "4     {'unlimited': 'Legal', 'standard': 'Legal', 'e...   \n",
       "...                                                 ...   \n",
       "1632  {'unlimited': 'Legal', 'standard': 'Legal', 'e...   \n",
       "1633  {'unlimited': 'Legal', 'standard': 'Legal', 'e...   \n",
       "1634  {'unlimited': 'Legal', 'standard': 'Legal', 'e...   \n",
       "1635  {'unlimited': 'Legal', 'standard': 'Legal', 'e...   \n",
       "1636  {'unlimited': 'Legal', 'standard': 'Legal', 'e...   \n",
       "\n",
       "                                                 images  \\\n",
       "0     {'small': 'https://images.pokemontcg.io/swsh35...   \n",
       "1     {'small': 'https://images.pokemontcg.io/swsh35...   \n",
       "2     {'small': 'https://images.pokemontcg.io/swsh1/...   \n",
       "3     {'small': 'https://images.pokemontcg.io/swsh4/...   \n",
       "4     {'small': 'https://images.pokemontcg.io/swsh35...   \n",
       "...                                                 ...   \n",
       "1632  {'small': 'https://images.pokemontcg.io/swsh6/...   \n",
       "1633  {'small': 'https://images.pokemontcg.io/swsh6/...   \n",
       "1634  {'small': 'https://images.pokemontcg.io/swsh6/...   \n",
       "1635  {'small': 'https://images.pokemontcg.io/swsh6/...   \n",
       "1636  {'small': 'https://images.pokemontcg.io/swsh6/...   \n",
       "\n",
       "                                                 prices  set_id  \\\n",
       "0     {'holofoil': {'low': 1.25, 'mid': 2.44, 'high'...  swsh35   \n",
       "1     {'reverseHolofoil': {'low': 0.09, 'mid': 0.26,...  swsh35   \n",
       "2     {'holofoil': {'low': 1.25, 'mid': 2.47, 'high'...   swsh1   \n",
       "3     {'normal': {'low': 0.02, 'mid': 0.15, 'high': ...   swsh4   \n",
       "4     {'normal': {'low': 0.01, 'mid': 0.16, 'high': ...  swsh35   \n",
       "...                                                 ...     ...   \n",
       "1632  {'holofoil': {'low': 7.5, 'mid': 11.86, 'high'...   swsh6   \n",
       "1633  {'holofoil': {'low': 7.0, 'mid': 9.79, 'high':...   swsh6   \n",
       "1634  {'holofoil': {'low': 25.0, 'mid': 34.0, 'high'...   swsh6   \n",
       "1635  {'holofoil': {'low': 24.0, 'mid': 32.42, 'high...   swsh6   \n",
       "1636  {'holofoil': {'low': 22.0, 'mid': 25.0, 'high'...   swsh6   \n",
       "\n",
       "             set_name                       date  \n",
       "0     Champion's Path 2021-06-30 20:23:15.888773  \n",
       "1     Champion's Path 2021-06-30 20:23:15.888773  \n",
       "2      Sword & Shield 2021-06-30 20:23:15.888773  \n",
       "3       Vivid Voltage 2021-06-30 20:23:15.888773  \n",
       "4     Champion's Path 2021-06-30 20:23:15.888773  \n",
       "...               ...                        ...  \n",
       "1632   Chilling Reign 2021-06-30 20:23:15.897556  \n",
       "1633   Chilling Reign 2021-06-30 20:23:15.897556  \n",
       "1634   Chilling Reign 2021-06-30 20:23:15.897556  \n",
       "1635   Chilling Reign 2021-06-30 20:23:15.897556  \n",
       "1636   Chilling Reign 2021-06-30 20:23:15.897556  \n",
       "\n",
       "[1637 rows x 9 columns]"
      ],
      "text/html": "<div>\n<style scoped>\n    .dataframe tbody tr th:only-of-type {\n        vertical-align: middle;\n    }\n\n    .dataframe tbody tr th {\n        vertical-align: top;\n    }\n\n    .dataframe thead th {\n        text-align: right;\n    }\n</style>\n<table border=\"1\" class=\"dataframe\">\n  <thead>\n    <tr style=\"text-align: right;\">\n      <th></th>\n      <th>id</th>\n      <th>name</th>\n      <th>collector_number</th>\n      <th>legalities</th>\n      <th>images</th>\n      <th>prices</th>\n      <th>set_id</th>\n      <th>set_name</th>\n      <th>date</th>\n    </tr>\n  </thead>\n  <tbody>\n    <tr>\n      <th>0</th>\n      <td>swsh35-1</td>\n      <td>Venusaur V</td>\n      <td>001/073</td>\n      <td>{'unlimited': 'Legal', 'standard': 'Legal', 'e...</td>\n      <td>{'small': 'https://images.pokemontcg.io/swsh35...</td>\n      <td>{'holofoil': {'low': 1.25, 'mid': 2.44, 'high'...</td>\n      <td>swsh35</td>\n      <td>Champion's Path</td>\n      <td>2021-06-30 20:23:15.888773</td>\n    </tr>\n    <tr>\n      <th>1</th>\n      <td>swsh35-2</td>\n      <td>Weedle</td>\n      <td>002/073</td>\n      <td>{'unlimited': 'Legal', 'standard': 'Legal', 'e...</td>\n      <td>{'small': 'https://images.pokemontcg.io/swsh35...</td>\n      <td>{'reverseHolofoil': {'low': 0.09, 'mid': 0.26,...</td>\n      <td>swsh35</td>\n      <td>Champion's Path</td>\n      <td>2021-06-30 20:23:15.888773</td>\n    </tr>\n    <tr>\n      <th>2</th>\n      <td>swsh1-1</td>\n      <td>Celebi V</td>\n      <td>001/202</td>\n      <td>{'unlimited': 'Legal', 'standard': 'Legal', 'e...</td>\n      <td>{'small': 'https://images.pokemontcg.io/swsh1/...</td>\n      <td>{'holofoil': {'low': 1.25, 'mid': 2.47, 'high'...</td>\n      <td>swsh1</td>\n      <td>Sword &amp; Shield</td>\n      <td>2021-06-30 20:23:15.888773</td>\n    </tr>\n    <tr>\n      <th>3</th>\n      <td>swsh4-1</td>\n      <td>Weedle</td>\n      <td>001/185</td>\n      <td>{'unlimited': 'Legal', 'standard': 'Legal', 'e...</td>\n      <td>{'small': 'https://images.pokemontcg.io/swsh4/...</td>\n      <td>{'normal': {'low': 0.02, 'mid': 0.15, 'high': ...</td>\n      <td>swsh4</td>\n      <td>Vivid Voltage</td>\n      <td>2021-06-30 20:23:15.888773</td>\n    </tr>\n    <tr>\n      <th>4</th>\n      <td>swsh35-3</td>\n      <td>Kakuna</td>\n      <td>003/073</td>\n      <td>{'unlimited': 'Legal', 'standard': 'Legal', 'e...</td>\n      <td>{'small': 'https://images.pokemontcg.io/swsh35...</td>\n      <td>{'normal': {'low': 0.01, 'mid': 0.16, 'high': ...</td>\n      <td>swsh35</td>\n      <td>Champion's Path</td>\n      <td>2021-06-30 20:23:15.888773</td>\n    </tr>\n    <tr>\n      <th>...</th>\n      <td>...</td>\n      <td>...</td>\n      <td>...</td>\n      <td>...</td>\n      <td>...</td>\n      <td>...</td>\n      <td>...</td>\n      <td>...</td>\n      <td>...</td>\n    </tr>\n    <tr>\n      <th>1632</th>\n      <td>swsh6-229</td>\n      <td>Urn of Vitality</td>\n      <td>229/198</td>\n      <td>{'unlimited': 'Legal', 'standard': 'Legal', 'e...</td>\n      <td>{'small': 'https://images.pokemontcg.io/swsh6/...</td>\n      <td>{'holofoil': {'low': 7.5, 'mid': 11.86, 'high'...</td>\n      <td>swsh6</td>\n      <td>Chilling Reign</td>\n      <td>2021-06-30 20:23:15.897556</td>\n    </tr>\n    <tr>\n      <th>1633</th>\n      <td>swsh6-230</td>\n      <td>Welcoming Lantern</td>\n      <td>230/198</td>\n      <td>{'unlimited': 'Legal', 'standard': 'Legal', 'e...</td>\n      <td>{'small': 'https://images.pokemontcg.io/swsh6/...</td>\n      <td>{'holofoil': {'low': 7.0, 'mid': 9.79, 'high':...</td>\n      <td>swsh6</td>\n      <td>Chilling Reign</td>\n      <td>2021-06-30 20:23:15.897556</td>\n    </tr>\n    <tr>\n      <th>1634</th>\n      <td>swsh6-231</td>\n      <td>Water Energy</td>\n      <td>231/198</td>\n      <td>{'unlimited': 'Legal', 'standard': 'Legal', 'e...</td>\n      <td>{'small': 'https://images.pokemontcg.io/swsh6/...</td>\n      <td>{'holofoil': {'low': 25.0, 'mid': 34.0, 'high'...</td>\n      <td>swsh6</td>\n      <td>Chilling Reign</td>\n      <td>2021-06-30 20:23:15.897556</td>\n    </tr>\n    <tr>\n      <th>1635</th>\n      <td>swsh6-232</td>\n      <td>Psychic Energy</td>\n      <td>232/198</td>\n      <td>{'unlimited': 'Legal', 'standard': 'Legal', 'e...</td>\n      <td>{'small': 'https://images.pokemontcg.io/swsh6/...</td>\n      <td>{'holofoil': {'low': 24.0, 'mid': 32.42, 'high...</td>\n      <td>swsh6</td>\n      <td>Chilling Reign</td>\n      <td>2021-06-30 20:23:15.897556</td>\n    </tr>\n    <tr>\n      <th>1636</th>\n      <td>swsh6-233</td>\n      <td>Fighting Energy</td>\n      <td>233/198</td>\n      <td>{'unlimited': 'Legal', 'standard': 'Legal', 'e...</td>\n      <td>{'small': 'https://images.pokemontcg.io/swsh6/...</td>\n      <td>{'holofoil': {'low': 22.0, 'mid': 25.0, 'high'...</td>\n      <td>swsh6</td>\n      <td>Chilling Reign</td>\n      <td>2021-06-30 20:23:15.897556</td>\n    </tr>\n  </tbody>\n</table>\n<p>1637 rows × 9 columns</p>\n</div>"
     },
     "metadata": {},
     "execution_count": 12
    }
   ],
   "source": [
    "data_clean_df.rename(columns={'number':'collector_number'})"
   ]
  },
  {
   "cell_type": "code",
   "execution_count": 13,
   "metadata": {},
   "outputs": [
    {
     "output_type": "execute_result",
     "data": {
      "text/plain": [
       "{'unlimited': 'Legal', 'standard': 'Legal', 'expanded': 'Legal'}"
      ]
     },
     "metadata": {},
     "execution_count": 13
    }
   ],
   "source": [
    "data_clean_df['legalities'][0]"
   ]
  },
  {
   "cell_type": "code",
   "execution_count": 22,
   "metadata": {},
   "outputs": [
    {
     "output_type": "execute_result",
     "data": {
      "text/plain": [
       "{'small': 'https://images.pokemontcg.io/swsh6/233.png',\n",
       " 'large': 'https://images.pokemontcg.io/swsh6/233_hires.png'}"
      ]
     },
     "metadata": {},
     "execution_count": 22
    }
   ],
   "source": [
    "data_clean_df['images'][1636]"
   ]
  },
  {
   "cell_type": "code",
   "execution_count": 23,
   "metadata": {},
   "outputs": [
    {
     "output_type": "execute_result",
     "data": {
      "text/plain": [
       "{'holofoil': {'low': 22.0, 'mid': 25.0, 'high': 50.0, 'market': 25.74}}"
      ]
     },
     "metadata": {},
     "execution_count": 23
    }
   ],
   "source": [
    "data_clean_df['prices'][1636]"
   ]
  },
  {
   "cell_type": "code",
   "execution_count": 16,
   "metadata": {},
   "outputs": [
    {
     "output_type": "execute_result",
     "data": {
      "text/plain": [
       "id                                                     swsh35-2\n",
       "name                                                     Weedle\n",
       "number                                                  002/073\n",
       "legalities    {'unlimited': 'Legal', 'standard': 'Legal', 'e...\n",
       "images        {'small': 'https://images.pokemontcg.io/swsh35...\n",
       "prices        {'reverseHolofoil': {'low': 0.09, 'mid': 0.26,...\n",
       "set_id                                                   swsh35\n",
       "set_name                                        Champion's Path\n",
       "date                                 2021-06-30 20:23:15.888773\n",
       "Name: 1, dtype: object"
      ]
     },
     "metadata": {},
     "execution_count": 16
    }
   ],
   "source": [
    "# Sample individual data set\n",
    "data_clean_df.loc[1,:]"
   ]
  },
  {
   "source": [
    "## 6. Load into database"
   ],
   "cell_type": "markdown",
   "metadata": {}
  },
  {
   "cell_type": "code",
   "execution_count": 17,
   "metadata": {},
   "outputs": [],
   "source": [
    "# link to the database & create engine\n",
    "engine = create_engine(f'postgresql://postgres:{pgpassword}@{aws_endpoint}:5432/postgres', echo=False)"
   ]
  },
  {
   "cell_type": "code",
   "execution_count": 18,
   "metadata": {},
   "outputs": [],
   "source": [
    "# load into database with format\n",
    "data_clean_df.to_sql(\n",
    "    'SwShSeries',\n",
    "    con=engine,\n",
    "    if_exists='append',\n",
    "    index=False,\n",
    "    dtype={\n",
    "    'legalities':dialects.postgresql.JSON,\n",
    "    'images':dialects.postgresql.JSON,\n",
    "    'prices':dialects.postgresql.JSON}\n",
    "    )"
   ]
  },
  {
   "cell_type": "code",
   "execution_count": 19,
   "metadata": {},
   "outputs": [],
   "source": [
    "# export as csv for local test\n",
    "data_clean_df.to_csv(f'SwShSeries_{datetime.date.today()}.csv', index = False)"
   ]
  },
  {
   "cell_type": "code",
   "execution_count": 20,
   "metadata": {},
   "outputs": [],
   "source": [
    "# export one record for local test\n",
    "data_clean_df.loc[1,:].to_json('data.js')"
   ]
  }
 ],
 "metadata": {
  "kernelspec": {
   "name": "python3",
   "display_name": "Python 3.7.9 64-bit ('mlenv': conda)"
  },
  "language_info": {
   "codemirror_mode": {
    "name": "ipython",
    "version": 3
   },
   "file_extension": ".py",
   "mimetype": "text/x-python",
   "name": "python",
   "nbconvert_exporter": "python",
   "pygments_lexer": "ipython3",
   "version": "3.7.9"
  },
  "interpreter": {
   "hash": "6e90d35f45ae91a3a66d4e0fbf6eb755722d2c79ec0971b17487d14d4560ce1b"
  }
 },
 "nbformat": 4,
 "nbformat_minor": 5
}