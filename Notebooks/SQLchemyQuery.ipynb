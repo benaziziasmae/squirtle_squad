{
 "metadata": {
  "language_info": {
   "codemirror_mode": {
    "name": "ipython",
    "version": 3
   },
   "file_extension": ".py",
   "mimetype": "text/x-python",
   "name": "python",
   "nbconvert_exporter": "python",
   "pygments_lexer": "ipython3",
   "version": "3.7.9"
  },
  "orig_nbformat": 2,
  "kernelspec": {
   "name": "python3",
   "display_name": "Python 3.7.9 64-bit ('mlenv': conda)"
  },
  "interpreter": {
   "hash": "6e90d35f45ae91a3a66d4e0fbf6eb755722d2c79ec0971b17487d14d4560ce1b"
  }
 },
 "nbformat": 4,
 "nbformat_minor": 2,
 "cells": [
  {
   "cell_type": "code",
   "execution_count": 19,
   "metadata": {},
   "outputs": [],
   "source": [
    "# Import dependency\n",
    "import sqlalchemy\n",
    "from config import pgpassword, aws_endpoint, SQLALCHEMY_DATABASE_URI\n",
    "from sqlalchemy.ext.automap import automap_base\n",
    "from sqlalchemy.orm import Session\n",
    "from sqlalchemy import create_engine, func, MetaData, Table\n",
    "from datetime import datetime"
   ]
  },
  {
   "cell_type": "code",
   "execution_count": 20,
   "metadata": {},
   "outputs": [],
   "source": [
    "# create engine \n",
    "engine = create_engine(SQLALCHEMY_DATABASE_URI, echo=False)\n",
    "\n",
    "# reflect database\n",
    "Base = automap_base()\n",
    "Base.prepare(engine, reflect=True)"
   ]
  },
  {
   "cell_type": "code",
   "execution_count": 21,
   "metadata": {},
   "outputs": [],
   "source": [
    "#  Create a meta data object to hold the reflected table schema\n",
    "metadata = MetaData()"
   ]
  },
  {
   "cell_type": "code",
   "execution_count": 22,
   "metadata": {},
   "outputs": [],
   "source": [
    "# Create a table object and use 'autoload' and 'autoload_with' to define the columns from the table. \n",
    "table = Table('SwShSeries', metadata, autoload=True, autoload_with=engine)"
   ]
  },
  {
   "cell_type": "code",
   "execution_count": 23,
   "metadata": {},
   "outputs": [
    {
     "output_type": "execute_result",
     "data": {
      "text/plain": [
       "Table('SwShSeries', MetaData(bind=None), Column('id', TEXT(), table=<SwShSeries>), Column('name', TEXT(), table=<SwShSeries>), Column('number', TEXT(), table=<SwShSeries>), Column('legalities', JSON(astext_type=Text()), table=<SwShSeries>), Column('images', JSON(astext_type=Text()), table=<SwShSeries>), Column('prices', JSON(astext_type=Text()), table=<SwShSeries>), Column('set_id', TEXT(), table=<SwShSeries>), Column('set_name', TEXT(), table=<SwShSeries>), Column('date', TIMESTAMP(), table=<SwShSeries>), schema=None)"
      ]
     },
     "metadata": {},
     "execution_count": 23
    }
   ],
   "source": [
    "table"
   ]
  },
  {
   "cell_type": "code",
   "execution_count": 24,
   "metadata": {},
   "outputs": [
    {
     "output_type": "execute_result",
     "data": {
      "text/plain": [
       "['id',\n",
       " 'name',\n",
       " 'number',\n",
       " 'legalities',\n",
       " 'images',\n",
       " 'prices',\n",
       " 'set_id',\n",
       " 'set_name',\n",
       " 'date']"
      ]
     },
     "metadata": {},
     "execution_count": 24
    }
   ],
   "source": [
    "# Get the column names using the 'keys()' method on the column object. \n",
    "table.columns.keys()"
   ]
  },
  {
   "cell_type": "code",
   "execution_count": 25,
   "metadata": {},
   "outputs": [],
   "source": [
    "# Create a session\n",
    "session = Session(engine)\n",
    "\n",
    "# Get all the entries where the collector number is equal to passed value\n",
    "results = session.query(table).filter(table.c.number == '001/073').order_by(table.c.date.desc())"
   ]
  },
  {
   "cell_type": "code",
   "execution_count": 26,
   "metadata": {},
   "outputs": [
    {
     "output_type": "stream",
     "name": "stdout",
     "text": [
      "('swsh35-1', 'Venusaur V', '001/073', {'unlimited': 'Legal', 'standard': 'Legal', 'expanded': 'Legal'}, {'small': 'https://images.pokemontcg.io/swsh35/1.png', 'large': 'https://images.pokemontcg.io/swsh35/1_hires.png'}, {'holofoil': {'low': 1.2, 'mid': 2.36, 'high': 19.95, 'market': 2.12}}, 'swsh35', \"Champion's Path\", datetime.datetime(2021, 7, 2, 10, 44, 39, 159706))\n('swsh35-1', 'Venusaur V', '001/073', {'unlimited': 'Legal', 'standard': 'Legal', 'expanded': 'Legal'}, {'small': 'https://images.pokemontcg.io/swsh35/1.png', 'large': 'https://images.pokemontcg.io/swsh35/1_hires.png'}, {'holofoil': {'low': 1.25, 'mid': 2.44, 'high': 19.95, 'market': 2.04}}, 'swsh35', \"Champion's Path\", datetime.datetime(2021, 7, 1, 0, 31, 58, 370502))\n('swsh35-1', 'Venusaur V', '001/073', {'unlimited': 'Legal', 'standard': 'Legal', 'expanded': 'Legal'}, {'small': 'https://images.pokemontcg.io/swsh35/1.png', 'large': 'https://images.pokemontcg.io/swsh35/1_hires.png'}, {'holofoil': {'low': 1.25, 'mid': 2.44, 'high': 19.95, 'market': 2.04}}, 'swsh35', \"Champion's Path\", datetime.datetime(2021, 6, 30, 22, 42, 25, 939452))\n('swsh35-1', 'Venusaur V', '001/073', {'unlimited': 'Legal', 'standard': 'Legal', 'expanded': 'Legal'}, {'small': 'https://images.pokemontcg.io/swsh35/1.png', 'large': 'https://images.pokemontcg.io/swsh35/1_hires.png'}, {'holofoil': {'low': 1.25, 'mid': 2.44, 'high': 19.95, 'market': 2.04}}, 'swsh35', \"Champion's Path\", datetime.datetime(2021, 6, 30, 21, 51, 53, 455003))\n"
     ]
    }
   ],
   "source": [
    "for entry in results:\n",
    "    print(entry)"
   ]
  },
  {
   "cell_type": "code",
   "execution_count": 27,
   "metadata": {},
   "outputs": [],
   "source": [
    "# create graph_data from query result\n",
    "graph_data={}\n",
    "\n",
    "graph_data['date']=[]\n",
    "for style in results[0].prices:\n",
    "    graph_data[style]={}\n",
    "    for price_category in results[0].prices[style]:\n",
    "        graph_data[style][price_category]=[]\n",
    "\n",
    "    \n",
    "for entry in results:\n",
    "    graph_data['date'].append(datetime.date(entry.date))\n",
    "    for style in entry.prices:\n",
    "        for price_category in results[0].prices[style]:\n",
    "            graph_data[style][price_category].append(entry.prices[style][price_category])"
   ]
  },
  {
   "cell_type": "code",
   "execution_count": 31,
   "metadata": {},
   "outputs": [
    {
     "output_type": "execute_result",
     "data": {
      "text/plain": [
       "{'date': [datetime.date(2021, 7, 2),\n",
       "  datetime.date(2021, 7, 1),\n",
       "  datetime.date(2021, 6, 30),\n",
       "  datetime.date(2021, 6, 30)],\n",
       " 'holofoil': {'low': [1.2, 1.25, 1.25, 1.25],\n",
       "  'mid': [2.36, 2.44, 2.44, 2.44],\n",
       "  'high': [19.95, 19.95, 19.95, 19.95],\n",
       "  'market': [2.12, 2.04, 2.04, 2.04]}}"
      ]
     },
     "metadata": {},
     "execution_count": 31
    }
   ],
   "source": [
    "graph_data"
   ]
  },
  {
   "source": [
    "## SQL Method"
   ],
   "cell_type": "markdown",
   "metadata": {}
  },
  {
   "cell_type": "code",
   "execution_count": 28,
   "metadata": {},
   "outputs": [],
   "source": [
    "entries = engine.execute('SELECT * FROM public.\"SwShSeries\" WHERE number = \\'001/073\\'')\n"
   ]
  },
  {
   "cell_type": "code",
   "execution_count": 29,
   "metadata": {},
   "outputs": [
    {
     "output_type": "stream",
     "name": "stdout",
     "text": [
      "<sqlalchemy.engine.result.ResultProxy object at 0x0000020B587279C8>\n"
     ]
    }
   ],
   "source": [
    "print (entries)\n"
   ]
  },
  {
   "cell_type": "code",
   "execution_count": 30,
   "metadata": {},
   "outputs": [
    {
     "output_type": "stream",
     "name": "stdout",
     "text": [
      "('swsh35-1', 'Venusaur V', '001/073', {'unlimited': 'Legal', 'standard': 'Legal', 'expanded': 'Legal'}, {'small': 'https://images.pokemontcg.io/swsh35/1.png', 'large': 'https://images.pokemontcg.io/swsh35/1_hires.png'}, {'holofoil': {'low': 1.25, 'mid': 2.44, 'high': 19.95, 'market': 2.04}}, 'swsh35', \"Champion's Path\", datetime.datetime(2021, 6, 30, 21, 51, 53, 455003))\n('swsh35-1', 'Venusaur V', '001/073', {'unlimited': 'Legal', 'standard': 'Legal', 'expanded': 'Legal'}, {'small': 'https://images.pokemontcg.io/swsh35/1.png', 'large': 'https://images.pokemontcg.io/swsh35/1_hires.png'}, {'holofoil': {'low': 1.25, 'mid': 2.44, 'high': 19.95, 'market': 2.04}}, 'swsh35', \"Champion's Path\", datetime.datetime(2021, 6, 30, 22, 42, 25, 939452))\n('swsh35-1', 'Venusaur V', '001/073', {'unlimited': 'Legal', 'standard': 'Legal', 'expanded': 'Legal'}, {'small': 'https://images.pokemontcg.io/swsh35/1.png', 'large': 'https://images.pokemontcg.io/swsh35/1_hires.png'}, {'holofoil': {'low': 1.25, 'mid': 2.44, 'high': 19.95, 'market': 2.04}}, 'swsh35', \"Champion's Path\", datetime.datetime(2021, 7, 1, 0, 31, 58, 370502))\n('swsh35-1', 'Venusaur V', '001/073', {'unlimited': 'Legal', 'standard': 'Legal', 'expanded': 'Legal'}, {'small': 'https://images.pokemontcg.io/swsh35/1.png', 'large': 'https://images.pokemontcg.io/swsh35/1_hires.png'}, {'holofoil': {'low': 1.2, 'mid': 2.36, 'high': 19.95, 'market': 2.12}}, 'swsh35', \"Champion's Path\", datetime.datetime(2021, 7, 2, 10, 44, 39, 159706))\n"
     ]
    }
   ],
   "source": [
    "for entry in entries:\n",
    "    print(entry)"
   ]
  },
  {
   "cell_type": "code",
   "execution_count": null,
   "metadata": {},
   "outputs": [],
   "source": []
  }
 ]
}