{
 "metadata": {
  "language_info": {
   "codemirror_mode": {
    "name": "ipython",
    "version": 3
   },
   "file_extension": ".py",
   "mimetype": "text/x-python",
   "name": "python",
   "nbconvert_exporter": "python",
   "pygments_lexer": "ipython3",
   "version": 3
  },
  "orig_nbformat": 2
 },
 "nbformat": 4,
 "nbformat_minor": 2,
 "cells": [
  {
   "cell_type": "code",
   "execution_count": null,
   "metadata": {},
   "outputs": [],
   "source": [
    "# import dependencies\n",
    "try: \n",
    "    from google.cloud import vision\n",
    "except ImportError:\n",
    "    print (\"Error, google-cloud-vision not installed. Install with 'pip install google-cloud-vision'\")\n",
    "import os\n",
    "import re\n"
   ]
  },
  {
   "cell_type": "code",
   "execution_count": null,
   "metadata": {},
   "outputs": [],
   "source": [
    "# apply credentials\n",
    "os.environ[\"GOOGLE_APPLICATION_CREDENTIALS\"] = os.path.abspath('valued-bastion-303823-bf54c21ee612.json')"
   ]
  },
  {
   "cell_type": "code",
   "execution_count": null,
   "metadata": {},
   "outputs": [],
   "source": [
    "# detect text from image file fxn\r\n",
    "def detect_text_uri(uri):\r\n",
    "    \"\"\"Detects text in the file located in Google Cloud Storage or on the Web.\"\"\"\r\n",
    "    client = vision.ImageAnnotatorClient()\r\n",
    "    image = vision.Image()\r\n",
    "    image.source.image_uri = uri\r\n",
    "\r\n",
    "    response = client.text_detection(image=image)\r\n",
    "    texts = response.text_annotations\r\n",
    "    return texts[0].description"
   ]
  },
  {
   "cell_type": "code",
   "execution_count": null,
   "metadata": {},
   "outputs": [],
   "source": [
    "# initialize image as address\n",
    "## replace imageURL with S3 bucket\n",
    "imageURL = \"https://cdn.discordapp.com/attachments/573601042147704862/849067497600188426/IMG_3084.JPG\"\n",
    "\n",
    "# run fxn to get photo's text (card's text)\n",
    "card_text = detect_text_uri(imageURL)"
   ]
  },
  {
   "cell_type": "code",
   "execution_count": null,
   "metadata": {},
   "outputs": [],
   "source": [
    "# regex filtration\n",
    "regexReg = '\\d{2,3}\\/\\d{2,3}'\n",
    "regexPromo = '\\W{0,4}\\d{2,3}'\n",
    "\n",
    "# try regular card collector_number regex\n",
    "try:\n",
    "    collector_number = re.findall(regexReg, card_text)[0]\n",
    "except IndexError:\n",
    "    # try promo card collector_number regex\n",
    "    try: \n",
    "        collector_number = re.findall(regexPromo, card_text)[0]\n",
    "    except IndexError:\n",
    "            print('Cannot find collector number')\n",
    "\n",
    "print(collector_number)"
   ]
  },
  {
   "cell_type": "code",
   "execution_count": null,
   "metadata": {},
   "outputs": [],
   "source": [
    "# pass collector_number to query"
   ]
  },
  {
   "source": [
    "## Manual Creation of Query"
   ],
   "cell_type": "markdown",
   "metadata": {}
  },
  {
   "cell_type": "code",
   "execution_count": null,
   "metadata": {},
   "outputs": [],
   "source": [
    "# import dependencies\n",
    "try: \n",
    "    from google.cloud import vision\n",
    "except ImportError:\n",
    "    print (\"Error, google-cloud-vision not installed. Install with 'pip install google-cloud-vision'\")\n",
    "import os\n",
    "import re\n",
    "import requests\n",
    "import json\n",
    "from config import GoogleAPIKey\n",
    "# GoogleVisionAPIKey no longer distributed."
   ]
  },
  {
   "cell_type": "code",
   "execution_count": null,
   "metadata": {},
   "outputs": [],
   "source": [
    "# set request items\n",
    "ENDPOINT_URL = \"https://vision.googleapis.com/v1/images:annotate\"\n",
    "imageURL = \"https://cdn.discordapp.com/attachments/573601042147704862/849067497600188426/IMG_3084.JPG\"\n",
    "request_body = {\n",
    "  \"requests\": [\n",
    "    {\n",
    "      \"features\": [\n",
    "        {\n",
    "          \"type\": \"TEXT_DETECTION\"\n",
    "        }\n",
    "      ],\n",
    "      \"image\": {\n",
    "        \"source\": {\n",
    "          \"imageUri\": imageURL\n",
    "        }\n",
    "      }\n",
    "    }\n",
    "  ]\n",
    "}\n",
    "\n"
   ]
  },
  {
   "cell_type": "code",
   "execution_count": null,
   "metadata": {},
   "outputs": [],
   "source": [
    "# get the response\n",
    "response = requests.post(ENDPOINT_URL, data =request_body, params = {'key':GoogleAPIKey}, headers={'Content-Type':'application/json'})"
   ]
  },
  {
   "cell_type": "code",
   "execution_count": null,
   "metadata": {},
   "outputs": [],
   "source": [
    "# parse response\n",
    "if result.status_code != 200 or result.json().get('error'):\n",
    "    print(\"Error\")\n",
    "else: \n",
    "    result = response.json()['responses'][0]['textAnnotations'][0]['description']"
   ]
  },
  {
   "cell_type": "code",
   "execution_count": null,
   "metadata": {},
   "outputs": [],
   "source": [
    "# regex filtration\n",
    "regexReg = '\\d{2,3}\\/\\d{2,3}'\n",
    "regexPromo = '\\W{0,4}\\d{2,3}'\n",
    "\n",
    "# try regular card collector_number regex\n",
    "try:\n",
    "    collector_number = re.findall(regexReg, result)[0]\n",
    "except IndexError:\n",
    "    # try promo card collector_number regex\n",
    "    try: \n",
    "        collector_number = re.findall(regexPromo, result)[0]\n",
    "    except IndexError:\n",
    "            print('Cannot find collector number')\n",
    "\n",
    "print(collector_number)"
   ]
  }
 ]
}