{
 "cells": [
  {
   "cell_type": "code",
   "execution_count": 1,
   "metadata": {},
   "outputs": [],
   "source": [
    "import os\n",
    "import numpy as np\n",
    "import tensorflow as tf\n",
    "import sys\n",
    "import cv2\n",
    "import re\n",
    "try:\n",
    "    from PIL import Image\n",
    "except ImportError:\n",
    "    import Image\n",
    "import pytesseract"
   ]
  },
  {
   "cell_type": "code",
   "execution_count": 2,
   "metadata": {},
   "outputs": [
    {
     "output_type": "execute_result",
     "data": {
      "text/plain": [
       "<PIL.PngImagePlugin.PngImageFile image mode=RGBA size=115x28 at 0x1FEB801C408>"
      ],
      "image/png": "[encoded data removed]"
     },
     "metadata": {},
     "execution_count": 2
    }
   ],
   "source": [
    "file_dir = os.path.abspath('')+\"\\\\train\"\n",
    "file_path = os.path.join(file_dir, \"collectornumber5.png\")\n",
    "Image.open(file_path)"
   ]
  },
  {
   "cell_type": "code",
   "execution_count": 3,
   "metadata": {},
   "outputs": [
    {
     "output_type": "stream",
     "name": "stdout",
     "text": [
      "201/202\n2\n\f\n"
     ]
    }
   ],
   "source": [
    "print(pytesseract.image_to_string(Image.open(file_path)))"
   ]
  },
  {
   "cell_type": "code",
   "execution_count": 4,
   "metadata": {},
   "outputs": [
    {
     "output_type": "execute_result",
     "data": {
      "text/plain": [
       "<PIL.PngImagePlugin.PngImageFile image mode=RGBA size=103x31 at 0x1FEB80B8788>"
      ],
      "image/png": "[encoded data removed]"
     },
     "metadata": {},
     "execution_count": 4
    }
   ],
   "source": [
    "file_dir = os.path.abspath('')+\"\\\\train\"\n",
    "file_path = os.path.join(file_dir, \"collectornumber4.png\")\n",
    "img = cv2.resize(cv2.imread(file_path), None, fx=2, fy=2, interpolation = cv2.INTER_CUBIC)\n",
    "Image.open(file_path)"
   ]
  },
  {
   "cell_type": "code",
   "execution_count": 5,
   "metadata": {},
   "outputs": [
    {
     "output_type": "stream",
     "name": "stdout",
     "text": [
      "178/163) o\n\f\n"
     ]
    }
   ],
   "source": [
    "print(pytesseract.image_to_string(img,config='--psm 6'))"
   ]
  },
  {
   "cell_type": "code",
   "execution_count": 7,
   "metadata": {},
   "outputs": [],
   "source": [
    "my_numbers = []\n",
    "for i in range(1, 12): \n",
    "    file_path = os.path.join(file_dir, \"collectornumber\"+str(i)+\".png\")\n",
    "    my_numbers.append(pytesseract.image_to_string(cv2.resize(cv2.imread(file_path), None, fx=2, fy=2, interpolation = cv2.INTER_CUBIC), config='--psm 6'))"
   ]
  },
  {
   "cell_type": "code",
   "execution_count": 8,
   "metadata": {},
   "outputs": [
    {
     "output_type": "execute_result",
     "data": {
      "text/plain": [
       "['109/163\\n\\x0c',\n",
       " '110/163)\\n\\x0c',\n",
       " '| 062/202\\n\\x0c',\n",
       " '178/163) o\\n\\x0c',\n",
       " '201/202\\nst\\n\\x0c',\n",
       " '183/163\\n\\x0c',\n",
       " '171/163.\\n\\x0c',\n",
       " '077/073\\n\\x0c',\n",
       " '“168/163\\n\\x0c',\n",
       " '140/163\\n\\x0c',\n",
       " '’\\n124/163 @\\n\\x0c']"
      ]
     },
     "metadata": {},
     "execution_count": 8
    }
   ],
   "source": [
    "my_numbers"
   ]
  },
  {
   "cell_type": "code",
   "execution_count": 9,
   "metadata": {},
   "outputs": [],
   "source": [
    "collector_number_only = []\n",
    "errors = []\n",
    "\n",
    "regexReg = '\\d{2,3}\\/\\d{2,3}'\n",
    "regexPromo = '\\D{0,4}\\d{2,3}'\n",
    "\n",
    "for idx, each in enumerate(my_numbers):\n",
    "    try:\n",
    "        collector_number_only.append(re.findall(regexReg,each)[0])\n",
    "    except IndexError:\n",
    "        try:\n",
    "            collector_number_only.append(re.findall(regexPromo,each)[0])\n",
    "        except IndexError:\n",
    "            collector_number_only.append('')\n",
    "            errors.append(idx)"
   ]
  },
  {
   "cell_type": "code",
   "execution_count": 10,
   "metadata": {},
   "outputs": [
    {
     "output_type": "execute_result",
     "data": {
      "text/plain": [
       "['109/163',\n",
       " '110/163',\n",
       " '062/202',\n",
       " '178/163',\n",
       " '201/202',\n",
       " '183/163',\n",
       " '171/163',\n",
       " '077/073',\n",
       " '168/163',\n",
       " '140/163',\n",
       " '124/163']"
      ]
     },
     "metadata": {},
     "execution_count": 10
    }
   ],
   "source": [
    "collector_number_only"
   ]
  },
  {
   "cell_type": "code",
   "execution_count": 10,
   "metadata": {},
   "outputs": [
    {
     "output_type": "execute_result",
     "data": {
      "text/plain": [
       "[]"
      ]
     },
     "metadata": {},
     "execution_count": 10
    }
   ],
   "source": [
    "errors"
   ]
  },
  {
   "cell_type": "code",
   "execution_count": null,
   "metadata": {},
   "outputs": [],
   "source": []
  }
 ],
 "metadata": {
  "kernelspec": {
   "display_name": "mlenv",
   "language": "python",
   "name": "mlenv"
  },
  "language_info": {
   "codemirror_mode": {
    "name": "ipython",
    "version": 3
   },
   "file_extension": ".py",
   "mimetype": "text/x-python",
   "name": "python",
   "nbconvert_exporter": "python",
   "pygments_lexer": "ipython3",
   "version": "3.7.9"
  }
 },
 "nbformat": 4,
 "nbformat_minor": 4
}