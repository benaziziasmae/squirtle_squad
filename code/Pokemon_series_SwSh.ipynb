{
 "cells": [
  {
   "cell_type": "code",
   "execution_count": 16,
   "id": "40a6d650",
   "metadata": {},
   "outputs": [],
   "source": [
    "# import dependencies\n",
    "import pandas as pd\n",
    "import requests\n",
    "import csv\n",
    "from config import tcgapikey"
   ]
  },
  {
   "cell_type": "code",
   "execution_count": 17,
   "metadata": {},
   "outputs": [],
   "source": [
    "apiKey = tcgapikey"
   ]
  },
  {
   "cell_type": "code",
   "execution_count": 18,
   "id": "a55ea570",
   "metadata": {},
   "outputs": [],
   "source": [
    "# Call API\n",
    "url = 'https://api.pokemontcg.io/v2/cards?q=set.series:Sword%20&%20Shield?page=1'"
   ]
  },
  {
   "cell_type": "code",
   "execution_count": 19,
   "id": "086cb913",
   "metadata": {},
   "outputs": [],
   "source": [
    "card_info = requests.get(url, headers={'X-Api-Key':apiKey}).json()"
   ]
  },
  {
   "cell_type": "code",
   "execution_count": 20,
   "metadata": {},
   "outputs": [
    {
     "output_type": "execute_result",
     "data": {
      "text/plain": [
       "         id        name supertype    subtypes   hp    types  \\\n",
       "0  swsh35-1  Venusaur V   Pokémon  [Basic, V]  220  [Grass]   \n",
       "1  swsh35-2      Weedle   Pokémon     [Basic]   60  [Grass]   \n",
       "2   swsh1-1    Celebi V   Pokémon  [Basic, V]  180  [Grass]   \n",
       "\n",
       "                                               rules  \\\n",
       "0  [V rule: When your Pokémon V is Knocked Out, y...   \n",
       "1                                                NaN   \n",
       "2  [V rule: When your Pokémon V is Knocked Out, y...   \n",
       "\n",
       "                                             attacks  \\\n",
       "0  [{'name': 'Pollen Bomb', 'cost': ['Grass', 'Gr...   \n",
       "1  [{'name': 'Call for Family', 'cost': ['Colorle...   \n",
       "2  [{'name': 'Find a Friend', 'cost': ['Grass'], ...   \n",
       "\n",
       "                          weaknesses                        retreatCost  ...  \\\n",
       "0  [{'type': 'Fire', 'value': '×2'}]  [Colorless, Colorless, Colorless]  ...   \n",
       "1  [{'type': 'Fire', 'value': '×2'}]                        [Colorless]  ...   \n",
       "2  [{'type': 'Fire', 'value': '×2'}]                        [Colorless]  ...   \n",
       "\n",
       "        rarity nationalPokedexNumbers  \\\n",
       "0  Rare Holo V                    [3]   \n",
       "1       Common                   [13]   \n",
       "2  Rare Holo V                  [251]   \n",
       "\n",
       "                                          legalities  \\\n",
       "0  {'unlimited': 'Legal', 'standard': 'Legal', 'e...   \n",
       "1  {'unlimited': 'Legal', 'standard': 'Legal', 'e...   \n",
       "2  {'unlimited': 'Legal', 'standard': 'Legal', 'e...   \n",
       "\n",
       "                                              images  \\\n",
       "0  {'small': 'https://images.pokemontcg.io/swsh35...   \n",
       "1  {'small': 'https://images.pokemontcg.io/swsh35...   \n",
       "2  {'small': 'https://images.pokemontcg.io/swsh1/...   \n",
       "\n",
       "                                           tcgplayer evolvesTo  \\\n",
       "0  {'url': 'https://prices.pokemontcg.io/tcgplaye...       NaN   \n",
       "1  {'url': 'https://prices.pokemontcg.io/tcgplaye...  [Kakuna]   \n",
       "2  {'url': 'https://prices.pokemontcg.io/tcgplaye...       NaN   \n",
       "\n",
       "                                          flavorText evolvesFrom abilities  \\\n",
       "0                                                NaN         NaN       NaN   \n",
       "1  Its poison stinger is very powerful. Its brigh...         NaN       NaN   \n",
       "2                                                NaN         NaN       NaN   \n",
       "\n",
       "  resistances  \n",
       "0         NaN  \n",
       "1         NaN  \n",
       "2         NaN  \n",
       "\n",
       "[3 rows x 24 columns]"
      ],
      "text/html": "<div>\n<style scoped>\n    .dataframe tbody tr th:only-of-type {\n        vertical-align: middle;\n    }\n\n    .dataframe tbody tr th {\n        vertical-align: top;\n    }\n\n    .dataframe thead th {\n        text-align: right;\n    }\n</style>\n<table border=\"1\" class=\"dataframe\">\n  <thead>\n    <tr style=\"text-align: right;\">\n      <th></th>\n      <th>id</th>\n      <th>name</th>\n      <th>supertype</th>\n      <th>subtypes</th>\n      <th>hp</th>\n      <th>types</th>\n      <th>rules</th>\n      <th>attacks</th>\n      <th>weaknesses</th>\n      <th>retreatCost</th>\n      <th>...</th>\n      <th>rarity</th>\n      <th>nationalPokedexNumbers</th>\n      <th>legalities</th>\n      <th>images</th>\n      <th>tcgplayer</th>\n      <th>evolvesTo</th>\n      <th>flavorText</th>\n      <th>evolvesFrom</th>\n      <th>abilities</th>\n      <th>resistances</th>\n    </tr>\n  </thead>\n  <tbody>\n    <tr>\n      <th>0</th>\n      <td>swsh35-1</td>\n      <td>Venusaur V</td>\n      <td>Pokémon</td>\n      <td>[Basic, V]</td>\n      <td>220</td>\n      <td>[Grass]</td>\n      <td>[V rule: When your Pokémon V is Knocked Out, y...</td>\n      <td>[{'name': 'Pollen Bomb', 'cost': ['Grass', 'Gr...</td>\n      <td>[{'type': 'Fire', 'value': '×2'}]</td>\n      <td>[Colorless, Colorless, Colorless]</td>\n      <td>...</td>\n      <td>Rare Holo V</td>\n      <td>[3]</td>\n      <td>{'unlimited': 'Legal', 'standard': 'Legal', 'e...</td>\n      <td>{'small': 'https://images.pokemontcg.io/swsh35...</td>\n      <td>{'url': 'https://prices.pokemontcg.io/tcgplaye...</td>\n      <td>NaN</td>\n      <td>NaN</td>\n      <td>NaN</td>\n      <td>NaN</td>\n      <td>NaN</td>\n    </tr>\n    <tr>\n      <th>1</th>\n      <td>swsh35-2</td>\n      <td>Weedle</td>\n      <td>Pokémon</td>\n      <td>[Basic]</td>\n      <td>60</td>\n      <td>[Grass]</td>\n      <td>NaN</td>\n      <td>[{'name': 'Call for Family', 'cost': ['Colorle...</td>\n      <td>[{'type': 'Fire', 'value': '×2'}]</td>\n      <td>[Colorless]</td>\n      <td>...</td>\n      <td>Common</td>\n      <td>[13]</td>\n      <td>{'unlimited': 'Legal', 'standard': 'Legal', 'e...</td>\n      <td>{'small': 'https://images.pokemontcg.io/swsh35...</td>\n      <td>{'url': 'https://prices.pokemontcg.io/tcgplaye...</td>\n      <td>[Kakuna]</td>\n      <td>Its poison stinger is very powerful. Its brigh...</td>\n      <td>NaN</td>\n      <td>NaN</td>\n      <td>NaN</td>\n    </tr>\n    <tr>\n      <th>2</th>\n      <td>swsh1-1</td>\n      <td>Celebi V</td>\n      <td>Pokémon</td>\n      <td>[Basic, V]</td>\n      <td>180</td>\n      <td>[Grass]</td>\n      <td>[V rule: When your Pokémon V is Knocked Out, y...</td>\n      <td>[{'name': 'Find a Friend', 'cost': ['Grass'], ...</td>\n      <td>[{'type': 'Fire', 'value': '×2'}]</td>\n      <td>[Colorless]</td>\n      <td>...</td>\n      <td>Rare Holo V</td>\n      <td>[251]</td>\n      <td>{'unlimited': 'Legal', 'standard': 'Legal', 'e...</td>\n      <td>{'small': 'https://images.pokemontcg.io/swsh1/...</td>\n      <td>{'url': 'https://prices.pokemontcg.io/tcgplaye...</td>\n      <td>NaN</td>\n      <td>NaN</td>\n      <td>NaN</td>\n      <td>NaN</td>\n      <td>NaN</td>\n    </tr>\n  </tbody>\n</table>\n<p>3 rows × 24 columns</p>\n</div>"
     },
     "metadata": {},
     "execution_count": 20
    }
   ],
   "source": [
    "swshseries1_df = pd.DataFrame(card_info['data'])\n",
    "swshseries1_df.head(3)"
   ]
  },
  {
   "cell_type": "code",
   "execution_count": 21,
   "metadata": {},
   "outputs": [],
   "source": [
    "url = 'https://api.pokemontcg.io/v2/cards?q=set.series:Sword%20&%20Shield&page=2'"
   ]
  },
  {
   "cell_type": "code",
   "execution_count": 22,
   "metadata": {},
   "outputs": [],
   "source": [
    "card_info = requests.get(url, headers={'X-Api-Key':apiKey}).json()"
   ]
  },
  {
   "source": [
    "swshseries2_df = pd.DataFrame(card_info['data'])\n",
    "swshseries2_df.head(3)"
   ],
   "cell_type": "code",
   "metadata": {},
   "execution_count": 23,
   "outputs": [
    {
     "output_type": "execute_result",
     "data": {
      "text/plain": [
       "          id         name supertype   subtypes   hp        types evolvesFrom  \\\n",
       "0   swsh4-42  Barraskewda   Pokémon  [Stage 1]  120      [Water]    Arrokuda   \n",
       "1   swsh3-41      Panpour   Pokémon    [Basic]   60      [Water]         NaN   \n",
       "2  swsh35-48       Swablu   Pokémon    [Basic]   50  [Colorless]         NaN   \n",
       "\n",
       "                                             attacks  \\\n",
       "0  [{'name': 'Targeted Skewer', 'cost': ['Water']...   \n",
       "1  [{'name': 'Water Gun', 'cost': ['Water'], 'con...   \n",
       "2  [{'name': 'Peck', 'cost': ['Colorless'], 'conv...   \n",
       "\n",
       "                               weaknesses  retreatCost  ...  rarity  \\\n",
       "0  [{'type': 'Lightning', 'value': '×2'}]  [Colorless]  ...    Rare   \n",
       "1  [{'type': 'Lightning', 'value': '×2'}]  [Colorless]  ...  Common   \n",
       "2  [{'type': 'Lightning', 'value': '×2'}]  [Colorless]  ...  Common   \n",
       "\n",
       "                                          flavorText nationalPokedexNumbers  \\\n",
       "0  This Pokémon has a jaw that's as sharp as a sp...                  [847]   \n",
       "1  The water stored inside the tuft on its head i...                  [515]   \n",
       "2  It constantly grooms its cotton-like wings. It...                  [333]   \n",
       "\n",
       "                                          legalities  \\\n",
       "0  {'unlimited': 'Legal', 'standard': 'Legal', 'e...   \n",
       "1  {'unlimited': 'Legal', 'standard': 'Legal', 'e...   \n",
       "2  {'unlimited': 'Legal', 'standard': 'Legal', 'e...   \n",
       "\n",
       "                                              images  \\\n",
       "0  {'small': 'https://images.pokemontcg.io/swsh4/...   \n",
       "1  {'small': 'https://images.pokemontcg.io/swsh3/...   \n",
       "2  {'small': 'https://images.pokemontcg.io/swsh35...   \n",
       "\n",
       "                                           tcgplayer   evolvesTo  \\\n",
       "0  {'url': 'https://prices.pokemontcg.io/tcgplaye...         NaN   \n",
       "1  {'url': 'https://prices.pokemontcg.io/tcgplaye...  [Simipour]   \n",
       "2  {'url': 'https://prices.pokemontcg.io/tcgplaye...   [Altaria]   \n",
       "\n",
       "                              resistances abilities rules  \n",
       "0                                     NaN       NaN   NaN  \n",
       "1                                     NaN       NaN   NaN  \n",
       "2  [{'type': 'Fighting', 'value': '-30'}]       NaN   NaN  \n",
       "\n",
       "[3 rows x 24 columns]"
      ],
      "text/html": "<div>\n<style scoped>\n    .dataframe tbody tr th:only-of-type {\n        vertical-align: middle;\n    }\n\n    .dataframe tbody tr th {\n        vertical-align: top;\n    }\n\n    .dataframe thead th {\n        text-align: right;\n    }\n</style>\n<table border=\"1\" class=\"dataframe\">\n  <thead>\n    <tr style=\"text-align: right;\">\n      <th></th>\n      <th>id</th>\n      <th>name</th>\n      <th>supertype</th>\n      <th>subtypes</th>\n      <th>hp</th>\n      <th>types</th>\n      <th>evolvesFrom</th>\n      <th>attacks</th>\n      <th>weaknesses</th>\n      <th>retreatCost</th>\n      <th>...</th>\n      <th>rarity</th>\n      <th>flavorText</th>\n      <th>nationalPokedexNumbers</th>\n      <th>legalities</th>\n      <th>images</th>\n      <th>tcgplayer</th>\n      <th>evolvesTo</th>\n      <th>resistances</th>\n      <th>abilities</th>\n      <th>rules</th>\n    </tr>\n  </thead>\n  <tbody>\n    <tr>\n      <th>0</th>\n      <td>swsh4-42</td>\n      <td>Barraskewda</td>\n      <td>Pokémon</td>\n      <td>[Stage 1]</td>\n      <td>120</td>\n      <td>[Water]</td>\n      <td>Arrokuda</td>\n      <td>[{'name': 'Targeted Skewer', 'cost': ['Water']...</td>\n      <td>[{'type': 'Lightning', 'value': '×2'}]</td>\n      <td>[Colorless]</td>\n      <td>...</td>\n      <td>Rare</td>\n      <td>This Pokémon has a jaw that's as sharp as a sp...</td>\n      <td>[847]</td>\n      <td>{'unlimited': 'Legal', 'standard': 'Legal', 'e...</td>\n      <td>{'small': 'https://images.pokemontcg.io/swsh4/...</td>\n      <td>{'url': 'https://prices.pokemontcg.io/tcgplaye...</td>\n      <td>NaN</td>\n      <td>NaN</td>\n      <td>NaN</td>\n      <td>NaN</td>\n    </tr>\n    <tr>\n      <th>1</th>\n      <td>swsh3-41</td>\n      <td>Panpour</td>\n      <td>Pokémon</td>\n      <td>[Basic]</td>\n      <td>60</td>\n      <td>[Water]</td>\n      <td>NaN</td>\n      <td>[{'name': 'Water Gun', 'cost': ['Water'], 'con...</td>\n      <td>[{'type': 'Lightning', 'value': '×2'}]</td>\n      <td>[Colorless]</td>\n      <td>...</td>\n      <td>Common</td>\n      <td>The water stored inside the tuft on its head i...</td>\n      <td>[515]</td>\n      <td>{'unlimited': 'Legal', 'standard': 'Legal', 'e...</td>\n      <td>{'small': 'https://images.pokemontcg.io/swsh3/...</td>\n      <td>{'url': 'https://prices.pokemontcg.io/tcgplaye...</td>\n      <td>[Simipour]</td>\n      <td>NaN</td>\n      <td>NaN</td>\n      <td>NaN</td>\n    </tr>\n    <tr>\n      <th>2</th>\n      <td>swsh35-48</td>\n      <td>Swablu</td>\n      <td>Pokémon</td>\n      <td>[Basic]</td>\n      <td>50</td>\n      <td>[Colorless]</td>\n      <td>NaN</td>\n      <td>[{'name': 'Peck', 'cost': ['Colorless'], 'conv...</td>\n      <td>[{'type': 'Lightning', 'value': '×2'}]</td>\n      <td>[Colorless]</td>\n      <td>...</td>\n      <td>Common</td>\n      <td>It constantly grooms its cotton-like wings. It...</td>\n      <td>[333]</td>\n      <td>{'unlimited': 'Legal', 'standard': 'Legal', 'e...</td>\n      <td>{'small': 'https://images.pokemontcg.io/swsh35...</td>\n      <td>{'url': 'https://prices.pokemontcg.io/tcgplaye...</td>\n      <td>[Altaria]</td>\n      <td>[{'type': 'Fighting', 'value': '-30'}]</td>\n      <td>NaN</td>\n      <td>NaN</td>\n    </tr>\n  </tbody>\n</table>\n<p>3 rows × 24 columns</p>\n</div>"
     },
     "metadata": {},
     "execution_count": 23
    }
   ]
  },
  {
   "cell_type": "code",
   "execution_count": 25,
   "id": "980a88fa",
   "metadata": {},
   "outputs": [
    {
     "output_type": "execute_result",
     "data": {
      "text/plain": [
       "Index(['id', 'name', 'supertype', 'subtypes', 'hp', 'types', 'rules',\n",
       "       'attacks', 'weaknesses', 'retreatCost', 'convertedRetreatCost', 'set',\n",
       "       'number', 'artist', 'rarity', 'nationalPokedexNumbers', 'legalities',\n",
       "       'images', 'tcgplayer', 'evolvesTo', 'flavorText', 'evolvesFrom',\n",
       "       'abilities', 'resistances'],\n",
       "      dtype='object')"
      ]
     },
     "metadata": {},
     "execution_count": 25
    }
   ],
   "source": [
    "swshseries1_df.columns"
   ]
  },
  {
   "cell_type": "code",
   "execution_count": null,
   "metadata": {},
   "outputs": [],
   "source": []
  }
 ],
 "metadata": {
  "kernelspec": {
   "name": "python379jvsc74a57bd03a4dc42eba70cb6e22ac72c088bb3a50b10bbb215de187733a453ddcda224160",
   "display_name": "Python 3.7.9 64-bit ('PythonData': conda)"
  },
  "language_info": {
   "codemirror_mode": {
    "name": "ipython",
    "version": 3
   },
   "file_extension": ".py",
   "mimetype": "text/x-python",
   "name": "python",
   "nbconvert_exporter": "python",
   "pygments_lexer": "ipython3",
   "version": "3.7.9"
  }
 },
 "nbformat": 4,
 "nbformat_minor": 5
}